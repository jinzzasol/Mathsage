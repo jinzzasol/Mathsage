{
 "cells": [
  {
   "cell_type": "markdown",
   "id": "68458d06",
   "metadata": {},
   "source": [
    "# MathQA Preprocessing2"
   ]
  },
  {
   "cell_type": "markdown",
   "id": "7e416fe9",
   "metadata": {},
   "source": [
    "Here some adjustments are made to the original preprocessed data in a separate file, so the first file does not need to be rerun"
   ]
  },
  {
   "cell_type": "markdown",
   "id": "bec8a1ea",
   "metadata": {},
   "source": [
    "#### Imports"
   ]
  },
  {
   "cell_type": "code",
   "execution_count": 175,
   "id": "91460e20",
   "metadata": {},
   "outputs": [],
   "source": [
    "from enum import Enum\n",
    "import os\n",
    "import anytree\n",
    "from anytree import RenderTree\n",
    "from anytree.importer import DictImporter\n",
    "import pandas as pd\n",
    "from itertools import permutations\n",
    "import seaborn as sns\n",
    "import math\n",
    "import numpy as np\n",
    "import torch\n",
    "import torch.nn.functional as F\n",
    "from torch import nn\n",
    "from transformers import AutoTokenizer, AutoModel, TrainingArguments, Trainer, AutoModelForMaskedLM, DataCollatorForLanguageModeling\n",
    "from sklearn.metrics import f1_score, accuracy_score\n",
    "from datasets import Dataset\n",
    "from peft import LoraConfig, get_peft_model, TaskType, PeftModel\n",
    "from sklearn.utils.class_weight import compute_class_weight\n",
    "import re\n",
    "import pickle\n",
    "from copy import deepcopy\n",
    "import warnings"
   ]
  },
  {
   "cell_type": "markdown",
   "id": "4c533166",
   "metadata": {},
   "source": [
    "#### Constants"
   ]
  },
  {
   "cell_type": "code",
   "execution_count": 171,
   "id": "3ebb8ae9",
   "metadata": {},
   "outputs": [],
   "source": [
    "K = 6\n",
    "MAX_LAYERS = 8\n",
    "\n",
    "DATA_PATH = './dataset/'\n",
    "SET_NAMES = ['train', 'validation', 'test']\n",
    "ENCODER_MODEL = 'distilroberta-base' # A more optimized version of roberta obtaining 95% of its performance\n",
    "MAX_TOKENS = 392\n",
    "DEVICE = 'cuda:0'\n",
    "NUM_MASK = '<num>'\n",
    "WORKING_DIR = 'TEMP/'\n",
    "\n",
    "OBJ_DIR = 'pickle/'\n",
    "\n",
    "\n",
    "class Op(Enum):\n",
    "    ADD = '+'\n",
    "    SUB = '-'\n",
    "    MULT = '*'\n",
    "    DIV = '/'\n",
    "    POW = '^'\n",
    "    \n",
    "class Const(Enum):\n",
    "    CONST_NEG_1 = 'const_neg_1' # I added this\n",
    "    CONST_0_25 = 'const_0_25'\n",
    "    CONST_0_2778 = 'const_0_2778'\n",
    "    CONST_0_33 = 'const_0_33'\n",
    "    CONST_0_3937 = 'const_0_3937'\n",
    "    CONST_1 = 'const_1'\n",
    "    CONST_1_6 = 'const_1_6'\n",
    "    CONST_2 = 'const_2'\n",
    "    CONST_3 = 'const_3'\n",
    "    CONST_PI = 'const_pi'\n",
    "    CONST_3_6 = 'const_3_6'\n",
    "    CONST_4 = 'const_4'\n",
    "    CONST_5 = 'const_5'\n",
    "    CONST_6 = 'const_6'\n",
    "    CONST_10 = 'const_10'\n",
    "    CONST_12 = 'const_12'\n",
    "    CONST_26 = 'const_26'\n",
    "    CONST_52 = 'const_52'\n",
    "    CONST_60 = 'const_60'\n",
    "    CONST_100 = 'const_100'\n",
    "    CONST_180 = 'const_180'\n",
    "    CONST_360 = 'const_360'\n",
    "    CONST_1000 = 'const_1000'\n",
    "    CONST_3600 = 'const_3600'\n",
    "\n",
    "values = [-1, 0.25, 0.2778, 0.33, 0.3937, 1, 1.6, 2, 3, math.pi, 3.6, 4, 5, 6, 10, 12, 26, 52, 60, 100, 180, 360, 1000, 3600]\n",
    "const2val = {k:v for k,v in zip(Const._value2member_map_.keys(), values)}    \n",
    "\n",
    "op2id = {k:v for k,v in zip(Op._value2member_map_.keys(), range(len(Op._value2member_map_)))}\n",
    "const2id = {k:v for k,v in zip(Const._value2member_map_.keys(), range(len(Const._value2member_map_)))}"
   ]
  },
  {
   "cell_type": "markdown",
   "id": "d173715e",
   "metadata": {},
   "source": [
    "## Loading the data"
   ]
  },
  {
   "cell_type": "code",
   "execution_count": 168,
   "id": "eb685555",
   "metadata": {},
   "outputs": [],
   "source": [
    "data = {name:pd.read_csv(f'{DATA_PATH}{name}.csv') for name in SET_NAMES}"
   ]
  },
  {
   "cell_type": "markdown",
   "id": "24a7f0ef",
   "metadata": {},
   "source": [
    "## Preprocessing"
   ]
  },
  {
   "cell_type": "markdown",
   "id": "d248529e",
   "metadata": {},
   "source": [
    "This function reads the stored expression tree dictionary representations back into anytree obects. Print tree is for debugging."
   ]
  },
  {
   "cell_type": "code",
   "execution_count": 169,
   "id": "594d6666",
   "metadata": {},
   "outputs": [],
   "source": [
    "# Outputs a tree given its root in human readable format\n",
    "def print_tree(tree):\n",
    "    for pre, fill, node in RenderTree(tree):\n",
    "        print(\"%s%s\" % (pre, node.name)) \n",
    "\n",
    "# Imports all trees from the data\n",
    "def import_trees(name):\n",
    "    importer = DictImporter()\n",
    "    return np.array([importer.import_(eval(tree)) for tree in data[name]['tree']])\n",
    "\n",
    "trees = {name:import_trees(name) for name in SET_NAMES}"
   ]
  },
  {
   "cell_type": "code",
   "execution_count": 170,
   "id": "d516e0f0",
   "metadata": {},
   "outputs": [],
   "source": [
    "data['train'] = data['train'].drop(columns=['incremental_no_const'])\n",
    "data['test'] = data['test'].drop(columns=['incremental_no_const'])\n",
    "data['validation'] = data['validation'].drop(columns=['incremental_no_const'])"
   ]
  },
  {
   "cell_type": "markdown",
   "id": "fab222b3",
   "metadata": {},
   "source": [
    "Here the labels are created for training. Labels are created in a step wise approach, where each step includes all independent expressions."
   ]
  },
  {
   "cell_type": "code",
   "execution_count": 172,
   "id": "0670ca8a",
   "metadata": {},
   "outputs": [],
   "source": [
    "def list_str(arr):\n",
    "    result = f\"['{arr[0]}'\"\n",
    "    for x in arr[1:]:\n",
    "        if x:\n",
    "            result += f\", '{x}'\"\n",
    "        else:\n",
    "            result += f', {x}'\n",
    "    result += ']'\n",
    "    return result\n",
    "\n",
    "def create_label(root):\n",
    "    # making sure source tree is not overwritten\n",
    "    root = deepcopy(root)\n",
    "    \n",
    "    results = []\n",
    "    problem_idx = []\n",
    "    \n",
    "    idx = 1\n",
    "    \n",
    "    while root and root.children:\n",
    "        #print_tree(root)\n",
    "        ret = create_label_helper(root, idx)\n",
    "        \n",
    "        # if result is none, K was exceeded\n",
    "        if ret is None:\n",
    "            return None\n",
    "        else:\n",
    "            idx, result = ret\n",
    "\n",
    "        idx = idx\n",
    "        results.append(list_str(result))\n",
    "\n",
    "    if len(results) > MAX_LAYERS:\n",
    "        return None\n",
    "    else:\n",
    "        return ' ; '.join(results)\n",
    "\n",
    "def create_label_helper(root, idx):    \n",
    "    if not root:\n",
    "        return None\n",
    "    \n",
    "    # final equation results\n",
    "    results = {}\n",
    "    \n",
    "    # stack for traversing tree\n",
    "    stack = []\n",
    "    stack.append(root) \n",
    "    \n",
    "    while len(stack) > 0:\n",
    "        curr = stack.pop()\n",
    "        \n",
    "        # found an equation pair\n",
    "        if len(curr.children) == 2 and not curr.children[0].children and not curr.children[1].children:\n",
    "            eq = f'{curr.children[0].name} {curr.name} {curr.children[1].name}'\n",
    "            reverse = f'{curr.children[1].name} {curr.name} {curr.children[0].name}'\n",
    "            \n",
    "            # adding equation (if addition or multiplication, order does not matter)\n",
    "            if curr.name in [Op.ADD.value, Op.MULT.value]:\n",
    "                if eq not in results and reverse not in results:\n",
    "                    results[eq] = idx\n",
    "                    idx += 1                    \n",
    "            elif eq not in results:\n",
    "                results[eq] = idx\n",
    "                idx += 1\n",
    "\n",
    "            # marking as a variable\n",
    "            if eq in results:\n",
    "                curr.name = f'x{results[eq]}'\n",
    "            else:\n",
    "                curr.name = f'x{results[reverse]}'\n",
    "            curr.children = ()       \n",
    "            \n",
    "        if curr.children:\n",
    "            stack.append(curr.children[0])\n",
    "            stack.append(curr.children[1])\n",
    "    \n",
    "    results = list(results.keys())\n",
    "    \n",
    "    # If the number of independent formulas is greater than K, we have to throw out the label\n",
    "    if len(results) > K:\n",
    "        return None\n",
    "    \n",
    "    # Padding to length K\n",
    "    results.extend([None]*(K-len(results)))\n",
    "    \n",
    "    return idx, np.array(results)\n",
    "\n",
    "def create_all_labels(name):\n",
    "    labels = []\n",
    "    problem_idx = []\n",
    "    idx = 0\n",
    "    for tree in trees[name]:\n",
    "        label = create_label(tree)\n",
    "        if label is not None:\n",
    "            problem_idx.append(idx)\n",
    "            labels.append(label)\n",
    "        idx += 1\n",
    "    \n",
    "    return labels, problem_idx"
   ]
  },
  {
   "cell_type": "code",
   "execution_count": 176,
   "id": "250fb797",
   "metadata": {},
   "outputs": [
    {
     "name": "stderr",
     "output_type": "stream",
     "text": [
      "C:\\Users\\dunlo\\AppData\\Local\\Temp\\ipykernel_19608\\3106311535.py:5: SettingWithCopyWarning: \n",
      "A value is trying to be set on a copy of a slice from a DataFrame\n",
      "\n",
      "See the caveats in the documentation: https://pandas.pydata.org/pandas-docs/stable/user_guide/indexing.html#returning-a-view-versus-a-copy\n",
      "  data[name]['incremental'].iloc[problem_idx] = labels\n",
      "C:\\Users\\dunlo\\AppData\\Local\\Temp\\ipykernel_19608\\3106311535.py:5: SettingWithCopyWarning: \n",
      "A value is trying to be set on a copy of a slice from a DataFrame\n",
      "\n",
      "See the caveats in the documentation: https://pandas.pydata.org/pandas-docs/stable/user_guide/indexing.html#returning-a-view-versus-a-copy\n",
      "  data[name]['incremental'].iloc[problem_idx] = labels\n",
      "C:\\Users\\dunlo\\AppData\\Local\\Temp\\ipykernel_19608\\3106311535.py:5: SettingWithCopyWarning: \n",
      "A value is trying to be set on a copy of a slice from a DataFrame\n",
      "\n",
      "See the caveats in the documentation: https://pandas.pydata.org/pandas-docs/stable/user_guide/indexing.html#returning-a-view-versus-a-copy\n",
      "  data[name]['incremental'].iloc[problem_idx] = labels\n"
     ]
    }
   ],
   "source": [
    "# A problem idx is returned so we known if/what problems had to be dropped\n",
    "def update_date(name):\n",
    "    labels, problem_idx = create_all_labels(name)\n",
    "    data[name]['incremental'] = pd.NA\n",
    "    data[name]['incremental'].iloc[problem_idx] = labels\n",
    "with warnings.catch_warnings():\n",
    "    update_date('train')\n",
    "    update_date('test')\n",
    "    update_date('validation')"
   ]
  },
  {
   "cell_type": "code",
   "execution_count": 182,
   "id": "78689fa7",
   "metadata": {},
   "outputs": [],
   "source": [
    "data['train'] = data['train'].dropna()\n",
    "data['test'] = data['test'].dropna()\n",
    "data['validation'] = data['validation'].dropna()"
   ]
  },
  {
   "cell_type": "markdown",
   "id": "0e125a20",
   "metadata": {},
   "source": [
    "## Saving new results"
   ]
  },
  {
   "cell_type": "code",
   "execution_count": 183,
   "id": "7f717bc7",
   "metadata": {},
   "outputs": [],
   "source": [
    "for name in SET_NAMES:\n",
    "    data[name].to_csv(DATA_PATH+f'{name}.csv', index=False)"
   ]
  },
  {
   "cell_type": "code",
   "execution_count": null,
   "id": "52f8ad74",
   "metadata": {},
   "outputs": [],
   "source": []
  },
  {
   "cell_type": "code",
   "execution_count": null,
   "id": "071c81be",
   "metadata": {},
   "outputs": [],
   "source": []
  }
 ],
 "metadata": {
  "kernelspec": {
   "display_name": "torch",
   "language": "python",
   "name": "torch"
  },
  "language_info": {
   "codemirror_mode": {
    "name": "ipython",
    "version": 3
   },
   "file_extension": ".py",
   "mimetype": "text/x-python",
   "name": "python",
   "nbconvert_exporter": "python",
   "pygments_lexer": "ipython3",
   "version": "3.11.5"
  }
 },
 "nbformat": 4,
 "nbformat_minor": 5
}
