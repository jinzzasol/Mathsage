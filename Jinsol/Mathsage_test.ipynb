{
 "cells": [
  {
   "cell_type": "code",
   "execution_count": 7,
   "metadata": {},
   "outputs": [
    {
     "name": "stderr",
     "output_type": "stream",
     "text": [
      "If you want to use `BertLMHeadModel` as a standalone, add `is_decoder=True.`\n",
      "The model 'BertLMHeadModel' is not supported for text2text-generation. Supported models are ['BartForConditionalGeneration', 'BigBirdPegasusForConditionalGeneration', 'BlenderbotForConditionalGeneration', 'BlenderbotSmallForConditionalGeneration', 'EncoderDecoderModel', 'FSMTForConditionalGeneration', 'GPTSanJapaneseForConditionalGeneration', 'LEDForConditionalGeneration', 'LongT5ForConditionalGeneration', 'M2M100ForConditionalGeneration', 'MarianMTModel', 'MBartForConditionalGeneration', 'MT5ForConditionalGeneration', 'MvpForConditionalGeneration', 'NllbMoeForConditionalGeneration', 'PegasusForConditionalGeneration', 'PegasusXForConditionalGeneration', 'PLBartForConditionalGeneration', 'ProphetNetForConditionalGeneration', 'SwitchTransformersForConditionalGeneration', 'T5ForConditionalGeneration', 'UMT5ForConditionalGeneration', 'XLMProphetNetForConditionalGeneration'].\n"
     ]
    },
    {
     "name": "stdout",
     "output_type": "stream",
     "text": [
      "what is the sum of 2 and 3?\n"
     ]
    }
   ],
   "source": [
    "from transformers import pipeline\n",
    "\n",
    "# Load the fine-tuned model\n",
    "model = pipeline('text2text-generation', model='../data/MathBert_test', tokenizer='tbs17/MathBERT-custom')\n",
    "\n",
    "# Provide a math problem to the model\n",
    "problem = \"What is the sum of 2 and 3?\"\n",
    "result = model(problem, max_length=32, do_sample=False)\n",
    "\n",
    "# Extract the answer from the generated text\n",
    "answer = result[0]['generated_text'].strip()\n",
    "print(answer)"
   ]
  },
  {
   "cell_type": "code",
   "execution_count": 1,
   "metadata": {},
   "outputs": [
    {
     "ename": "TypeError",
     "evalue": "int() argument must be a string, a bytes-like object or a real number, not 'list'",
     "output_type": "error",
     "traceback": [
      "\u001b[1;31m---------------------------------------------------------------------------\u001b[0m",
      "\u001b[1;31mTypeError\u001b[0m                                 Traceback (most recent call last)",
      "\u001b[1;32mf:\\Code\\Mathsage\\Mathsage_test.ipynb Cell 2\u001b[0m line \u001b[0;36m2\n\u001b[0;32m     <a href='vscode-notebook-cell:/f%3A/Code/Mathsage/Mathsage_test.ipynb#W1sZmlsZQ%3D%3D?line=17'>18</a>\u001b[0m token_ids \u001b[39m=\u001b[39m last_hidden_states[\u001b[39m0\u001b[39m]\u001b[39m.\u001b[39mtolist()\n\u001b[0;32m     <a href='vscode-notebook-cell:/f%3A/Code/Mathsage/Mathsage_test.ipynb#W1sZmlsZQ%3D%3D?line=19'>20</a>\u001b[0m \u001b[39m# Decode the token ids to get the output text\u001b[39;00m\n\u001b[1;32m---> <a href='vscode-notebook-cell:/f%3A/Code/Mathsage/Mathsage_test.ipynb#W1sZmlsZQ%3D%3D?line=20'>21</a>\u001b[0m decoded_output \u001b[39m=\u001b[39m tokenizer\u001b[39m.\u001b[39;49mdecode(token_ids, skip_special_tokens\u001b[39m=\u001b[39;49m\u001b[39mTrue\u001b[39;49;00m)\n\u001b[0;32m     <a href='vscode-notebook-cell:/f%3A/Code/Mathsage/Mathsage_test.ipynb#W1sZmlsZQ%3D%3D?line=21'>22</a>\u001b[0m \u001b[39mprint\u001b[39m(decoded_output)\n",
      "File \u001b[1;32md:\\Anaconda3\\envs\\pytorch\\lib\\site-packages\\transformers\\tokenization_utils_base.py:3738\u001b[0m, in \u001b[0;36mPreTrainedTokenizerBase.decode\u001b[1;34m(self, token_ids, skip_special_tokens, clean_up_tokenization_spaces, **kwargs)\u001b[0m\n\u001b[0;32m   3735\u001b[0m \u001b[39m# Convert inputs to python lists\u001b[39;00m\n\u001b[0;32m   3736\u001b[0m token_ids \u001b[39m=\u001b[39m to_py_obj(token_ids)\n\u001b[1;32m-> 3738\u001b[0m \u001b[39mreturn\u001b[39;00m \u001b[39mself\u001b[39m\u001b[39m.\u001b[39m_decode(\n\u001b[0;32m   3739\u001b[0m     token_ids\u001b[39m=\u001b[39mtoken_ids,\n\u001b[0;32m   3740\u001b[0m     skip_special_tokens\u001b[39m=\u001b[39mskip_special_tokens,\n\u001b[0;32m   3741\u001b[0m     clean_up_tokenization_spaces\u001b[39m=\u001b[39mclean_up_tokenization_spaces,\n\u001b[0;32m   3742\u001b[0m     \u001b[39m*\u001b[39m\u001b[39m*\u001b[39mkwargs,\n\u001b[0;32m   3743\u001b[0m )\n",
      "File \u001b[1;32md:\\Anaconda3\\envs\\pytorch\\lib\\site-packages\\transformers\\tokenization_utils.py:1001\u001b[0m, in \u001b[0;36mPreTrainedTokenizer._decode\u001b[1;34m(self, token_ids, skip_special_tokens, clean_up_tokenization_spaces, spaces_between_special_tokens, **kwargs)\u001b[0m\n\u001b[0;32m    991\u001b[0m \u001b[39mdef\u001b[39;00m \u001b[39m_decode\u001b[39m(\n\u001b[0;32m    992\u001b[0m     \u001b[39mself\u001b[39m,\n\u001b[0;32m    993\u001b[0m     token_ids: List[\u001b[39mint\u001b[39m],\n\u001b[1;32m   (...)\u001b[0m\n\u001b[0;32m    997\u001b[0m     \u001b[39m*\u001b[39m\u001b[39m*\u001b[39mkwargs,\n\u001b[0;32m    998\u001b[0m ) \u001b[39m-\u001b[39m\u001b[39m>\u001b[39m \u001b[39mstr\u001b[39m:\n\u001b[0;32m    999\u001b[0m     \u001b[39mself\u001b[39m\u001b[39m.\u001b[39m_decode_use_source_tokenizer \u001b[39m=\u001b[39m kwargs\u001b[39m.\u001b[39mpop(\u001b[39m\"\u001b[39m\u001b[39muse_source_tokenizer\u001b[39m\u001b[39m\"\u001b[39m, \u001b[39mFalse\u001b[39;00m)\n\u001b[1;32m-> 1001\u001b[0m     filtered_tokens \u001b[39m=\u001b[39m \u001b[39mself\u001b[39;49m\u001b[39m.\u001b[39;49mconvert_ids_to_tokens(token_ids, skip_special_tokens\u001b[39m=\u001b[39;49mskip_special_tokens)\n\u001b[0;32m   1002\u001b[0m     legacy_added_tokens \u001b[39m=\u001b[39m \u001b[39mset\u001b[39m(\u001b[39mself\u001b[39m\u001b[39m.\u001b[39m_added_tokens_encoder\u001b[39m.\u001b[39mkeys()) \u001b[39m-\u001b[39m \u001b[39mset\u001b[39m(\u001b[39mself\u001b[39m\u001b[39m.\u001b[39mall_special_tokens) \u001b[39m|\u001b[39m {\n\u001b[0;32m   1003\u001b[0m         token \u001b[39mfor\u001b[39;00m token \u001b[39min\u001b[39;00m \u001b[39mself\u001b[39m\u001b[39m.\u001b[39madditional_special_tokens \u001b[39mif\u001b[39;00m \u001b[39mself\u001b[39m\u001b[39m.\u001b[39mconvert_tokens_to_ids(token) \u001b[39m>\u001b[39m\u001b[39m=\u001b[39m \u001b[39mself\u001b[39m\u001b[39m.\u001b[39mvocab_size\n\u001b[0;32m   1004\u001b[0m     }\n\u001b[0;32m   1005\u001b[0m     \u001b[39m# To avoid mixing byte-level and unicode for byte-level BPT\u001b[39;00m\n\u001b[0;32m   1006\u001b[0m     \u001b[39m# we need to build string separately for added tokens and byte-level tokens\u001b[39;00m\n\u001b[0;32m   1007\u001b[0m     \u001b[39m# cf. https://github.com/huggingface/transformers/issues/1133\u001b[39;00m\n",
      "File \u001b[1;32md:\\Anaconda3\\envs\\pytorch\\lib\\site-packages\\transformers\\tokenization_utils.py:976\u001b[0m, in \u001b[0;36mPreTrainedTokenizer.convert_ids_to_tokens\u001b[1;34m(self, ids, skip_special_tokens)\u001b[0m\n\u001b[0;32m    974\u001b[0m tokens \u001b[39m=\u001b[39m []\n\u001b[0;32m    975\u001b[0m \u001b[39mfor\u001b[39;00m index \u001b[39min\u001b[39;00m ids:\n\u001b[1;32m--> 976\u001b[0m     index \u001b[39m=\u001b[39m \u001b[39mint\u001b[39;49m(index)\n\u001b[0;32m    977\u001b[0m     \u001b[39mif\u001b[39;00m skip_special_tokens \u001b[39mand\u001b[39;00m index \u001b[39min\u001b[39;00m \u001b[39mself\u001b[39m\u001b[39m.\u001b[39mall_special_ids:\n\u001b[0;32m    978\u001b[0m         \u001b[39mcontinue\u001b[39;00m\n",
      "\u001b[1;31mTypeError\u001b[0m: int() argument must be a string, a bytes-like object or a real number, not 'list'"
     ]
    }
   ],
   "source": [
    "from transformers import BartModel, BartTokenizer\n",
    "\n",
    "# Load the fine-tuned model\n",
    "tokenizer = BartTokenizer.from_pretrained('facebook/bart-large')\n",
    "model = BartModel.from_pretrained('facebook/bart-large')\n",
    "\n",
    "# Provide a math problem to the model\n",
    "problem = \"What is the sum of 2 and 3?\"\n",
    "inputs = tokenizer(problem, return_tensors='pt')\n",
    "\n",
    "# Generate the output\n",
    "outputs = model(**inputs)\n",
    "\n",
    "# Decode the output\n",
    "last_hidden_states = outputs.last_hidden_state\n",
    "\n",
    "# Convert tensor to list of token ids\n",
    "token_ids = last_hidden_states[0].tolist()\n",
    "\n",
    "# Decode the token ids to get the output text\n",
    "decoded_output = tokenizer.decode(token_ids, skip_special_tokens=True)\n",
    "print(decoded_output)\n"
   ]
  },
  {
   "cell_type": "markdown",
   "metadata": {},
   "source": [
    "# Load MathBert pretrained model\n",
    "\n",
    "Use MathBert from Jia Tracy Shen, Michiharu Yamashita, Ethan Prihar, Neil Heffernan, Xintao Wu, Ben Graff, Dongwon Lee (2023) \"MathBERT: A Pre-trained Language Model for General NLP Tasks in Mathematics Education\". . doi:[10.48550/arXiv.2106.07340](https://doi.org/10.48550/arXiv.2106.07340)"
   ]
  },
  {
   "cell_type": "code",
   "execution_count": null,
   "metadata": {},
   "outputs": [],
   "source": [
    "# Create new index\n",
    "train_idx = [i for i in range(len(train.index))]\n",
    "test_idx = [i for i in range(len(test.index))]\n",
    "val_idx = [i for i in range(len(val.index))]\n",
    "\n",
    "# Convert to numpy\n",
    "x_train = train['text'].values[train_idx]\n",
    "x_test = test['text'].values[test_idx]\n",
    "x_val = val['text'].values[val_idx]\n",
    "\n",
    "y_train = train['label'].values[train_idx]\n",
    "y_test = test['label'].values[test_idx]\n",
    "y_val = val['label'].values[val_idx]\n"
   ]
  },
  {
   "cell_type": "code",
   "execution_count": null,
   "metadata": {},
   "outputs": [],
   "source": [
    "train = Dataset.from_pandas(train, preserve_index=False)\n",
    "val = Dataset.from_pandas(val, preserve_index=False)\n",
    "test = Dataset.from_pandas(test, preserve_index=False)"
   ]
  },
  {
   "cell_type": "code",
   "execution_count": null,
   "metadata": {},
   "outputs": [
    {
     "name": "stderr",
     "output_type": "stream",
     "text": [
      "Some weights of the model checkpoint at tbs17/MathBERT-custom were not used when initializing BertForMaskedLM: ['cls.seq_relationship.weight', 'bert.pooler.dense.weight', 'bert.pooler.dense.bias', 'cls.seq_relationship.bias']\n",
      "- This IS expected if you are initializing BertForMaskedLM from the checkpoint of a model trained on another task or with another architecture (e.g. initializing a BertForSequenceClassification model from a BertForPreTraining model).\n",
      "- This IS NOT expected if you are initializing BertForMaskedLM from the checkpoint of a model that you expect to be exactly identical (initializing a BertForSequenceClassification model from a BertForSequenceClassification model).\n"
     ]
    }
   ],
   "source": [
    "# # Pytorch Version is available via Hugging Face Transformers\n",
    "# from transformers import AutoTokenizer\n",
    "# from transformers import AutoModelForMaskedLM\n",
    "\n",
    "# TEST_MODEL = r'tbs17/MathBERT-custom'\n",
    "\n",
    "# # Download the MathBERT -basevocab\n",
    "# # tokenizer = AutoTokenizer.from_pretrained(\"tbs17/MathBERT\")\n",
    "# # model = AutoModelForMaskedLM.from_pretrained(\"tbs17/MathBERT\")\n",
    "\n",
    "# # Download the MathBERT -mathvocab\n",
    "# tokenizer = AutoTokenizer.from_pretrained(\"tbs17/MathBERT-custom\")\n",
    "# model = AutoModelForMaskedLM.from_pretrained(\"tbs17/MathBERT-custom\")"
   ]
  },
  {
   "cell_type": "code",
   "execution_count": null,
   "metadata": {},
   "outputs": [],
   "source": [
    "def tokenization(items):\n",
    "    tokenized = tokenizer(items['text'], max_length = 256, padding = 'max_length', truncation=True)\n",
    "    return tokenized\n",
    "\n",
    "def tokenization_labels(items):\n",
    "    tokenized = tokenizer(items['text'], max_length = 256, padding = 'max_length', truncation=True)\n",
    "    tokenized['label'] = tokenizer(items['label'], max_length = 256, padding = 'max_length', truncation=True)['input_ids']\n",
    "    return tokenized"
   ]
  },
  {
   "cell_type": "code",
   "execution_count": null,
   "metadata": {},
   "outputs": [
    {
     "data": {
      "application/vnd.jupyter.widget-view+json": {
       "model_id": "e1f97a46122049bbbb8de39ca47b43c6",
       "version_major": 2,
       "version_minor": 0
      },
      "text/plain": [
       "Map:   0%|          | 0/14656 [00:00<?, ? examples/s]"
      ]
     },
     "metadata": {},
     "output_type": "display_data"
    }
   ],
   "source": [
    "train = train.map(tokenization, batched=True)"
   ]
  },
  {
   "cell_type": "code",
   "execution_count": null,
   "metadata": {},
   "outputs": [
    {
     "data": {
      "application/vnd.jupyter.widget-view+json": {
       "model_id": "d0524c5ea8614e67a74b1393822fea3a",
       "version_major": 2,
       "version_minor": 0
      },
      "text/plain": [
       "Map:   0%|          | 0/1832 [00:00<?, ? examples/s]"
      ]
     },
     "metadata": {},
     "output_type": "display_data"
    }
   ],
   "source": [
    "val = val.map(tokenization, batched=True)"
   ]
  },
  {
   "cell_type": "code",
   "execution_count": null,
   "metadata": {},
   "outputs": [
    {
     "data": {
      "application/vnd.jupyter.widget-view+json": {
       "model_id": "efdadf47a32144a69b80db639b825dd7",
       "version_major": 2,
       "version_minor": 0
      },
      "text/plain": [
       "Map:   0%|          | 0/1833 [00:00<?, ? examples/s]"
      ]
     },
     "metadata": {},
     "output_type": "display_data"
    }
   ],
   "source": [
    "test = test.map(tokenization_labels, batched=True)"
   ]
  },
  {
   "cell_type": "code",
   "execution_count": null,
   "metadata": {},
   "outputs": [],
   "source": [
    "from transformers import pipeline, TrainingArguments, Trainer, AutoModelForQuestionAnswering\n",
    "from trl import SFTTrainer\n",
    "import evaluate\n",
    "import numpy as np"
   ]
  },
  {
   "cell_type": "code",
   "execution_count": null,
   "metadata": {},
   "outputs": [
    {
     "name": "stderr",
     "output_type": "stream",
     "text": [
      "d:\\Anaconda3\\envs\\pytorch\\lib\\site-packages\\trl\\trainer\\sft_trainer.py:125: UserWarning: You passed a model_id to the SFTTrainer. This will automatically create an `AutoModelForCausalLM` or a `PeftModel` (if you passed a `peft_config`) for you.\n",
      "  warnings.warn(\n",
      "If you want to use `BertLMHeadModel` as a standalone, add `is_decoder=True.`\n"
     ]
    },
    {
     "data": {
      "application/vnd.jupyter.widget-view+json": {
       "model_id": "d046a8eaa80943b0b2e14b86cf33f782",
       "version_major": 2,
       "version_minor": 0
      },
      "text/plain": [
       "Map:   0%|          | 0/14656 [00:00<?, ? examples/s]"
      ]
     },
     "metadata": {},
     "output_type": "display_data"
    },
    {
     "data": {
      "application/vnd.jupyter.widget-view+json": {
       "model_id": "6113aaad36194876b4c2005f9a6ea7e3",
       "version_major": 2,
       "version_minor": 0
      },
      "text/plain": [
       "Map:   0%|          | 0/1832 [00:00<?, ? examples/s]"
      ]
     },
     "metadata": {},
     "output_type": "display_data"
    }
   ],
   "source": [
    "metric = evaluate.load('f1')\n",
    "\n",
    "def compute_metrics(pred):\n",
    "    output, labels = pred\n",
    "    return metric.compute(predictions=np.argmax(output, axis=-1), references=labels)\n",
    "\n",
    "args = TrainingArguments(\n",
    "    output_dir='/Code/data/MathQA_DB/temp',\n",
    "    evaluation_strategy=\"epoch\", # Reports the metric after each epoch\n",
    "    per_device_train_batch_size = 8,\n",
    "    per_device_eval_batch_size = 8,\n",
    ")\n",
    "\n",
    "trainer = SFTTrainer(\n",
    "    model = TEST_MODEL,\n",
    "    args = args,\n",
    "    train_dataset = train,\n",
    "    eval_dataset = val,\n",
    "    tokenizer=tokenizer,\n",
    "    max_seq_length=256,\n",
    "    dataset_text_field='text',\n",
    ")"
   ]
  },
  {
   "cell_type": "code",
   "execution_count": null,
   "metadata": {},
   "outputs": [],
   "source": [
    "import torch\n",
    "torch.cuda.is_available = lambda : False\n",
    "device = torch.device('cuda' if torch.cuda.is_available() else 'cpu')"
   ]
  },
  {
   "cell_type": "code",
   "execution_count": null,
   "metadata": {},
   "outputs": [
    {
     "data": {
      "application/vnd.jupyter.widget-view+json": {
       "model_id": "56127d3dd2ed4bfdbc61200fa62b21a8",
       "version_major": 2,
       "version_minor": 0
      },
      "text/plain": [
       "  0%|          | 0/5496 [00:00<?, ?it/s]"
      ]
     },
     "metadata": {},
     "output_type": "display_data"
    },
    {
     "name": "stderr",
     "output_type": "stream",
     "text": [
      "You're using a BertTokenizerFast tokenizer. Please note that with a fast tokenizer, using the `__call__` method is faster than using a method to encode the text followed by a call to the `pad` method to get a padded encoding.\n"
     ]
    },
    {
     "name": "stdout",
     "output_type": "stream",
     "text": [
      "{'loss': 0.8319, 'learning_rate': 4.5451237263464344e-05, 'epoch': 0.27}\n",
      "{'loss': 0.0425, 'learning_rate': 4.090247452692867e-05, 'epoch': 0.55}\n",
      "{'loss': 0.0193, 'learning_rate': 3.6353711790393013e-05, 'epoch': 0.82}\n"
     ]
    },
    {
     "data": {
      "application/vnd.jupyter.widget-view+json": {
       "model_id": "2313ab89b745438794381f2809374863",
       "version_major": 2,
       "version_minor": 0
      },
      "text/plain": [
       "  0%|          | 0/229 [00:00<?, ?it/s]"
      ]
     },
     "metadata": {},
     "output_type": "display_data"
    },
    {
     "name": "stdout",
     "output_type": "stream",
     "text": [
      "{'eval_loss': 0.006190407555550337, 'eval_runtime': 12.514, 'eval_samples_per_second': 146.396, 'eval_steps_per_second': 18.299, 'epoch': 1.0}\n",
      "{'loss': 0.0107, 'learning_rate': 3.1804949053857355e-05, 'epoch': 1.09}\n",
      "{'loss': 0.0049, 'learning_rate': 2.725618631732169e-05, 'epoch': 1.36}\n",
      "{'loss': 0.0038, 'learning_rate': 2.2707423580786028e-05, 'epoch': 1.64}\n",
      "{'loss': 0.0035, 'learning_rate': 1.8158660844250363e-05, 'epoch': 1.91}\n"
     ]
    },
    {
     "data": {
      "application/vnd.jupyter.widget-view+json": {
       "model_id": "0b8808a7923043f589353e668f2e0a37",
       "version_major": 2,
       "version_minor": 0
      },
      "text/plain": [
       "  0%|          | 0/229 [00:00<?, ?it/s]"
      ]
     },
     "metadata": {},
     "output_type": "display_data"
    },
    {
     "name": "stdout",
     "output_type": "stream",
     "text": [
      "{'eval_loss': 0.0029049436561763287, 'eval_runtime': 13.8125, 'eval_samples_per_second': 132.634, 'eval_steps_per_second': 16.579, 'epoch': 2.0}\n",
      "{'loss': 0.0022, 'learning_rate': 1.3609898107714703e-05, 'epoch': 2.18}\n",
      "{'loss': 0.0014, 'learning_rate': 9.06113537117904e-06, 'epoch': 2.46}\n",
      "{'loss': 0.0008, 'learning_rate': 4.512372634643377e-06, 'epoch': 2.73}\n"
     ]
    },
    {
     "data": {
      "application/vnd.jupyter.widget-view+json": {
       "model_id": "2d5e7a1c39114bdeb476f6feac6d1996",
       "version_major": 2,
       "version_minor": 0
      },
      "text/plain": [
       "  0%|          | 0/229 [00:00<?, ?it/s]"
      ]
     },
     "metadata": {},
     "output_type": "display_data"
    },
    {
     "name": "stdout",
     "output_type": "stream",
     "text": [
      "{'eval_loss': 0.002342228777706623, 'eval_runtime': 12.5223, 'eval_samples_per_second': 146.299, 'eval_steps_per_second': 18.287, 'epoch': 3.0}\n",
      "{'train_runtime': 1071.9564, 'train_samples_per_second': 41.017, 'train_steps_per_second': 5.127, 'train_loss': 0.0838296020964738, 'epoch': 3.0}\n"
     ]
    },
    {
     "data": {
      "text/plain": [
       "TrainOutput(global_step=5496, training_loss=0.0838296020964738, metrics={'train_runtime': 1071.9564, 'train_samples_per_second': 41.017, 'train_steps_per_second': 5.127, 'train_loss': 0.0838296020964738, 'epoch': 3.0})"
      ]
     },
     "metadata": {},
     "output_type": "display_data"
    }
   ],
   "source": [
    "trainer.train()"
   ]
  },
  {
   "cell_type": "code",
   "execution_count": null,
   "metadata": {},
   "outputs": [],
   "source": [
    "trainer.save_model('/Code/data/MathBert_test')"
   ]
  },
  {
   "cell_type": "code",
   "execution_count": null,
   "metadata": {},
   "outputs": [
    {
     "name": "stderr",
     "output_type": "stream",
     "text": [
      "If you want to use `BertLMHeadModel` as a standalone, add `is_decoder=True.`\n",
      "The model 'BertLMHeadModel' is not supported for text2text-generation. Supported models are ['BartForConditionalGeneration', 'BigBirdPegasusForConditionalGeneration', 'BlenderbotForConditionalGeneration', 'BlenderbotSmallForConditionalGeneration', 'EncoderDecoderModel', 'FSMTForConditionalGeneration', 'GPTSanJapaneseForConditionalGeneration', 'LEDForConditionalGeneration', 'LongT5ForConditionalGeneration', 'M2M100ForConditionalGeneration', 'MarianMTModel', 'MBartForConditionalGeneration', 'MT5ForConditionalGeneration', 'MvpForConditionalGeneration', 'NllbMoeForConditionalGeneration', 'PegasusForConditionalGeneration', 'PegasusXForConditionalGeneration', 'PLBartForConditionalGeneration', 'ProphetNetForConditionalGeneration', 'SwitchTransformersForConditionalGeneration', 'T5ForConditionalGeneration', 'UMT5ForConditionalGeneration', 'XLMProphetNetForConditionalGeneration'].\n"
     ]
    },
    {
     "name": "stdout",
     "output_type": "stream",
     "text": [
      "The model failed to convert the problem \"What is the sum of 2 and 3?\" to a valid formula\n"
     ]
    }
   ],
   "source": [
    "from transformers import pipeline\n",
    "import re\n",
    "\n",
    "# Load the fine-tuned model\n",
    "model = pipeline('text2text-generation', model='/Code/data/MathBert_test', tokenizer='tbs17/MathBERT-custom')\n",
    "\n",
    "# Provide a math problem to the model\n",
    "problem = \"What is the sum of 2 and 3?\"\n",
    "result = model(problem, max_length=32, do_sample=False)\n",
    "\n",
    "# Extract the formula from the generated text\n",
    "formula = result[0]['generated_text'].strip()\n",
    "\n",
    "# Check if the formula is valid\n",
    "if re.match(r'^\\d+(\\s*[+\\-*/]\\s*\\d+)*$', formula):\n",
    "    print(f'The model converted the problem \"{problem}\" to the formula \"{formula}\"')\n",
    "else:\n",
    "    print(f'The model failed to convert the problem \"{problem}\" to a valid formula')\n"
   ]
  },
  {
   "cell_type": "markdown",
   "metadata": {},
   "source": [
    "## Test fine-tuned model\n",
    "\n",
    "THe kernel kept crashing; Use Mathsage_test instead."
   ]
  },
  {
   "cell_type": "code",
   "execution_count": null,
   "metadata": {},
   "outputs": [
    {
     "name": "stderr",
     "output_type": "stream",
     "text": [
      "If you want to use `BertLMHeadModel` as a standalone, add `is_decoder=True.`\n"
     ]
    },
    {
     "ename": "",
     "evalue": "",
     "output_type": "error",
     "traceback": [
      "\u001b[1;31mThe Kernel crashed while executing code in the the current cell or a previous cell. Please review the code in the cell(s) to identify a possible cause of the failure. Click <a href='https://aka.ms/vscodeJupyterKernelCrash'>here</a> for more info. View Jupyter <a href='command:jupyter.viewOutput'>log</a> for further details."
     ]
    }
   ],
   "source": [
    "from transformers import pipeline\n",
    "\n",
    "# Load the fine-tuned model\n",
    "model = pipeline('text2text-generation', model='/Code/data/MathBert_test', tokenizer='tbs17/MathBERT-custom')\n",
    "\n",
    "# Provide a math problem to the model\n",
    "problem = \"What is the sum of 2 and 3?\"\n",
    "result = model(problem, max_length=32, do_sample=False)\n",
    "\n",
    "# Extract the answer from the generated text\n",
    "answer = result\n",
    "print(answer)"
   ]
  },
  {
   "cell_type": "code",
   "execution_count": null,
   "metadata": {},
   "outputs": [],
   "source": []
  },
  {
   "cell_type": "code",
   "execution_count": null,
   "metadata": {},
   "outputs": [],
   "source": []
  }
 ],
 "metadata": {
  "kernelspec": {
   "display_name": "pytorch",
   "language": "python",
   "name": "python3"
  },
  "language_info": {
   "codemirror_mode": {
    "name": "ipython",
    "version": 3
   },
   "file_extension": ".py",
   "mimetype": "text/x-python",
   "name": "python",
   "nbconvert_exporter": "python",
   "pygments_lexer": "ipython3",
   "version": "3.10.13"
  }
 },
 "nbformat": 4,
 "nbformat_minor": 2
}
