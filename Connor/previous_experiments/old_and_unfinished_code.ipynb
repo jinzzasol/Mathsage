{
 "cells": [
  {
   "cell_type": "markdown",
   "id": "8c75b409-6839-403f-8860-75f2c80c73ac",
   "metadata": {},
   "source": [
    "# MathQA Expression AutoEncoder"
   ]
  },
  {
   "cell_type": "markdown",
   "id": "dc1fcf9b-2519-401a-8b04-b3238a756d31",
   "metadata": {},
   "source": [
    "#### Imports"
   ]
  },
  {
   "cell_type": "code",
   "execution_count": 1,
   "id": "464220d6-e63a-4169-90fd-57d52e22c9f6",
   "metadata": {},
   "outputs": [],
   "source": [
    "from enum import Enum\n",
    "import os\n",
    "import anytree\n",
    "from anytree import RenderTree\n",
    "from anytree.importer import DictImporter\n",
    "import pandas as pd\n",
    "from itertools import permutations\n",
    "import seaborn as sns\n",
    "import math\n",
    "import numpy as np\n",
    "import torch\n",
    "import torch.nn.functional as F\n",
    "from torch import nn\n",
    "from transformers import AutoTokenizer, AutoModel, TrainingArguments, Trainer, AutoModelForMaskedLM, DataCollatorForLanguageModeling\n",
    "from sklearn.metrics import f1_score, accuracy_score\n",
    "from datasets import Dataset\n",
    "from peft import LoraConfig, get_peft_model, TaskType, PeftModel\n",
    "from sklearn.utils.class_weight import compute_class_weight\n",
    "import re\n",
    "import pickle\n",
    "from copy import deepcopy"
   ]
  },
  {
   "cell_type": "markdown",
   "id": "195f86a2-55e3-40f0-a590-b3a14eb03054",
   "metadata": {},
   "source": [
    "#### Constants"
   ]
  },
  {
   "cell_type": "code",
   "execution_count": 2,
   "id": "476061e2-de5e-4431-a808-7f726af07b01",
   "metadata": {},
   "outputs": [],
   "source": [
    "K = 6\n",
    "MAX_LAYERS = 8\n",
    "MAX_TOKENS = 392\n",
    "EMBEDDING_SIZE = 768\n",
    "\n",
    "DATA_PATH = './dataset/'\n",
    "SET_NAMES = ['train', 'validation', 'test']\n",
    "ENCODER_MODEL = 'distilroberta-base' # A more optimized version of roberta obtaining 95% of its performance\n",
    "DEVICE = 'cuda:0'\n",
    "NUM_MASK = '<num>'\n",
    "WORKING_DIR = 'TEMP/'\n",
    "\n",
    "OBJ_DIR = 'pickle/'\n",
    "\n",
    "\n",
    "class Op(Enum):\n",
    "    ADD = '+'\n",
    "    SUB = '-'\n",
    "    MULT = '*'\n",
    "    DIV = '/'\n",
    "    POW = '^'\n",
    "    \n",
    "class Const(Enum):\n",
    "    CONST_NEG_1 = 'const_neg_1' # I added this\n",
    "    CONST_0_25 = 'const_0_25'\n",
    "    CONST_0_2778 = 'const_0_2778'\n",
    "    CONST_0_33 = 'const_0_33'\n",
    "    CONST_0_3937 = 'const_0_3937'\n",
    "    CONST_1 = 'const_1'\n",
    "    CONST_1_6 = 'const_1_6'\n",
    "    CONST_2 = 'const_2'\n",
    "    CONST_3 = 'const_3'\n",
    "    CONST_PI = 'const_pi'\n",
    "    CONST_3_6 = 'const_3_6'\n",
    "    CONST_4 = 'const_4'\n",
    "    CONST_5 = 'const_5'\n",
    "    CONST_6 = 'const_6'\n",
    "    CONST_10 = 'const_10'\n",
    "    CONST_12 = 'const_12'\n",
    "    CONST_26 = 'const_26'\n",
    "    CONST_52 = 'const_52'\n",
    "    CONST_60 = 'const_60'\n",
    "    CONST_100 = 'const_100'\n",
    "    CONST_180 = 'const_180'\n",
    "    CONST_360 = 'const_360'\n",
    "    CONST_1000 = 'const_1000'\n",
    "    CONST_3600 = 'const_3600'\n",
    "\n",
    "values = [-1, 0.25, 0.2778, 0.33, 0.3937, 1, 1.6, 2, 3, math.pi, 3.6, 4, 5, 6, 10, 12, 26, 52, 60, 100, 180, 360, 1000, 3600]\n",
    "const2val = {k:v for k,v in zip(Const._value2member_map_.keys(), values)}    \n",
    "\n",
    "op2id = {k:v for k,v in zip(Op._value2member_map_.keys(), range(len(Op._value2member_map_)))}\n",
    "op2id['None'] = 5\n",
    "const2id = {k:v for k,v in zip(Const._value2member_map_.keys(), range(len(Const._value2member_map_)))}"
   ]
  },
  {
   "cell_type": "markdown",
   "id": "94e170af-f608-435e-bd5f-ef14fece739a",
   "metadata": {},
   "source": [
    "## Loading the data"
   ]
  },
  {
   "cell_type": "code",
   "execution_count": 3,
   "id": "63ad3aac-5362-43f8-8fe8-3b05aa405a9f",
   "metadata": {},
   "outputs": [],
   "source": [
    "data = {name:pd.read_csv(f'{DATA_PATH}{name}.csv') for name in SET_NAMES}"
   ]
  },
  {
   "cell_type": "markdown",
   "id": "62081ee2-4c84-42e4-93d0-9031ddf72292",
   "metadata": {},
   "source": [
    "## Getting Labels"
   ]
  },
  {
   "cell_type": "code",
   "execution_count": 135,
   "id": "0d66619a",
   "metadata": {},
   "outputs": [],
   "source": [
    "with open(f'{OBJ_DIR}embeddings/train/batch0.pickle', 'rb') as f:\n",
    "    embeddings = pickle.load(f)"
   ]
  },
  {
   "cell_type": "code",
   "execution_count": 54,
   "id": "4b3bc1f9-ffff-4519-97e9-831e055a1b8b",
   "metadata": {},
   "outputs": [],
   "source": [
    "def get_exp(name):\n",
    "    reorder = lambda x: (x[1], x[0], x[2])\n",
    "    convert_to_arr = lambda d: [[reorder(tuple(x.split())),idx] for idx, arr in enumerate(d.split(' ; ')) for x in eval(arr) if x is not None]\n",
    "    return data[name]['incremental'].map(convert_to_arr)\n",
    "#     return np.concatenate(data[name]['incremental'].map(convert_to_arr))\n",
    "\n",
    "#exp = np.concatenate([get_exp(name) for name in SET_NAMES])\n",
    "exp = get_exp('train')"
   ]
  },
  {
   "cell_type": "code",
   "execution_count": 173,
   "id": "076047e6",
   "metadata": {},
   "outputs": [
    {
     "name": "stdout",
     "output_type": "stream",
     "text": [
      "[0]\n",
      "[1]\n",
      "[2]\n",
      "\n",
      "[0, 2]\n",
      "[1, 5]\n",
      "[2, 2]\n",
      "\n",
      "[0, 2, (2, 5)]\n",
      "[1, 5, (0, 1)]\n",
      "[2, 2, 3]\n",
      "\n",
      "[0, 2, (2, 5), 5]\n",
      "[1, 5, (0, 1), ((2, 5), (0, 1))]\n",
      "[2, 2, 3, 2]\n",
      "\n",
      "[0, 2, (2, 5), 5, (5, ((2, 5), (0, 1)))]\n",
      "[1, 5, (0, 1), ((2, 5), (0, 1)), (0, 1)]\n",
      "[2, 2, 3, 2, 3]\n",
      "\n"
     ]
    }
   ],
   "source": [
    "id2const = {v:k for k, v in const2id.items()}\n",
    "\n",
    "def process_num(num, literals, idx, prob, prev):\n",
    "    if num in const2val:\n",
    "        return np.where((literals[idx==prob]==num))[0][0]\n",
    "    elif 'x' in num:\n",
    "        eq_idx = int(num[1:])-1\n",
    "        return (prev[0][eq_idx], prev[1][eq_idx])\n",
    "    else:\n",
    "        return np.where((literals[idx==prob]==str(float(num))))[0][0]\n",
    "\n",
    "num_literals = embeddings['num_literals']\n",
    "num_idx = np.array(embeddings['num_idx'])\n",
    "layer_idx = []\n",
    "num1_labels = []\n",
    "num2_labels = []\n",
    "op_labels = []\n",
    "for (op, num1, num2), layer in exp[0]:\n",
    "    num1_labels.append(process_num(num1, num_literals, num_idx, 0, (num1_labels, num2_labels)))\n",
    "    num2_labels.append(process_num(num2, num_literals, num_idx, 0, (num1_labels, num2_labels)))\n",
    "    op_labels.append(op2id[op])\n",
    "    layer_idx.append(layer)\n",
    "    print(num1_labels)\n",
    "    print(num2_labels)\n",
    "    print(op_labels)\n",
    "    print()"
   ]
  },
  {
   "cell_type": "code",
   "execution_count": 172,
   "id": "f21eebf7",
   "metadata": {},
   "outputs": [
    {
     "data": {
      "text/plain": [
       "array(['3.0', '10.0', '36.0', 'const_1', 'const_2', 'const_100'],\n",
       "      dtype='<U32')"
      ]
     },
     "execution_count": 172,
     "metadata": {},
     "output_type": "execute_result"
    }
   ],
   "source": [
    "num_literals[idx==0]"
   ]
  },
  {
   "cell_type": "code",
   "execution_count": 166,
   "id": "06229074",
   "metadata": {},
   "outputs": [
    {
     "data": {
      "text/plain": [
       "array(['3.0', '10.0', '36.0', 'const_1', 'const_1', 'const_1'],\n",
       "      dtype='<U32')"
      ]
     },
     "execution_count": 166,
     "metadata": {},
     "output_type": "execute_result"
    }
   ],
   "source": [
    "literals[idx==0]"
   ]
  },
  {
   "cell_type": "code",
   "execution_count": 137,
   "id": "f72c5f47",
   "metadata": {},
   "outputs": [
    {
     "data": {
      "text/plain": [
       "{'problem': tensor([[[ 1.5479e-01,  2.2711e-01,  1.1456e-03,  ..., -1.3655e-01,\n",
       "            6.2029e-02,  1.7538e-01],\n",
       "          [ 7.7430e-02, -3.4275e-01,  5.2688e-01,  ..., -3.3167e+00,\n",
       "            3.7329e-01,  1.8739e+00],\n",
       "          [ 4.1332e-01,  3.5344e+00, -5.5767e-01,  ..., -4.5617e+00,\n",
       "           -5.1729e-01,  1.5321e+00],\n",
       "          ...,\n",
       "          [ 4.0086e-01, -1.4287e+00,  1.9589e-01,  ...,  5.7325e-01,\n",
       "            5.6364e-01, -8.0716e-01],\n",
       "          [ 4.0086e-01, -1.4287e+00,  1.9589e-01,  ...,  5.7325e-01,\n",
       "            5.6364e-01, -8.0716e-01],\n",
       "          [ 4.0086e-01, -1.4287e+00,  1.9589e-01,  ...,  5.7325e-01,\n",
       "            5.6364e-01, -8.0716e-01]],\n",
       " \n",
       "         [[ 1.0875e-01,  2.0369e-01,  1.7802e-02,  ..., -2.2420e-01,\n",
       "            1.3723e-01,  3.5693e-02],\n",
       "          [ 1.4829e+00,  5.5949e-01,  4.7207e-01,  ..., -1.8843e+00,\n",
       "            3.7704e-01,  4.7303e-01],\n",
       "          [ 1.1472e+00,  4.3673e+00,  1.0028e-01,  ..., -4.0872e+00,\n",
       "           -2.9929e-01,  3.5677e-01],\n",
       "          ...,\n",
       "          [ 2.8341e-01, -1.5277e+00,  2.3142e-01,  ..., -1.4874e-01,\n",
       "            1.8042e-01, -6.1522e-01],\n",
       "          [ 2.8341e-01, -1.5277e+00,  2.3142e-01,  ..., -1.4874e-01,\n",
       "            1.8042e-01, -6.1522e-01],\n",
       "          [ 2.8341e-01, -1.5277e+00,  2.3142e-01,  ..., -1.4874e-01,\n",
       "            1.8042e-01, -6.1522e-01]],\n",
       " \n",
       "         [[ 8.3423e-02,  1.3706e-01,  7.5508e-03,  ...,  2.4889e-02,\n",
       "            1.0291e-01,  2.0871e-02],\n",
       "          [ 1.1308e+00, -1.7496e+00,  1.2852e-01,  ...,  9.6137e-01,\n",
       "            1.9063e+00, -3.6184e-01],\n",
       "          [ 8.4603e-01,  8.3777e-01,  3.2141e-01,  ...,  1.5152e-01,\n",
       "            1.0537e+00, -1.4210e-01],\n",
       "          ...,\n",
       "          [ 1.2050e-01, -8.1845e-01,  4.9919e-01,  ...,  9.1828e-01,\n",
       "            5.5775e-02, -8.7130e-01],\n",
       "          [ 1.2050e-01, -8.1845e-01,  4.9919e-01,  ...,  9.1828e-01,\n",
       "            5.5775e-02, -8.7130e-01],\n",
       "          [ 1.2050e-01, -8.1845e-01,  4.9919e-01,  ...,  9.1828e-01,\n",
       "            5.5775e-02, -8.7130e-01]],\n",
       " \n",
       "         ...,\n",
       " \n",
       "         [[ 5.7849e-02,  1.4427e-01,  6.6603e-02,  ..., -2.0754e-01,\n",
       "            7.9335e-02,  3.8961e-02],\n",
       "          [ 4.6480e-01, -1.4224e+00, -9.8652e-01,  ..., -1.8268e+00,\n",
       "            1.1444e+00,  8.6710e-01],\n",
       "          [-2.7790e-01,  2.7479e-01,  4.7508e-01,  ...,  8.9984e-01,\n",
       "            1.8729e-01,  1.3413e+00],\n",
       "          ...,\n",
       "          [ 1.7476e-01, -1.8927e+00,  3.0088e-01,  ...,  5.3127e-01,\n",
       "            4.7847e-01, -7.1842e-01],\n",
       "          [ 1.7476e-01, -1.8927e+00,  3.0088e-01,  ...,  5.3127e-01,\n",
       "            4.7847e-01, -7.1842e-01],\n",
       "          [ 1.7476e-01, -1.8927e+00,  3.0088e-01,  ...,  5.3127e-01,\n",
       "            4.7847e-01, -7.1842e-01]],\n",
       " \n",
       "         [[ 1.0180e-01,  1.4963e-01,  3.3212e-03,  ...,  8.2494e-03,\n",
       "            1.1241e-01,  1.3661e-02],\n",
       "          [ 1.4414e+00, -1.4332e+00,  3.0500e-03,  ..., -1.4755e+00,\n",
       "            1.9330e+00,  8.0470e-01],\n",
       "          [ 1.6882e+00,  2.6080e+00,  1.6603e-01,  ..., -5.4589e-01,\n",
       "            3.1319e-01,  2.0009e+00],\n",
       "          ...,\n",
       "          [ 4.6600e-01, -1.4690e+00,  1.6965e-01,  ...,  9.5025e-01,\n",
       "            5.9844e-01, -9.7778e-01],\n",
       "          [ 4.6600e-01, -1.4690e+00,  1.6965e-01,  ...,  9.5025e-01,\n",
       "            5.9844e-01, -9.7778e-01],\n",
       "          [ 4.6600e-01, -1.4690e+00,  1.6965e-01,  ...,  9.5025e-01,\n",
       "            5.9844e-01, -9.7778e-01]],\n",
       " \n",
       "         [[ 1.4965e-01,  7.0832e-02, -2.9551e-02,  ..., -1.5232e-01,\n",
       "            1.4314e-01,  1.1250e-01],\n",
       "          [ 4.0196e-01, -1.1040e+00, -1.1769e-01,  ..., -2.1130e+00,\n",
       "            8.9647e-01,  2.1286e+00],\n",
       "          [ 2.4761e-01, -6.7526e-01, -4.7727e-01,  ...,  5.1780e-02,\n",
       "            9.9134e-01,  1.4615e+00],\n",
       "          ...,\n",
       "          [ 1.7096e-01, -2.1104e+00,  2.4012e-01,  ...,  5.4801e-01,\n",
       "            5.1212e-01, -7.4857e-01],\n",
       "          [ 1.7096e-01, -2.1104e+00,  2.4012e-01,  ...,  5.4801e-01,\n",
       "            5.1212e-01, -7.4857e-01],\n",
       "          [ 1.7096e-01, -2.1104e+00,  2.4012e-01,  ...,  5.4801e-01,\n",
       "            5.1212e-01, -7.4857e-01]]], device='cuda:0'),\n",
       " 'mask': tensor([[1, 1, 1,  ..., 0, 0, 0],\n",
       "         [1, 1, 1,  ..., 0, 0, 0],\n",
       "         [1, 1, 1,  ..., 0, 0, 0],\n",
       "         ...,\n",
       "         [1, 1, 1,  ..., 0, 0, 0],\n",
       "         [1, 1, 1,  ..., 0, 0, 0],\n",
       "         [1, 1, 1,  ..., 0, 0, 0]], device='cuda:0', dtype=torch.int32),\n",
       " 'nums': tensor([[ 0.3330,  1.9565, -1.2056,  ..., -0.8565,  0.8773,  1.1536],\n",
       "         [ 0.6438,  1.8634, -0.7155,  ...,  0.6324,  1.4042,  1.3915],\n",
       "         [ 0.2300,  1.3455, -0.7449,  ...,  2.3113,  1.2338,  2.6616],\n",
       "         ...,\n",
       "         [ 0.1397,  0.1485, -0.0050,  ..., -0.0884,  0.1081,  0.0445],\n",
       "         [ 0.1226,  0.1623, -0.0122,  ..., -0.1207,  0.0835,  0.0499],\n",
       "         [ 0.1425,  0.1689, -0.0110,  ..., -0.1001,  0.0959,  0.0630]]),\n",
       " 'num_idx': tensor([0, 0, 0, 1, 1, 1, 2, 2, 3, 3, 4, 4, 4, 4, 5, 5, 5, 5, 6, 6, 7, 7, 7, 7,\n",
       "         7, 0, 0, 0, 1, 1, 1, 1, 1, 1, 1, 2, 2, 2, 2, 3, 3, 3, 4, 4, 4, 4, 5, 6,\n",
       "         6, 6, 7, 7, 7, 7, 7, 7]),\n",
       " 'num_literals': array(['3.0', '10.0', '36.0', '2.0', '3.0', '90.0', '120.0', '50.0',\n",
       "        '10.0', '20.0', '218.0', '12.0', '16.0', '30.0', '6.0', '8.0',\n",
       "        '3.0', '4.0', '25.0', '20.0', '4.0', '5.0', '4.0', '5.0', '36.0',\n",
       "        'const_1', 'const_2', 'const_100', 'const_neg_1', 'const_1',\n",
       "        'const_2', 'const_3', 'const_4', 'const_10', 'const_12', 'const_1',\n",
       "        'const_2', 'const_10', 'const_100', 'const_1', 'const_2',\n",
       "        'const_3', 'const_1', 'const_2', 'const_10', 'const_100',\n",
       "        'const_1', 'const_1', 'const_2', 'const_100', 'const_1', 'const_3',\n",
       "        'const_4', 'const_10', 'const_12', 'const_100'], dtype='<U32'),\n",
       " 'ops': tensor([[ 0.0802,  1.0759,  0.3230,  ..., -0.1903,  0.5719, -1.2755],\n",
       "         [-1.4345, -0.3957, -0.0621,  ..., -1.0393,  0.1763, -1.3753],\n",
       "         [ 1.0296,  0.7203,  1.0952,  ...,  0.7632,  0.6675,  1.2699],\n",
       "         [-0.8268,  1.4606, -0.7367,  ...,  0.8490, -0.9101, -0.7697],\n",
       "         [-0.7667,  2.2804, -2.2384,  ...,  0.1580, -1.7890, -0.5694],\n",
       "         [ 0.4683,  0.1487,  0.2721,  ...,  0.9461, -1.0328, -0.7823]])}"
      ]
     },
     "execution_count": 137,
     "metadata": {},
     "output_type": "execute_result"
    }
   ],
   "source": [
    "embeddings"
   ]
  },
  {
   "cell_type": "code",
   "execution_count": 138,
   "id": "0d6b159f",
   "metadata": {},
   "outputs": [
    {
     "data": {
      "text/plain": [
       "torch.Size([56, 768])"
      ]
     },
     "execution_count": 138,
     "metadata": {},
     "output_type": "execute_result"
    }
   ],
   "source": [
    "embeddings['nums'].shape"
   ]
  },
  {
   "cell_type": "code",
   "execution_count": 49,
   "id": "ad6c26a8-8da0-4e50-9408-1dd6130bde30",
   "metadata": {},
   "outputs": [
    {
     "data": {
      "text/plain": [
       "[[('-', 'const_100', '5'), 0],\n",
       " [('+', 'const_100', '31.1'), 0],\n",
       " [('*', 'x2', 'const_100'), 1],\n",
       " [('/', 'x3', 'x1'), 2],\n",
       " [('-', 'x4', 'const_100'), 3]]"
      ]
     },
     "execution_count": 49,
     "metadata": {},
     "output_type": "execute_result"
    }
   ],
   "source": [
    "exp[0]"
   ]
  },
  {
   "cell_type": "code",
   "execution_count": 108,
   "id": "bfd911e6-3c0f-4ba4-a8bf-46829f52e4b2",
   "metadata": {},
   "outputs": [],
   "source": [
    "get_nums = lambda name: set([x for arr in data[name]['nums'] for x in eval(arr) if x not in const2val])\n",
    "all_nums = set.union(*[get_nums(name) for name in SET_NAMES])\n",
    "all_const = const2val.keys()"
   ]
  },
  {
   "cell_type": "code",
   "execution_count": 109,
   "id": "3046423f-51fd-4900-a3ab-51a4ce1b7eef",
   "metadata": {},
   "outputs": [
    {
     "data": {
      "text/plain": [
       "dict_keys(['const_neg_1', 'const_0_25', 'const_0_2778', 'const_0_33', 'const_0_3937', 'const_1', 'const_1_6', 'const_2', 'const_3', 'const_pi', 'const_3_6', 'const_4', 'const_5', 'const_6', 'const_10', 'const_12', 'const_26', 'const_52', 'const_60', 'const_100', 'const_180', 'const_360', 'const_1000', 'const_3600'])"
      ]
     },
     "execution_count": 109,
     "metadata": {},
     "output_type": "execute_result"
    }
   ],
   "source": [
    "all_const"
   ]
  },
  {
   "cell_type": "code",
   "execution_count": 100,
   "id": "b7a6e9b6-9747-443c-a6a6-50f2150ea38c",
   "metadata": {},
   "outputs": [],
   "source": [
    "num_const = 0\n",
    "num_nested = 0\n",
    "for num in np.concatenate((exp[:,1], exp[:,2])):\n",
    "    if num in const2val:\n",
    "        num_const+=1\n",
    "    if 'x15' in num:\n",
    "        num_nested+=1"
   ]
  },
  {
   "cell_type": "code",
   "execution_count": 101,
   "id": "c13de19a-6160-4f28-a24f-ce6b9a1c92d2",
   "metadata": {},
   "outputs": [
    {
     "data": {
      "text/plain": [
       "14"
      ]
     },
     "execution_count": 101,
     "metadata": {},
     "output_type": "execute_result"
    }
   ],
   "source": [
    "num_nested"
   ]
  },
  {
   "cell_type": "code",
   "execution_count": 80,
   "id": "b3148958-662f-4f10-b1e3-203a5e05736f",
   "metadata": {},
   "outputs": [
    {
     "data": {
      "text/plain": [
       "0.19562350614027857"
      ]
     },
     "execution_count": 80,
     "metadata": {},
     "output_type": "execute_result"
    }
   ],
   "source": [
    "num_const/(exp.shape[0]*2)"
   ]
  },
  {
   "cell_type": "code",
   "execution_count": 85,
   "id": "b5eb1f12-4d91-4358-8866-5073c0fce039",
   "metadata": {},
   "outputs": [
    {
     "data": {
      "text/plain": [
       "0.41089899447787026"
      ]
     },
     "execution_count": 85,
     "metadata": {},
     "output_type": "execute_result"
    }
   ],
   "source": [
    "num_nested/(exp.shape[0]*2)"
   ]
  },
  {
   "cell_type": "markdown",
   "id": "67eb046d-4801-4a22-9cf9-1b3ea0fcaa95",
   "metadata": {},
   "source": [
    "- 20% of the time its a constant\n",
    "- 40% of the time its an expression\n",
    "- 40% of the time its a number"
   ]
  },
  {
   "cell_type": "code",
   "execution_count": null,
   "id": "f836e4a4-1206-423b-8d3d-13959d62c1c4",
   "metadata": {},
   "outputs": [],
   "source": []
  }
 ],
 "metadata": {
  "kernelspec": {
   "display_name": "Python 3 (ipykernel)",
   "language": "python",
   "name": "python3"
  },
  "language_info": {
   "codemirror_mode": {
    "name": "ipython",
    "version": 3
   },
   "file_extension": ".py",
   "mimetype": "text/x-python",
   "name": "python",
   "nbconvert_exporter": "python",
   "pygments_lexer": "ipython3",
   "version": "3.11.5"
  }
 },
 "nbformat": 4,
 "nbformat_minor": 5
}
