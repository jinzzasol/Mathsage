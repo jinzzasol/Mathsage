{
 "cells": [
  {
   "cell_type": "markdown",
   "id": "b949f5ef",
   "metadata": {},
   "source": [
    "# MathQA Training"
   ]
  },
  {
   "cell_type": "markdown",
   "id": "8417205d",
   "metadata": {},
   "source": [
    "#### Imports"
   ]
  },
  {
   "cell_type": "code",
   "execution_count": 1,
   "id": "e92b04d3-cd66-4237-b824-ac18a7debedd",
   "metadata": {},
   "outputs": [],
   "source": [
    "from enum import Enum\n",
    "import os\n",
    "import anytree\n",
    "import pandas as pd\n",
    "from itertools import permutations\n",
    "import seaborn as sns\n",
    "import math\n",
    "import numpy as np\n",
    "import torch\n",
    "from transformers import AutoTokenizer, AutoModelForSequenceClassification, TrainingArguments, Trainer\n",
    "from sklearn.metrics import f1_score, accuracy_score\n",
    "from datasets import Dataset\n",
    "from peft import LoraConfig, get_peft_model, TaskType, PeftModel\n",
    "from sklearn.utils.class_weight import compute_class_weight\n",
    "import re"
   ]
  },
  {
   "cell_type": "markdown",
   "id": "3e0d48fc",
   "metadata": {},
   "source": [
    "#### Constants"
   ]
  },
  {
   "cell_type": "code",
   "execution_count": 2,
   "id": "f00c0896",
   "metadata": {},
   "outputs": [],
   "source": [
    "DATA_PATH = './dataset/'\n",
    "SET_NAMES = ['train', 'validation', 'test']\n",
    "\n",
    "class Op(Enum):\n",
    "    ADD = '+'\n",
    "    SUB = '-'\n",
    "    MULT = '*'\n",
    "    DIV = '/'\n",
    "    POW = '^'\n",
    "    \n",
    "class Const(Enum):\n",
    "    CONST_PI = 'const_pi'\n",
    "    CONST_NEG_1 = 'const_neg_1' # I added this\n",
    "    CONST_DEG_TO_RAD = 'const_deg_to_rad' # pi / 180 (There is only one example of this and its actually used incorrectly)\n",
    "    CONST_1 = 'const_1'\n",
    "    CONST_2 = 'const_2'\n",
    "    CONST_3 = 'const_3'\n",
    "    CONST_4 = 'const_4'\n",
    "    CONST_5 = 'const_5'\n",
    "    CONST_6 = 'const_6'\n",
    "    CONST_10 = 'const_10'\n",
    "    CONST_12 = 'const_12'\n",
    "    CONST_26 = 'const_26'\n",
    "    CONST_52 = 'const_52'\n",
    "    CONST_60 = 'const_60'\n",
    "    CONST_100 = 'const_100'\n",
    "    CONST_180 = 'const_180'\n",
    "    CONST_360 = 'const_360'\n",
    "    CONST_1000 = 'const_1000'\n",
    "    CONST_3600 = 'const_3600' \n",
    "    CONST_0_25 = 'const_0_25'\n",
    "    CONST_0_2778 = 'const_0_2778'\n",
    "    CONST_0_33 = 'const_0_33'\n",
    "    CONST_0_3937 = 'const_0_3937'\n",
    "    CONST_0_4535 = 'const_0_4535'\n",
    "    CONST_0_6 = 'const_0_6'\n",
    "    CONST_1_6 = 'const_1_6'\n",
    "    CONST_2_2046 = 'const_2_2046'\n",
    "    CONST_2_54 = 'const_2_54'\n",
    "    CONST_3_6 = 'const_3_6' \n",
    "    CONST_0dot25 = 'const_0.25'\n",
    "    CONST_0dot5 = 'const_0.5' \n",
    "    CONST_2dot0 = 'const_2.0'\n",
    "    CONST_3dot0 = 'const_3.0'\n",
    "    CONST_4dot0 = 'const_4.0'\n",
    "    CONST_60dot0 = 'const_60.0'\n",
    "    CONST_100dot0 = 'const_100.0'\n",
    "\n",
    "values = [math.pi, -1, math.pi/180, 1, 2, 3, 4, 5, 6, 10, 12, 26, 52, 60, 100, 180, 360, 1000, 3600,\n",
    "          0.25, 0.2778, 1/3, 0.3937, 0.4535, 0.6, 1.6, 2.2046, 2.54, 3.6, 0.25, 0.5, 2.0, 3.0, 4.0, 60.0, 100.0]\n",
    "const2val = {k:v for k,v in zip(Const._value2member_map_.keys(), values)}    \n",
    "const2val['const_0_5'] = 0.5\n",
    "\n",
    "op2id = {k:v for k,v in zip(Op._value2member_map_.keys(), range(len(Op._value2member_map_)))}"
   ]
  },
  {
   "cell_type": "markdown",
   "id": "c5120984",
   "metadata": {},
   "source": [
    "## Loading the data"
   ]
  },
  {
   "cell_type": "markdown",
   "id": "4528e98f",
   "metadata": {},
   "source": [
    "Reading csv into a dictionary of dataframes"
   ]
  },
  {
   "cell_type": "code",
   "execution_count": 3,
   "id": "1a1239b2",
   "metadata": {},
   "outputs": [],
   "source": [
    "data = {name:pd.read_csv(f'{DATA_PATH}{name}.csv') for name in SET_NAMES}"
   ]
  },
  {
   "cell_type": "markdown",
   "id": "d61cfd60",
   "metadata": {},
   "source": [
    "Converts operations for each problem into a multi label onehot encoded setup"
   ]
  },
  {
   "cell_type": "code",
   "execution_count": 4,
   "id": "2fe3a40f",
   "metadata": {},
   "outputs": [],
   "source": [
    "def onehot_ops(data):\n",
    "    labels = []\n",
    "    for op_set in data.ops:\n",
    "        op_set = eval(op_set)\n",
    "        idx = [op2id[op] for op in op_set]\n",
    "        onehot = np.zeros(len(op2id))\n",
    "        onehot[idx] = 1\n",
    "        labels.append(onehot)\n",
    "    return np.array(labels)\n",
    "        \n",
    "#onehot_ops(data['train'])"
   ]
  },
  {
   "cell_type": "markdown",
   "id": "a93df24d",
   "metadata": {},
   "source": [
    "Sort nums for each each problem in increasing order"
   ]
  },
  {
   "cell_type": "code",
   "execution_count": 5,
   "id": "0e7d18ce",
   "metadata": {},
   "outputs": [],
   "source": [
    "def max_num(nums):\n",
    "    get_float = lambda x: float(const2val[x]) if x in const2val else float(x)\n",
    "    return max(map(get_float, nums))\n",
    "\n",
    "def remove_const(data):\n",
    "    nums = []\n",
    "    for num_list in data.nums:\n",
    "        nums.append(set([float(x) for x in eval(num_list) if x not in const2val]))\n",
    "    return nums\n",
    "\n",
    "def get_nums_from_problem(data):\n",
    "    nums = []\n",
    "    for problem in data.problem:\n",
    "        num = re.compile('([+-]?((\\d+(\\.\\d*)?)|(\\.\\d+)))')\n",
    "        big = re.compile(r'(-?\\d{1,3}(,\\d{3})+(\\.\\d*)?)')\n",
    "        \n",
    "        big_results = re.findall(big, problem)\n",
    "        problem = re.sub(big, '', problem)\n",
    "        s1 = set([float(x[0].replace(',','')) for x in big_results])\n",
    "        \n",
    "        num_results = re.findall(num, problem)\n",
    "        s2 = set([float(x[0]) for x in num_results])\n",
    "        \n",
    "        nums.append(s1.union(s2))\n",
    "    return nums\n",
    "\n",
    "def sort_nums(data):\n",
    "    nums_sorted = []\n",
    "    nums_no_const_sorted = []\n",
    "    for nums in data.nums_no_const:\n",
    "        nums_no_const_sorted.append(sorted(list(eval(nums)), key=lambda x: float(x)))\n",
    "    for nums in data.nums:\n",
    "        num_list = list(eval(nums))\n",
    "        maximum = max_num(num_list)\n",
    "        get_float = lambda x: float(const2val[x])+maximum if x in const2val else float(x)\n",
    "        nums_sorted.append(sorted(num_list, key=get_float))\n",
    "    return nums_sorted, nums_no_const_sorted\n",
    "\n",
    "#sort_nums(data['train'])"
   ]
  },
  {
   "cell_type": "markdown",
   "id": "a7260430",
   "metadata": {},
   "source": [
    "Here I do some testing to see if the numbers from the equation can be found in the problem description using simple regexes. This actually works extremely well, having no examples where the expected numbers is not a subset of the obtained numbers. This does not include constants. Constants are values which should not occur in the problem description (like pi or the 2 in r^2 for example)"
   ]
  },
  {
   "cell_type": "code",
   "execution_count": 11,
   "id": "43603d6a",
   "metadata": {},
   "outputs": [],
   "source": [
    "expected = remove_const(data['train'])\n",
    "obtained = get_nums_from_problem(data['train'])\n",
    "\n",
    "idx = 0\n",
    "for x, y in zip(expected, obtained):\n",
    "    if not (x <= y):\n",
    "        print('------------------')\n",
    "        print(data['train']['problem'][idx])\n",
    "        print(f'Expected: {x}')\n",
    "        print(f'Obtained: {y}')\n",
    "        print('------------------')\n",
    "    idx += 1"
   ]
  },
  {
   "cell_type": "code",
   "execution_count": 12,
   "id": "9fe01d1d",
   "metadata": {},
   "outputs": [
    {
     "data": {
      "text/plain": [
       "category\n",
       "general        7231\n",
       "physics        4908\n",
       "gain           3544\n",
       "geometry       1422\n",
       "other          1071\n",
       "probability     145\n",
       "Name: count, dtype: int64"
      ]
     },
     "execution_count": 12,
     "metadata": {},
     "output_type": "execute_result"
    }
   ],
   "source": [
    "data['train']['category'].value_counts()"
   ]
  },
  {
   "cell_type": "code",
   "execution_count": null,
   "id": "2a943ff0",
   "metadata": {},
   "outputs": [],
   "source": []
  }
 ],
 "metadata": {
  "kernelspec": {
   "display_name": "Python 3 (ipykernel)",
   "language": "python",
   "name": "python3"
  },
  "language_info": {
   "codemirror_mode": {
    "name": "ipython",
    "version": 3
   },
   "file_extension": ".py",
   "mimetype": "text/x-python",
   "name": "python",
   "nbconvert_exporter": "python",
   "pygments_lexer": "ipython3",
   "version": "3.11.5"
  }
 },
 "nbformat": 4,
 "nbformat_minor": 5
}
