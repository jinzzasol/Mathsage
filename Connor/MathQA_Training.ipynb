{
 "cells": [
  {
   "cell_type": "markdown",
   "id": "8eca8a8f",
   "metadata": {},
   "source": [
    "# MathQA Training"
   ]
  },
  {
   "cell_type": "markdown",
   "id": "88a09892",
   "metadata": {},
   "source": [
    "#### Imports"
   ]
  },
  {
   "cell_type": "code",
   "execution_count": 134,
   "id": "e92b04d3-cd66-4237-b824-ac18a7debedd",
   "metadata": {},
   "outputs": [],
   "source": [
    "from enum import Enum\n",
    "import os\n",
    "import anytree\n",
    "import pandas as pd\n",
    "from itertools import permutations\n",
    "import seaborn as sns\n",
    "import math\n",
    "import numpy as np\n",
    "import torch\n",
    "from transformers import AutoTokenizer, AutoModelForSequenceClassification, TrainingArguments, Trainer\n",
    "from sklearn.metrics import f1_score, accuracy_score\n",
    "from datasets import Dataset\n",
    "from peft import LoraConfig, get_peft_model, TaskType, PeftModel\n",
    "from sklearn.utils.class_weight import compute_class_weight\n",
    "import re"
   ]
  },
  {
   "cell_type": "markdown",
   "id": "b4e4494a",
   "metadata": {},
   "source": [
    "#### Constants"
   ]
  },
  {
   "cell_type": "code",
   "execution_count": 168,
   "id": "b9b8d5f3",
   "metadata": {},
   "outputs": [],
   "source": [
    "DATA_PATH = './dataset/'\n",
    "SET_NAMES = ['train', 'validation', 'test']\n",
    "\n",
    "class Op(Enum):\n",
    "    ADD = '+'\n",
    "    SUB = '-'\n",
    "    MULT = '*'\n",
    "    DIV = '/'\n",
    "    POW = '^'\n",
    "    \n",
    "class Const(Enum):\n",
    "    CONST_PI = 'const_pi'\n",
    "    CONST_NEG_1 = 'const_neg_1' # I added this\n",
    "    CONST_DEG_TO_RAD = 'const_deg_to_rad' # pi / 180 (There is only one example of this and its actually used incorrectly)\n",
    "    CONST_1 = 'const_1'\n",
    "    CONST_2 = 'const_2'\n",
    "    CONST_3 = 'const_3'\n",
    "    CONST_4 = 'const_4'\n",
    "    CONST_5 = 'const_5'\n",
    "    CONST_6 = 'const_6'\n",
    "    CONST_10 = 'const_10'\n",
    "    CONST_12 = 'const_12'\n",
    "    CONST_26 = 'const_26'\n",
    "    CONST_52 = 'const_52'\n",
    "    CONST_60 = 'const_60'\n",
    "    CONST_100 = 'const_100'\n",
    "    CONST_180 = 'const_180'\n",
    "    CONST_360 = 'const_360'\n",
    "    CONST_1000 = 'const_1000'\n",
    "    CONST_3600 = 'const_3600' \n",
    "    CONST_0_25 = 'const_0_25'\n",
    "    CONST_0_2778 = 'const_0_2778'\n",
    "    CONST_0_33 = 'const_0_33'\n",
    "    CONST_0_3937 = 'const_0_3937'\n",
    "    CONST_0_4535 = 'const_0_4535'\n",
    "    CONST_0_6 = 'const_0_6'\n",
    "    CONST_1_6 = 'const_1_6'\n",
    "    CONST_2_2046 = 'const_2_2046'\n",
    "    CONST_2_54 = 'const_2_54'\n",
    "    CONST_3_6 = 'const_3_6' \n",
    "    CONST_0dot25 = 'const_0.25'\n",
    "    CONST_0dot5 = 'const_0.5' \n",
    "    CONST_2dot0 = 'const_2.0'\n",
    "    CONST_3dot0 = 'const_3.0'\n",
    "    CONST_4dot0 = 'const_4.0'\n",
    "    CONST_60dot0 = 'const_60.0'\n",
    "    CONST_100dot0 = 'const_100.0'\n",
    "\n",
    "values = [math.pi, -1, math.pi/180, 1, 2, 3, 4, 5, 6, 10, 12, 26, 52, 60, 100, 180, 360, 1000, 3600,\n",
    "          0.25, 0.2778, 1/3, 0.3937, 0.4535, 0.6, 1.6, 2.2046, 2.54, 3.6, 0.25, 0.5, 2.0, 3.0, 4.0, 60.0, 100.0]\n",
    "const2val = {k:v for k,v in zip(Const._value2member_map_.keys(), values)}    \n",
    "const2val['const_0_5'] = 0.5\n",
    "\n",
    "op2id = {k:v for k,v in zip(Op._value2member_map_.keys(), range(len(Op._value2member_map_)))}"
   ]
  },
  {
   "cell_type": "markdown",
   "id": "5f4ab0c9",
   "metadata": {},
   "source": [
    "## Loading the data"
   ]
  },
  {
   "cell_type": "markdown",
   "id": "8d7e106d",
   "metadata": {},
   "source": [
    "Reading csv into a dictionary of dataframes"
   ]
  },
  {
   "cell_type": "code",
   "execution_count": 245,
   "id": "be5475fe",
   "metadata": {},
   "outputs": [],
   "source": [
    "data = {name:pd.read_csv(f'{DATA_PATH}{name}.csv') for name in SET_NAMES}"
   ]
  },
  {
   "cell_type": "markdown",
   "id": "a2ca8d98",
   "metadata": {},
   "source": [
    "Converts operations for each problem into a multi label onehot encoded setup"
   ]
  },
  {
   "cell_type": "code",
   "execution_count": 170,
   "id": "5b4073d2",
   "metadata": {},
   "outputs": [],
   "source": [
    "def onehot_ops(data):\n",
    "    labels = []\n",
    "    for op_set in data.ops:\n",
    "        op_set = eval(op_set)\n",
    "        idx = [op2id[op] for op in op_set]\n",
    "        onehot = np.zeros(len(op2id))\n",
    "        onehot[idx] = 1\n",
    "        labels.append(onehot)\n",
    "    return np.array(labels)\n",
    "        \n",
    "#onehot_ops(data['train'])"
   ]
  },
  {
   "cell_type": "markdown",
   "id": "efc2da58",
   "metadata": {},
   "source": [
    "Sort nums for each each problem in increasing order"
   ]
  },
  {
   "cell_type": "code",
   "execution_count": 221,
   "id": "4adcd2ef",
   "metadata": {},
   "outputs": [],
   "source": [
    "def max_num(nums):\n",
    "    get_float = lambda x: float(const2val[x]) if x in const2val else float(x)\n",
    "    return max(map(get_float, nums))\n",
    "\n",
    "def remove_const(data):\n",
    "    nums = []\n",
    "    for num_list in data.nums:\n",
    "        nums.append(set([float(x) for x in eval(num_list) if x not in const2val]))\n",
    "    return nums\n",
    "\n",
    "def get_nums_from_problem(data):\n",
    "    nums = []\n",
    "    for problem in data.problem:\n",
    "        num = re.compile('([+-]?((\\d+(\\.\\d*)?)|(\\.\\d+)))')\n",
    "        big = re.compile(r'(-?\\d{1,3}(,\\d{3})+(\\.\\d*)?)')\n",
    "        \n",
    "        big_results = re.findall(big, problem)\n",
    "        problem = re.sub(big, '', problem)\n",
    "        s1 = set([float(x[0].replace(',','')) for x in big_results])\n",
    "        \n",
    "        num_results = re.findall(num, problem)\n",
    "        s2 = set([float(x[0]) for x in num_results])\n",
    "        \n",
    "        nums.append(s1.union(s2))\n",
    "    return nums\n",
    "\n",
    "def sort_nums(data):\n",
    "    nums_sorted = []\n",
    "    nums_no_const_sorted = []\n",
    "    for nums in data.nums_no_const:\n",
    "        nums_no_const_sorted.append(sorted(list(eval(nums)), key=lambda x: float(x)))\n",
    "    for nums in data.nums:\n",
    "        num_list = list(eval(nums))\n",
    "        maximum = max_num(num_list)\n",
    "        get_float = lambda x: float(const2val[x])+maximum if x in const2val else float(x)\n",
    "        nums_sorted.append(sorted(num_list, key=get_float))\n",
    "    return nums_sorted, nums_no_const_sorted\n",
    "\n",
    "#sort_nums(data['train'])"
   ]
  },
  {
   "cell_type": "markdown",
   "id": "fbf64566",
   "metadata": {},
   "source": [
    "Here I do some testing to see if the numbers from the equation can be found in the problem description using simple regexes. This actually works extremely well, having only a single example where the expected numbers is not a subset of the obtained numbers. This does not include constants. Constants are values which should not occur in the problem description (like pi or the 2 in r^2 for example)"
   ]
  },
  {
   "cell_type": "code",
   "execution_count": 235,
   "id": "29bef904",
   "metadata": {},
   "outputs": [
    {
     "name": "stdout",
     "output_type": "stream",
     "text": [
      "------------------\n",
      "problem                 if you roll a fair - sided die twice , what is...\n",
      "category                                                          general\n",
      "solution                                                         0.166667\n",
      "formula                 (((55.0 - ((const_4 * const_10) / const_100)) ...\n",
      "formula_no_const        (((55.0 - ((4 * 10) / 100)) + 2) / (((55.0 - (...\n",
      "annotated_formula       divide(add(subtract(5,5, divide(multiply(const...\n",
      "incremental             ['const_4*const_10', 'const_4*const_10', None,...\n",
      "nums                    {'const_2', 'const_100', 'const_10', 'const_4'...\n",
      "ops                                                  {'-', '+', '/', '*'}\n",
      "incremental_no_const    ['4*10', '4*10', None, None, None, None] ; ['4...\n",
      "nums_no_const                               {'2', '100', '10', '4', '55'}\n",
      "ops_no_const                                         {'-', '+', '/', '*'}\n",
      "tree                    {'name': '/', 'children': [{'name': '+', 'chil...\n",
      "Name: 2879, dtype: object\n",
      "Expected: {55.0}\n",
      "Obtained: {5.0}\n",
      "------------------\n"
     ]
    }
   ],
   "source": [
    "expected = remove_const(data['validation'])\n",
    "obtained = get_nums_from_problem(data['validation'])\n",
    "\n",
    "idx = 0\n",
    "for x, y in zip(expected, obtained):\n",
    "    if not (x <= y):\n",
    "        print('------------------')\n",
    "        print(data['validation']['problem'][idx])\n",
    "        print(f'Expected: {x}')\n",
    "        print(f'Obtained: {y}')\n",
    "        print('------------------')\n",
    "    idx += 1"
   ]
  },
  {
   "cell_type": "code",
   "execution_count": 244,
   "id": "67d6fe53",
   "metadata": {},
   "outputs": [
    {
     "data": {
      "text/plain": [
       "category\n",
       "general        7721\n",
       "physics        5243\n",
       "gain           3752\n",
       "geometry       1506\n",
       "other          1164\n",
       "probability     196\n",
       "Name: count, dtype: int64"
      ]
     },
     "execution_count": 244,
     "metadata": {},
     "output_type": "execute_result"
    }
   ],
   "source": [
    "data['train']['category'].value_counts()"
   ]
  },
  {
   "cell_type": "code",
   "execution_count": 240,
   "id": "dafe959c",
   "metadata": {},
   "outputs": [
    {
     "data": {
      "text/plain": [
       "19582"
      ]
     },
     "execution_count": 240,
     "metadata": {},
     "output_type": "execute_result"
    }
   ],
   "source": [
    "len(data['train'])"
   ]
  },
  {
   "cell_type": "code",
   "execution_count": 241,
   "id": "559287d2",
   "metadata": {},
   "outputs": [
    {
     "data": {
      "text/plain": [
       "1938"
      ]
     },
     "execution_count": 241,
     "metadata": {},
     "output_type": "execute_result"
    }
   ],
   "source": [
    "len(data['test'])"
   ]
  },
  {
   "cell_type": "code",
   "execution_count": 242,
   "id": "3f2a8ec1",
   "metadata": {},
   "outputs": [
    {
     "data": {
      "text/plain": [
       "2959"
      ]
     },
     "execution_count": 242,
     "metadata": {},
     "output_type": "execute_result"
    }
   ],
   "source": [
    "len(data['validation'])"
   ]
  }
 ],
 "metadata": {
  "kernelspec": {
   "display_name": "Python 3 (ipykernel)",
   "language": "python",
   "name": "python3"
  },
  "language_info": {
   "codemirror_mode": {
    "name": "ipython",
    "version": 3
   },
   "file_extension": ".py",
   "mimetype": "text/x-python",
   "name": "python",
   "nbconvert_exporter": "python",
   "pygments_lexer": "ipython3",
   "version": "3.11.5"
  }
 },
 "nbformat": 4,
 "nbformat_minor": 5
}
