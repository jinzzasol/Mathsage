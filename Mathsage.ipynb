{
  "cells": [
    {
      "cell_type": "markdown",
      "metadata": {
        "colab_type": "text",
        "id": "view-in-github"
      },
      "source": [
        "<a href=\"https://colab.research.google.com/github/jinzzasol/Mathsage/blob/main/Mathsage.ipynb\" target=\"_parent\"><img src=\"https://colab.research.google.com/assets/colab-badge.svg\" alt=\"Open In Colab\"/></a>"
      ]
    },
    {
      "cell_type": "code",
      "execution_count": 1,
      "metadata": {
        "colab": {
          "base_uri": "https://localhost:8080/"
        },
        "id": "Egd_B4smYrlo",
        "outputId": "96b78f50-5bd5-4947-af6f-e372dbee5746"
      },
      "outputs": [],
      "source": [
        "# from google.colab import drive\n",
        "# drive.mount('/content/drive', force_remount=True)"
      ]
    },
    {
      "cell_type": "code",
      "execution_count": 2,
      "metadata": {
        "id": "sYqeTWj4Y-OV"
      },
      "outputs": [],
      "source": [
        "# import os\n",
        "# os.chdir('drive/MyDrive/CS5624_NLP/MathSage')"
      ]
    },
    {
      "cell_type": "code",
      "execution_count": 3,
      "metadata": {
        "colab": {
          "base_uri": "https://localhost:8080/"
        },
        "id": "b4o3NK_UaRyK",
        "outputId": "bf90d240-a68c-4e90-8a2c-76ca617dc424"
      },
      "outputs": [],
      "source": [
        "# !pip install -q transformers evaluate"
      ]
    },
    {
      "cell_type": "code",
      "execution_count": 4,
      "metadata": {
        "id": "VaI8W1rQZ3C4"
      },
      "outputs": [],
      "source": [
        "import json\n",
        "import pandas as pd\n",
        "import glob"
      ]
    },
    {
      "cell_type": "code",
      "execution_count": 5,
      "metadata": {
        "colab": {
          "base_uri": "https://localhost:8080/"
        },
        "id": "HJmpNKGmZmnI",
        "outputId": "f62163c0-4442-4ed8-d67c-0419a1195f96"
      },
      "outputs": [
        {
          "data": {
            "text/plain": [
              "{'Problem': \"the banker ' s gain of a certain sum due 3 years hence at 10 % per annum is rs . 36 . what is the present worth ?\",\n",
              " 'Rationale': '\"explanation : t = 3 years r = 10 % td = ( bg × 100 ) / tr = ( 36 × 100 ) / ( 3 × 10 ) = 12 × 10 = rs . 120 td = ( pw × tr ) / 100 ⇒ 120 = ( pw × 3 × 10 ) / 100 ⇒ 1200 = pw × 3 pw = 1200 / 3 = rs . 400 answer : option a\"',\n",
              " 'options': 'a ) rs . 400 , b ) rs . 300 , c ) rs . 500 , d ) rs . 350 , e ) none of these',\n",
              " 'correct': 'a',\n",
              " 'annotated_formula': 'divide(multiply(const_100, divide(multiply(36, const_100), multiply(3, 10))), multiply(3, 10))',\n",
              " 'linear_formula': 'multiply(n2,const_100)|multiply(n0,n1)|divide(#0,#1)|multiply(#2,const_100)|divide(#3,#1)|',\n",
              " 'category': 'gain'}"
            ]
          },
          "execution_count": 5,
          "metadata": {},
          "output_type": "execute_result"
        }
      ],
      "source": [
        "f = open('MathQA_DB/train.json')\n",
        "data = json.load(f)\n",
        "data[0]"
      ]
    },
    {
      "cell_type": "markdown",
      "metadata": {
        "id": "aJfON3ODb9K4"
      },
      "source": [
        "# Load Data\n",
        "Create `pandas dataframe` from `JSON` files\n"
      ]
    },
    {
      "cell_type": "code",
      "execution_count": 6,
      "metadata": {
        "id": "VfznEFwdbUdM"
      },
      "outputs": [],
      "source": [
        "mathqa_db = {}\n",
        "\n",
        "def json_to_dataframe():\n",
        "  json_paths = glob.glob('MathQA_DB/*.json')\n",
        "  for json_path in json_paths:\n",
        "    file_name = json_path.split('\\\\')[-1].split('.')[0]  # Extract the file name without extension\n",
        "    df = pd.read_json(json_path)\n",
        "    mathqa_db[file_name] = df"
      ]
    },
    {
      "cell_type": "code",
      "execution_count": 7,
      "metadata": {
        "id": "Rzf3Xi3MZ3_6"
      },
      "outputs": [],
      "source": [
        "json_to_dataframe()"
      ]
    },
    {
      "cell_type": "code",
      "execution_count": 8,
      "metadata": {
        "colab": {
          "base_uri": "https://localhost:8080/"
        },
        "id": "1hPz4xQHbGz7",
        "outputId": "51482d80-eef4-4a1e-d7c3-7d47ae2cd042"
      },
      "outputs": [
        {
          "data": {
            "text/plain": [
              "dict_keys(['challenge_test', 'dev', 'test', 'train'])"
            ]
          },
          "execution_count": 8,
          "metadata": {},
          "output_type": "execute_result"
        }
      ],
      "source": [
        "mathqa_db.keys()"
      ]
    },
    {
      "cell_type": "code",
      "execution_count": 9,
      "metadata": {
        "colab": {
          "base_uri": "https://localhost:8080/",
          "height": 293
        },
        "id": "_LIllN3nbJH-",
        "outputId": "2db86115-fd01-4ff9-e8cb-415fd68d45ee"
      },
      "outputs": [
        {
          "data": {
            "text/html": [
              "<div>\n",
              "<style scoped>\n",
              "    .dataframe tbody tr th:only-of-type {\n",
              "        vertical-align: middle;\n",
              "    }\n",
              "\n",
              "    .dataframe tbody tr th {\n",
              "        vertical-align: top;\n",
              "    }\n",
              "\n",
              "    .dataframe thead th {\n",
              "        text-align: right;\n",
              "    }\n",
              "</style>\n",
              "<table border=\"1\" class=\"dataframe\">\n",
              "  <thead>\n",
              "    <tr style=\"text-align: right;\">\n",
              "      <th></th>\n",
              "      <th>Problem</th>\n",
              "      <th>Rationale</th>\n",
              "      <th>options</th>\n",
              "      <th>correct</th>\n",
              "      <th>annotated_formula</th>\n",
              "      <th>linear_formula</th>\n",
              "      <th>category</th>\n",
              "    </tr>\n",
              "  </thead>\n",
              "  <tbody>\n",
              "    <tr>\n",
              "      <th>0</th>\n",
              "      <td>the banker ' s gain of a certain sum due 3 yea...</td>\n",
              "      <td>\"explanation : t = 3 years r = 10 % td = ( bg ...</td>\n",
              "      <td>a ) rs . 400 , b ) rs . 300 , c ) rs . 500 , d...</td>\n",
              "      <td>a</td>\n",
              "      <td>divide(multiply(const_100, divide(multiply(36,...</td>\n",
              "      <td>multiply(n2,const_100)|multiply(n0,n1)|divide(...</td>\n",
              "      <td>gain</td>\n",
              "    </tr>\n",
              "    <tr>\n",
              "      <th>1</th>\n",
              "      <td>average age of students of an adult school is ...</td>\n",
              "      <td>\"explanation : let the original no . of studen...</td>\n",
              "      <td>a ) 1200 , b ) 120 , c ) 360 , d ) 240 , e ) n...</td>\n",
              "      <td>d</td>\n",
              "      <td>multiply(divide(subtract(multiply(add(32, 4), ...</td>\n",
              "      <td>add(n2,n3)|multiply(n1,n2)|multiply(n1,#0)|sub...</td>\n",
              "      <td>general</td>\n",
              "    </tr>\n",
              "    <tr>\n",
              "      <th>2</th>\n",
              "      <td>sophia finished 2 / 3 of a book . she calculat...</td>\n",
              "      <td>let xx be the total number of pages in the boo...</td>\n",
              "      <td>a ) 229 , b ) 270 , c ) 877 , d ) 266 , e ) 281</td>\n",
              "      <td>b</td>\n",
              "      <td>divide(90, subtract(const_1, divide(2, 3)))</td>\n",
              "      <td>divide(n0,n1)|subtract(const_1,#0)|divide(n2,#1)</td>\n",
              "      <td>general</td>\n",
              "    </tr>\n",
              "    <tr>\n",
              "      <th>3</th>\n",
              "      <td>120 is what percent of 50 ?</td>\n",
              "      <td>\"50 * x = 120 - - &gt; x = 2.4 - - &gt; 2.4 expresse...</td>\n",
              "      <td>a ) 5 % , b ) 240 % , c ) 50 % , d ) 2 % , e )...</td>\n",
              "      <td>b</td>\n",
              "      <td>multiply(divide(120, 50), const_100)</td>\n",
              "      <td>divide(n0,n1)|multiply(#0,const_100)|</td>\n",
              "      <td>gain</td>\n",
              "    </tr>\n",
              "    <tr>\n",
              "      <th>4</th>\n",
              "      <td>there are 10 girls and 20 boys in a classroom ...</td>\n",
              "      <td>if girls is 10 and boys is 20 , then 10 / 20 ....</td>\n",
              "      <td>a ) 1 / 2 , b ) 1 / 3 , c ) 1 / 5 , d ) 10 / 3...</td>\n",
              "      <td>a</td>\n",
              "      <td>divide(10, 20)</td>\n",
              "      <td>divide(n0,n1)</td>\n",
              "      <td>other</td>\n",
              "    </tr>\n",
              "  </tbody>\n",
              "</table>\n",
              "</div>"
            ],
            "text/plain": [
              "                                             Problem  \\\n",
              "0  the banker ' s gain of a certain sum due 3 yea...   \n",
              "1  average age of students of an adult school is ...   \n",
              "2  sophia finished 2 / 3 of a book . she calculat...   \n",
              "3                        120 is what percent of 50 ?   \n",
              "4  there are 10 girls and 20 boys in a classroom ...   \n",
              "\n",
              "                                           Rationale  \\\n",
              "0  \"explanation : t = 3 years r = 10 % td = ( bg ...   \n",
              "1  \"explanation : let the original no . of studen...   \n",
              "2  let xx be the total number of pages in the boo...   \n",
              "3  \"50 * x = 120 - - > x = 2.4 - - > 2.4 expresse...   \n",
              "4  if girls is 10 and boys is 20 , then 10 / 20 ....   \n",
              "\n",
              "                                             options correct  \\\n",
              "0  a ) rs . 400 , b ) rs . 300 , c ) rs . 500 , d...       a   \n",
              "1  a ) 1200 , b ) 120 , c ) 360 , d ) 240 , e ) n...       d   \n",
              "2    a ) 229 , b ) 270 , c ) 877 , d ) 266 , e ) 281       b   \n",
              "3  a ) 5 % , b ) 240 % , c ) 50 % , d ) 2 % , e )...       b   \n",
              "4  a ) 1 / 2 , b ) 1 / 3 , c ) 1 / 5 , d ) 10 / 3...       a   \n",
              "\n",
              "                                   annotated_formula  \\\n",
              "0  divide(multiply(const_100, divide(multiply(36,...   \n",
              "1  multiply(divide(subtract(multiply(add(32, 4), ...   \n",
              "2        divide(90, subtract(const_1, divide(2, 3)))   \n",
              "3               multiply(divide(120, 50), const_100)   \n",
              "4                                     divide(10, 20)   \n",
              "\n",
              "                                      linear_formula category  \n",
              "0  multiply(n2,const_100)|multiply(n0,n1)|divide(...     gain  \n",
              "1  add(n2,n3)|multiply(n1,n2)|multiply(n1,#0)|sub...  general  \n",
              "2   divide(n0,n1)|subtract(const_1,#0)|divide(n2,#1)  general  \n",
              "3              divide(n0,n1)|multiply(#0,const_100)|     gain  \n",
              "4                                      divide(n0,n1)    other  "
            ]
          },
          "execution_count": 9,
          "metadata": {},
          "output_type": "execute_result"
        }
      ],
      "source": [
        "train_df = mathqa_db['train']\n",
        "train_df.head()"
      ]
    },
    {
      "cell_type": "code",
      "execution_count": 10,
      "metadata": {
        "colab": {
          "base_uri": "https://localhost:8080/",
          "height": 53
        },
        "id": "Kz_1T2pUtCNs",
        "outputId": "22ed02f8-1d19-4973-d5f5-fe2727d02317"
      },
      "outputs": [
        {
          "data": {
            "text/html": [
              "<div>\n",
              "<style scoped>\n",
              "    .dataframe tbody tr th:only-of-type {\n",
              "        vertical-align: middle;\n",
              "    }\n",
              "\n",
              "    .dataframe tbody tr th {\n",
              "        vertical-align: top;\n",
              "    }\n",
              "\n",
              "    .dataframe thead th {\n",
              "        text-align: right;\n",
              "    }\n",
              "</style>\n",
              "<table border=\"1\" class=\"dataframe\">\n",
              "  <thead>\n",
              "    <tr style=\"text-align: right;\">\n",
              "      <th></th>\n",
              "      <th>Problem</th>\n",
              "      <th>Rationale</th>\n",
              "      <th>options</th>\n",
              "      <th>correct</th>\n",
              "      <th>annotated_formula</th>\n",
              "      <th>linear_formula</th>\n",
              "      <th>category</th>\n",
              "    </tr>\n",
              "  </thead>\n",
              "  <tbody>\n",
              "  </tbody>\n",
              "</table>\n",
              "</div>"
            ],
            "text/plain": [
              "Empty DataFrame\n",
              "Columns: [Problem, Rationale, options, correct, annotated_formula, linear_formula, category]\n",
              "Index: []"
            ]
          },
          "execution_count": 10,
          "metadata": {},
          "output_type": "execute_result"
        }
      ],
      "source": [
        "train_df[train_df.duplicated()]"
      ]
    },
    {
      "cell_type": "code",
      "execution_count": 11,
      "metadata": {
        "colab": {
          "base_uri": "https://localhost:8080/",
          "height": 293
        },
        "id": "fwtSg6fur771",
        "outputId": "e11999fa-aa64-4e7a-9846-6739fba1bb2a"
      },
      "outputs": [
        {
          "data": {
            "text/html": [
              "<div>\n",
              "<style scoped>\n",
              "    .dataframe tbody tr th:only-of-type {\n",
              "        vertical-align: middle;\n",
              "    }\n",
              "\n",
              "    .dataframe tbody tr th {\n",
              "        vertical-align: top;\n",
              "    }\n",
              "\n",
              "    .dataframe thead th {\n",
              "        text-align: right;\n",
              "    }\n",
              "</style>\n",
              "<table border=\"1\" class=\"dataframe\">\n",
              "  <thead>\n",
              "    <tr style=\"text-align: right;\">\n",
              "      <th></th>\n",
              "      <th>Problem</th>\n",
              "      <th>Rationale</th>\n",
              "      <th>options</th>\n",
              "      <th>correct</th>\n",
              "      <th>annotated_formula</th>\n",
              "      <th>linear_formula</th>\n",
              "      <th>category</th>\n",
              "    </tr>\n",
              "  </thead>\n",
              "  <tbody>\n",
              "    <tr>\n",
              "      <th>0</th>\n",
              "      <td>a shopkeeper sold an article offering a discou...</td>\n",
              "      <td>\"giving no discount to customer implies sellin...</td>\n",
              "      <td>a ) 38 , b ) 27.675 , c ) 30 , d ) data inadeq...</td>\n",
              "      <td>a</td>\n",
              "      <td>subtract(divide(multiply(add(const_100, 31.1),...</td>\n",
              "      <td>add(n1,const_100)|subtract(const_100,n0)|multi...</td>\n",
              "      <td>gain</td>\n",
              "    </tr>\n",
              "    <tr>\n",
              "      <th>1</th>\n",
              "      <td>what will be the difference between simple and...</td>\n",
              "      <td>\"s . i . = ( 1000 * 14 * 4 ) / 100 = rs . 560 ...</td>\n",
              "      <td>a ) 129 , b ) 130 , c ) 124 , d ) 133 , e ) 145</td>\n",
              "      <td>a</td>\n",
              "      <td>subtract(subtract(multiply(1000, power(add(div...</td>\n",
              "      <td>divide(n0,const_100)|add(#0,const_1)|multiply(...</td>\n",
              "      <td>gain</td>\n",
              "    </tr>\n",
              "    <tr>\n",
              "      <th>2</th>\n",
              "      <td>there are 28 stations between hyderabad and ba...</td>\n",
              "      <td>\"the total number of stations = 30 from 30 sta...</td>\n",
              "      <td>a ) 156 , b ) 167 , c ) 870 , d ) 352 , e ) 380</td>\n",
              "      <td>c</td>\n",
              "      <td>multiply(add(28, const_1), add(add(28, const_1...</td>\n",
              "      <td>add(n0,const_1)|add(#0,const_1)|multiply(#0,#1)|</td>\n",
              "      <td>physics</td>\n",
              "    </tr>\n",
              "    <tr>\n",
              "      <th>3</th>\n",
              "      <td>the present population of a town is 3888 . pop...</td>\n",
              "      <td>\"p = 3888 r = 20 % required population of town...</td>\n",
              "      <td>a ) 2500 , b ) 2100 , c ) 3500 , d ) 3600 , e ...</td>\n",
              "      <td>e</td>\n",
              "      <td>add(3888, divide(multiply(3888, 20), const_100))</td>\n",
              "      <td>multiply(n0,n1)|divide(#0,const_100)|add(n0,#1)|</td>\n",
              "      <td>gain</td>\n",
              "    </tr>\n",
              "    <tr>\n",
              "      <th>4</th>\n",
              "      <td>the triplicate ratio of 1 : 9 is ?</td>\n",
              "      <td>\"13 : 93 = 1 : 729 answer : e\"</td>\n",
              "      <td>a ) 1 : 0 , b ) 1 : 8 , c ) 1 : 7 , d ) 1 : 2 ...</td>\n",
              "      <td>e</td>\n",
              "      <td>divide(power(const_2.0, 9), power(const_3.0, 9))</td>\n",
              "      <td>power(const_2.0,n1)|power(const_3.0,n1)|divide...</td>\n",
              "      <td>other</td>\n",
              "    </tr>\n",
              "  </tbody>\n",
              "</table>\n",
              "</div>"
            ],
            "text/plain": [
              "                                             Problem  \\\n",
              "0  a shopkeeper sold an article offering a discou...   \n",
              "1  what will be the difference between simple and...   \n",
              "2  there are 28 stations between hyderabad and ba...   \n",
              "3  the present population of a town is 3888 . pop...   \n",
              "4                 the triplicate ratio of 1 : 9 is ?   \n",
              "\n",
              "                                           Rationale  \\\n",
              "0  \"giving no discount to customer implies sellin...   \n",
              "1  \"s . i . = ( 1000 * 14 * 4 ) / 100 = rs . 560 ...   \n",
              "2  \"the total number of stations = 30 from 30 sta...   \n",
              "3  \"p = 3888 r = 20 % required population of town...   \n",
              "4                     \"13 : 93 = 1 : 729 answer : e\"   \n",
              "\n",
              "                                             options correct  \\\n",
              "0  a ) 38 , b ) 27.675 , c ) 30 , d ) data inadeq...       a   \n",
              "1    a ) 129 , b ) 130 , c ) 124 , d ) 133 , e ) 145       a   \n",
              "2    a ) 156 , b ) 167 , c ) 870 , d ) 352 , e ) 380       c   \n",
              "3  a ) 2500 , b ) 2100 , c ) 3500 , d ) 3600 , e ...       e   \n",
              "4  a ) 1 : 0 , b ) 1 : 8 , c ) 1 : 7 , d ) 1 : 2 ...       e   \n",
              "\n",
              "                                   annotated_formula  \\\n",
              "0  subtract(divide(multiply(add(const_100, 31.1),...   \n",
              "1  subtract(subtract(multiply(1000, power(add(div...   \n",
              "2  multiply(add(28, const_1), add(add(28, const_1...   \n",
              "3   add(3888, divide(multiply(3888, 20), const_100))   \n",
              "4   divide(power(const_2.0, 9), power(const_3.0, 9))   \n",
              "\n",
              "                                      linear_formula category  \n",
              "0  add(n1,const_100)|subtract(const_100,n0)|multi...     gain  \n",
              "1  divide(n0,const_100)|add(#0,const_1)|multiply(...     gain  \n",
              "2   add(n0,const_1)|add(#0,const_1)|multiply(#0,#1)|  physics  \n",
              "3   multiply(n0,n1)|divide(#0,const_100)|add(n0,#1)|     gain  \n",
              "4  power(const_2.0,n1)|power(const_3.0,n1)|divide...    other  "
            ]
          },
          "execution_count": 11,
          "metadata": {},
          "output_type": "execute_result"
        }
      ],
      "source": [
        "test_df = mathqa_db['test']\n",
        "test_df.head()"
      ]
    },
    {
      "cell_type": "code",
      "execution_count": 12,
      "metadata": {
        "colab": {
          "base_uri": "https://localhost:8080/",
          "height": 53
        },
        "id": "16pA6KbqtYiA",
        "outputId": "bc9667c0-e814-47a2-88c0-b3169da18306"
      },
      "outputs": [
        {
          "data": {
            "text/html": [
              "<div>\n",
              "<style scoped>\n",
              "    .dataframe tbody tr th:only-of-type {\n",
              "        vertical-align: middle;\n",
              "    }\n",
              "\n",
              "    .dataframe tbody tr th {\n",
              "        vertical-align: top;\n",
              "    }\n",
              "\n",
              "    .dataframe thead th {\n",
              "        text-align: right;\n",
              "    }\n",
              "</style>\n",
              "<table border=\"1\" class=\"dataframe\">\n",
              "  <thead>\n",
              "    <tr style=\"text-align: right;\">\n",
              "      <th></th>\n",
              "      <th>Problem</th>\n",
              "      <th>Rationale</th>\n",
              "      <th>options</th>\n",
              "      <th>correct</th>\n",
              "      <th>annotated_formula</th>\n",
              "      <th>linear_formula</th>\n",
              "      <th>category</th>\n",
              "    </tr>\n",
              "  </thead>\n",
              "  <tbody>\n",
              "  </tbody>\n",
              "</table>\n",
              "</div>"
            ],
            "text/plain": [
              "Empty DataFrame\n",
              "Columns: [Problem, Rationale, options, correct, annotated_formula, linear_formula, category]\n",
              "Index: []"
            ]
          },
          "execution_count": 12,
          "metadata": {},
          "output_type": "execute_result"
        }
      ],
      "source": [
        "test_df[test_df.duplicated()]"
      ]
    },
    {
      "cell_type": "markdown",
      "metadata": {
        "id": "bR03zKh-9Vpx"
      },
      "source": [
        "Make `answer` column selecting correct option in `options` column\n",
        "\n",
        "**issue**\n",
        "there are rows with double option, e.g., `a ) a ) 70 , b ) b ) 76 , c ) c ) 78 , d ) d )...`"
      ]
    },
    {
      "cell_type": "code",
      "execution_count": 13,
      "metadata": {
        "id": "G-m84nJE0IWd"
      },
      "outputs": [],
      "source": [
        "def get_answer(data):\n",
        "  answer = []\n",
        "  for i in range(len(data)):\n",
        "    str = data.loc[i,'options'].split(',')\n",
        "    # print(str)\n",
        "    for option in str:\n",
        "      if (data.loc[i,'correct']) in option:\n",
        "        # print(\"correct= \", data.loc[i, 'correct'])\n",
        "        ans = option.split(')')[-1]\n",
        "        break\n",
        "    answer.append(ans)\n",
        "    # print(\"ans= \", ans)\n",
        "  return answer\n",
        "\n",
        "# train_df"
      ]
    },
    {
      "cell_type": "code",
      "execution_count": 14,
      "metadata": {
        "colab": {
          "base_uri": "https://localhost:8080/"
        },
        "id": "EWQKCtP4Bq2Y",
        "outputId": "08b638d0-085c-427a-f737-7d92106feaec"
      },
      "outputs": [
        {
          "data": {
            "text/plain": [
              "array([' rs . 400 ', ' 240 ', ' 270 ', ..., ' - 12 ', ' 242 ', ' nine '],\n",
              "      dtype='<U56')"
            ]
          },
          "execution_count": 14,
          "metadata": {},
          "output_type": "execute_result"
        }
      ],
      "source": [
        "import numpy as np\n",
        "answer = get_answer(train_df)\n",
        "answer = np.array(answer)\n",
        "answer"
      ]
    },
    {
      "cell_type": "code",
      "execution_count": 15,
      "metadata": {
        "colab": {
          "base_uri": "https://localhost:8080/",
          "height": 597
        },
        "id": "TAkKJZqIC5O-",
        "outputId": "930f5821-7ce6-4bea-e8d3-1ca418464332"
      },
      "outputs": [
        {
          "data": {
            "text/html": [
              "<div>\n",
              "<style scoped>\n",
              "    .dataframe tbody tr th:only-of-type {\n",
              "        vertical-align: middle;\n",
              "    }\n",
              "\n",
              "    .dataframe tbody tr th {\n",
              "        vertical-align: top;\n",
              "    }\n",
              "\n",
              "    .dataframe thead th {\n",
              "        text-align: right;\n",
              "    }\n",
              "</style>\n",
              "<table border=\"1\" class=\"dataframe\">\n",
              "  <thead>\n",
              "    <tr style=\"text-align: right;\">\n",
              "      <th></th>\n",
              "      <th>Problem</th>\n",
              "      <th>Rationale</th>\n",
              "      <th>options</th>\n",
              "      <th>correct</th>\n",
              "      <th>annotated_formula</th>\n",
              "      <th>linear_formula</th>\n",
              "      <th>category</th>\n",
              "      <th>answer</th>\n",
              "    </tr>\n",
              "  </thead>\n",
              "  <tbody>\n",
              "    <tr>\n",
              "      <th>0</th>\n",
              "      <td>the banker ' s gain of a certain sum due 3 yea...</td>\n",
              "      <td>\"explanation : t = 3 years r = 10 % td = ( bg ...</td>\n",
              "      <td>a ) rs . 400 , b ) rs . 300 , c ) rs . 500 , d...</td>\n",
              "      <td>a</td>\n",
              "      <td>divide(multiply(const_100, divide(multiply(36,...</td>\n",
              "      <td>multiply(n2,const_100)|multiply(n0,n1)|divide(...</td>\n",
              "      <td>gain</td>\n",
              "      <td>rs . 400</td>\n",
              "    </tr>\n",
              "    <tr>\n",
              "      <th>1</th>\n",
              "      <td>average age of students of an adult school is ...</td>\n",
              "      <td>\"explanation : let the original no . of studen...</td>\n",
              "      <td>a ) 1200 , b ) 120 , c ) 360 , d ) 240 , e ) n...</td>\n",
              "      <td>d</td>\n",
              "      <td>multiply(divide(subtract(multiply(add(32, 4), ...</td>\n",
              "      <td>add(n2,n3)|multiply(n1,n2)|multiply(n1,#0)|sub...</td>\n",
              "      <td>general</td>\n",
              "      <td>240</td>\n",
              "    </tr>\n",
              "    <tr>\n",
              "      <th>2</th>\n",
              "      <td>sophia finished 2 / 3 of a book . she calculat...</td>\n",
              "      <td>let xx be the total number of pages in the boo...</td>\n",
              "      <td>a ) 229 , b ) 270 , c ) 877 , d ) 266 , e ) 281</td>\n",
              "      <td>b</td>\n",
              "      <td>divide(90, subtract(const_1, divide(2, 3)))</td>\n",
              "      <td>divide(n0,n1)|subtract(const_1,#0)|divide(n2,#1)</td>\n",
              "      <td>general</td>\n",
              "      <td>270</td>\n",
              "    </tr>\n",
              "    <tr>\n",
              "      <th>3</th>\n",
              "      <td>120 is what percent of 50 ?</td>\n",
              "      <td>\"50 * x = 120 - - &gt; x = 2.4 - - &gt; 2.4 expresse...</td>\n",
              "      <td>a ) 5 % , b ) 240 % , c ) 50 % , d ) 2 % , e )...</td>\n",
              "      <td>b</td>\n",
              "      <td>multiply(divide(120, 50), const_100)</td>\n",
              "      <td>divide(n0,n1)|multiply(#0,const_100)|</td>\n",
              "      <td>gain</td>\n",
              "      <td>240 %</td>\n",
              "    </tr>\n",
              "    <tr>\n",
              "      <th>4</th>\n",
              "      <td>there are 10 girls and 20 boys in a classroom ...</td>\n",
              "      <td>if girls is 10 and boys is 20 , then 10 / 20 ....</td>\n",
              "      <td>a ) 1 / 2 , b ) 1 / 3 , c ) 1 / 5 , d ) 10 / 3...</td>\n",
              "      <td>a</td>\n",
              "      <td>divide(10, 20)</td>\n",
              "      <td>divide(n0,n1)</td>\n",
              "      <td>other</td>\n",
              "      <td>1 / 2</td>\n",
              "    </tr>\n",
              "    <tr>\n",
              "      <th>...</th>\n",
              "      <td>...</td>\n",
              "      <td>...</td>\n",
              "      <td>...</td>\n",
              "      <td>...</td>\n",
              "      <td>...</td>\n",
              "      <td>...</td>\n",
              "      <td>...</td>\n",
              "      <td>...</td>\n",
              "    </tr>\n",
              "    <tr>\n",
              "      <th>29832</th>\n",
              "      <td>a man invests some money partly in 10 % stock ...</td>\n",
              "      <td>\"solution for an income of rs . 1 in 10 % stoc...</td>\n",
              "      <td>a ) 1 : 2 , b ) 3 : 5 , c ) 4 : 5 , d ) 16 : 1...</td>\n",
              "      <td>a</td>\n",
              "      <td>divide(multiply(90, const_2), multiply(90, con...</td>\n",
              "      <td>multiply(n1,const_2)|multiply(n3,const_3)|divi...</td>\n",
              "      <td>other</td>\n",
              "      <td>1 : 2</td>\n",
              "    </tr>\n",
              "    <tr>\n",
              "      <th>29833</th>\n",
              "      <td>average of 10 matches is 32 , how many runs on...</td>\n",
              "      <td>\"explanation : average after 11 innings should...</td>\n",
              "      <td>a ) a ) 70 , b ) b ) 76 , c ) c ) 78 , d ) d )...</td>\n",
              "      <td>d</td>\n",
              "      <td>subtract(multiply(add(32, 6), add(10, const_1)...</td>\n",
              "      <td>add(n1,n2)|add(n0,const_1)|multiply(n0,n1)|mul...</td>\n",
              "      <td>general</td>\n",
              "      <td>98</td>\n",
              "    </tr>\n",
              "    <tr>\n",
              "      <th>29834</th>\n",
              "      <td>solve below question 2 x + 1 = - 23</td>\n",
              "      <td>1 . subtract 1 from both sides : 2 x + 1 - 1 =...</td>\n",
              "      <td>a ) - 8 , b ) - 9 , c ) - 12 , d ) - 4 , e ) 12</td>\n",
              "      <td>c</td>\n",
              "      <td>divide(negate(add(23, 1)), 2)</td>\n",
              "      <td>add(n1,n2)|negate(#0)|divide(#1,n0)</td>\n",
              "      <td>general</td>\n",
              "      <td>- 12</td>\n",
              "    </tr>\n",
              "    <tr>\n",
              "      <th>29835</th>\n",
              "      <td>calculate 85184 ÷ ? = 352</td>\n",
              "      <td>\"answer let 85184 ÷ x = 242 then x = 85184 / 2...</td>\n",
              "      <td>a ) 241 , b ) 242 , c ) 244 , d ) 247 , e ) 240</td>\n",
              "      <td>b</td>\n",
              "      <td>multiply(85184, 352)</td>\n",
              "      <td>multiply(n0,n1)|</td>\n",
              "      <td>general</td>\n",
              "      <td>242</td>\n",
              "    </tr>\n",
              "    <tr>\n",
              "      <th>29836</th>\n",
              "      <td>7.51 8.22 7.86 8.36 8.09 7.83 8.30 8.01 7.73 8...</td>\n",
              "      <td>mean = 8.1 standard deviation = 0.4 within 1.5...</td>\n",
              "      <td>a ) four , b ) six , c ) nine , d ) ten , e ) ...</td>\n",
              "      <td>e</td>\n",
              "      <td>add(8.1, subtract(8.1, multiply(1.5, 0.4)))</td>\n",
              "      <td>multiply(n17,n19)|subtract(n16,#0)|add(n16,#1)</td>\n",
              "      <td>general</td>\n",
              "      <td>nine</td>\n",
              "    </tr>\n",
              "  </tbody>\n",
              "</table>\n",
              "<p>29837 rows × 8 columns</p>\n",
              "</div>"
            ],
            "text/plain": [
              "                                                 Problem  \\\n",
              "0      the banker ' s gain of a certain sum due 3 yea...   \n",
              "1      average age of students of an adult school is ...   \n",
              "2      sophia finished 2 / 3 of a book . she calculat...   \n",
              "3                            120 is what percent of 50 ?   \n",
              "4      there are 10 girls and 20 boys in a classroom ...   \n",
              "...                                                  ...   \n",
              "29832  a man invests some money partly in 10 % stock ...   \n",
              "29833  average of 10 matches is 32 , how many runs on...   \n",
              "29834                solve below question 2 x + 1 = - 23   \n",
              "29835                          calculate 85184 ÷ ? = 352   \n",
              "29836  7.51 8.22 7.86 8.36 8.09 7.83 8.30 8.01 7.73 8...   \n",
              "\n",
              "                                               Rationale  \\\n",
              "0      \"explanation : t = 3 years r = 10 % td = ( bg ...   \n",
              "1      \"explanation : let the original no . of studen...   \n",
              "2      let xx be the total number of pages in the boo...   \n",
              "3      \"50 * x = 120 - - > x = 2.4 - - > 2.4 expresse...   \n",
              "4      if girls is 10 and boys is 20 , then 10 / 20 ....   \n",
              "...                                                  ...   \n",
              "29832  \"solution for an income of rs . 1 in 10 % stoc...   \n",
              "29833  \"explanation : average after 11 innings should...   \n",
              "29834  1 . subtract 1 from both sides : 2 x + 1 - 1 =...   \n",
              "29835  \"answer let 85184 ÷ x = 242 then x = 85184 / 2...   \n",
              "29836  mean = 8.1 standard deviation = 0.4 within 1.5...   \n",
              "\n",
              "                                                 options correct  \\\n",
              "0      a ) rs . 400 , b ) rs . 300 , c ) rs . 500 , d...       a   \n",
              "1      a ) 1200 , b ) 120 , c ) 360 , d ) 240 , e ) n...       d   \n",
              "2        a ) 229 , b ) 270 , c ) 877 , d ) 266 , e ) 281       b   \n",
              "3      a ) 5 % , b ) 240 % , c ) 50 % , d ) 2 % , e )...       b   \n",
              "4      a ) 1 / 2 , b ) 1 / 3 , c ) 1 / 5 , d ) 10 / 3...       a   \n",
              "...                                                  ...     ...   \n",
              "29832  a ) 1 : 2 , b ) 3 : 5 , c ) 4 : 5 , d ) 16 : 1...       a   \n",
              "29833  a ) a ) 70 , b ) b ) 76 , c ) c ) 78 , d ) d )...       d   \n",
              "29834    a ) - 8 , b ) - 9 , c ) - 12 , d ) - 4 , e ) 12       c   \n",
              "29835    a ) 241 , b ) 242 , c ) 244 , d ) 247 , e ) 240       b   \n",
              "29836  a ) four , b ) six , c ) nine , d ) ten , e ) ...       e   \n",
              "\n",
              "                                       annotated_formula  \\\n",
              "0      divide(multiply(const_100, divide(multiply(36,...   \n",
              "1      multiply(divide(subtract(multiply(add(32, 4), ...   \n",
              "2            divide(90, subtract(const_1, divide(2, 3)))   \n",
              "3                   multiply(divide(120, 50), const_100)   \n",
              "4                                         divide(10, 20)   \n",
              "...                                                  ...   \n",
              "29832  divide(multiply(90, const_2), multiply(90, con...   \n",
              "29833  subtract(multiply(add(32, 6), add(10, const_1)...   \n",
              "29834                      divide(negate(add(23, 1)), 2)   \n",
              "29835                               multiply(85184, 352)   \n",
              "29836        add(8.1, subtract(8.1, multiply(1.5, 0.4)))   \n",
              "\n",
              "                                          linear_formula category      answer  \n",
              "0      multiply(n2,const_100)|multiply(n0,n1)|divide(...     gain   rs . 400   \n",
              "1      add(n2,n3)|multiply(n1,n2)|multiply(n1,#0)|sub...  general        240   \n",
              "2       divide(n0,n1)|subtract(const_1,#0)|divide(n2,#1)  general        270   \n",
              "3                  divide(n0,n1)|multiply(#0,const_100)|     gain      240 %   \n",
              "4                                          divide(n0,n1)    other      1 / 2   \n",
              "...                                                  ...      ...         ...  \n",
              "29832  multiply(n1,const_2)|multiply(n3,const_3)|divi...    other      1 : 2   \n",
              "29833  add(n1,n2)|add(n0,const_1)|multiply(n0,n1)|mul...  general         98   \n",
              "29834                add(n1,n2)|negate(#0)|divide(#1,n0)  general       - 12   \n",
              "29835                                   multiply(n0,n1)|  general        242   \n",
              "29836     multiply(n17,n19)|subtract(n16,#0)|add(n16,#1)  general       nine   \n",
              "\n",
              "[29837 rows x 8 columns]"
            ]
          },
          "execution_count": 15,
          "metadata": {},
          "output_type": "execute_result"
        }
      ],
      "source": [
        "train_df['answer'] = answer\n",
        "train_df"
      ]
    },
    {
      "cell_type": "code",
      "execution_count": 16,
      "metadata": {
        "colab": {
          "base_uri": "https://localhost:8080/"
        },
        "id": "tfTrOVvEtbBu",
        "outputId": "9b9f0faa-5ea1-4827-d0d4-684add8a1610"
      },
      "outputs": [
        {
          "data": {
            "text/plain": [
              "((23869, 8), (2984, 8), (2984, 8))"
            ]
          },
          "execution_count": 16,
          "metadata": {},
          "output_type": "execute_result"
        }
      ],
      "source": [
        "# Split the *train* dataset into train, validation, test\n",
        "from sklearn.model_selection import train_test_split\n",
        "\n",
        "train_df = train_df.rename(columns={'Problem':'text', 'answer':'label'})\n",
        "\n",
        "# 80% - train, 10% - validation, 10% - test\n",
        "# First, create 20% of the test dataset, then split it into validation and test dataset\n",
        "train, test = train_test_split(train_df, test_size=0.2, shuffle=False)\n",
        "val, test = train_test_split(test, test_size=0.5, shuffle=True)\n",
        "\n",
        "train = train.reset_index(drop=True)\n",
        "val = val.reset_index(drop=True)\n",
        "test = test.reset_index(drop=True)\n",
        "\n",
        "train.shape, val.shape, test.shape,"
      ]
    },
    {
      "cell_type": "markdown",
      "metadata": {
        "id": "tsRE57UEe4Pt"
      },
      "source": [
        "# Load MathBert pretrained model\n",
        "\n",
        "Use MathBert from Jia Tracy Shen, Michiharu Yamashita, Ethan Prihar, Neil Heffernan, Xintao Wu, Ben Graff, Dongwon Lee (2023) \"MathBERT: A Pre-trained Language Model for General NLP Tasks in Mathematics Education\". . doi:[10.48550/arXiv.2106.07340](https://doi.org/10.48550/arXiv.2106.07340)"
      ]
    },
    {
      "cell_type": "code",
      "execution_count": 17,
      "metadata": {
        "id": "a4yrQe9EfHR4"
      },
      "outputs": [],
      "source": [
        "# Create new index\n",
        "train_idx = [i for i in range(len(train.index))]\n",
        "test_idx = [i for i in range(len(test.index))]\n",
        "val_idx = [i for i in range(len(val.index))]\n",
        "\n",
        "# Convert to numpy\n",
        "x_train = train['text'].values[train_idx]\n",
        "x_test = test['text'].values[test_idx]\n",
        "x_val = val['text'].values[val_idx]\n",
        "\n",
        "y_train = train['label'].values[train_idx]\n",
        "y_test = test['label'].values[test_idx]\n",
        "y_val = val['label'].values[val_idx]\n"
      ]
    },
    {
      "cell_type": "code",
      "execution_count": 18,
      "metadata": {
        "id": "SSblP1PcrBkf"
      },
      "outputs": [],
      "source": [
        "from datasets import Dataset, load_dataset\n",
        "\n",
        "train = Dataset.from_pandas(train, preserve_index=False)\n",
        "val = Dataset.from_pandas(val, preserve_index=False)\n",
        "test = Dataset.from_pandas(test, preserve_index=False)"
      ]
    },
    {
      "cell_type": "code",
      "execution_count": 19,
      "metadata": {},
      "outputs": [
        {
          "name": "stderr",
          "output_type": "stream",
          "text": [
            "Some weights of the model checkpoint at tbs17/MathBERT-custom were not used when initializing BertForMaskedLM: ['bert.pooler.dense.bias', 'cls.seq_relationship.weight', 'bert.pooler.dense.weight', 'cls.seq_relationship.bias']\n",
            "- This IS expected if you are initializing BertForMaskedLM from the checkpoint of a model trained on another task or with another architecture (e.g. initializing a BertForSequenceClassification model from a BertForPreTraining model).\n",
            "- This IS NOT expected if you are initializing BertForMaskedLM from the checkpoint of a model that you expect to be exactly identical (initializing a BertForSequenceClassification model from a BertForSequenceClassification model).\n"
          ]
        }
      ],
      "source": [
        "# Pytorch Version is available via Hugging Face Transformers\n",
        "from transformers import AutoTokenizer\n",
        "from transformers import AutoModelForMaskedLM\n",
        "\n",
        "TEST_MODEL = r'tbs17/MathBERT-custom'\n",
        "\n",
        "# Download the MathBERT -basevocab\n",
        "# tokenizer = AutoTokenizer.from_pretrained(\"tbs17/MathBERT\")\n",
        "# model = AutoModelForMaskedLM.from_pretrained(\"tbs17/MathBERT\")\n",
        "\n",
        "# Download the MathBERT -mathvocab\n",
        "tokenizer = AutoTokenizer.from_pretrained(\"tbs17/MathBERT-custom\")\n",
        "model = AutoModelForMaskedLM.from_pretrained(\"tbs17/MathBERT-custom\")"
      ]
    },
    {
      "cell_type": "code",
      "execution_count": 20,
      "metadata": {},
      "outputs": [],
      "source": [
        "def tokenization(items):\n",
        "    tokenized = tokenizer(items['text'], max_length = 512, padding = 'max_length', truncation=True)\n",
        "    return tokenized\n",
        "\n",
        "def tokenization_labels(items):\n",
        "    tokenized = tokenizer(items['text'], max_length = 512, padding = 'max_length', truncation=True)\n",
        "    tokenized['label'] = tokenizer(items['label'], max_length = 512, padding = 'max_length', truncation=True)['input_ids']\n",
        "    return tokenized"
      ]
    },
    {
      "cell_type": "code",
      "execution_count": 21,
      "metadata": {},
      "outputs": [
        {
          "data": {
            "application/vnd.jupyter.widget-view+json": {
              "model_id": "c39c12906989440f9355acf1b5f49adb",
              "version_major": 2,
              "version_minor": 0
            },
            "text/plain": [
              "Map:   0%|          | 0/23869 [00:00<?, ? examples/s]"
            ]
          },
          "metadata": {},
          "output_type": "display_data"
        }
      ],
      "source": [
        "train = train.map(tokenization, batched=True)"
      ]
    },
    {
      "cell_type": "code",
      "execution_count": 22,
      "metadata": {},
      "outputs": [
        {
          "data": {
            "application/vnd.jupyter.widget-view+json": {
              "model_id": "3ba95a03659e4400b699db5012ebcd63",
              "version_major": 2,
              "version_minor": 0
            },
            "text/plain": [
              "Map:   0%|          | 0/2984 [00:00<?, ? examples/s]"
            ]
          },
          "metadata": {},
          "output_type": "display_data"
        }
      ],
      "source": [
        "val = val.map(tokenization, batched=True)"
      ]
    },
    {
      "cell_type": "code",
      "execution_count": 23,
      "metadata": {},
      "outputs": [
        {
          "data": {
            "application/vnd.jupyter.widget-view+json": {
              "model_id": "9541154c39f148ecb56d16abeaede1d9",
              "version_major": 2,
              "version_minor": 0
            },
            "text/plain": [
              "Map:   0%|          | 0/2984 [00:00<?, ? examples/s]"
            ]
          },
          "metadata": {},
          "output_type": "display_data"
        }
      ],
      "source": [
        "test = test.map(tokenization_labels, batched=True)"
      ]
    },
    {
      "cell_type": "code",
      "execution_count": 24,
      "metadata": {},
      "outputs": [],
      "source": [
        "from transformers import pipeline, TrainingArguments, Trainer, AutoModelForQuestionAnswering\n",
        "from trl import SFTTrainer\n",
        "import evaluate"
      ]
    },
    {
      "cell_type": "code",
      "execution_count": 33,
      "metadata": {},
      "outputs": [
        {
          "ename": "DeferredCudaCallError",
          "evalue": "CUDA call failed lazily at initialization with error: CUDA error: out of memory\nCUDA kernel errors might be asynchronously reported at some other API call, so the stacktrace below might be incorrect.\nFor debugging consider passing CUDA_LAUNCH_BLOCKING=1.\nCompile with `TORCH_USE_CUDA_DSA` to enable device-side assertions.\n\n\nCUDA call was originally invoked at:\n\n  File \"d:\\Anaconda3\\envs\\pytorch\\lib\\runpy.py\", line 196, in _run_module_as_main\n    return _run_code(code, main_globals, None,\n  File \"d:\\Anaconda3\\envs\\pytorch\\lib\\runpy.py\", line 86, in _run_code\n    exec(code, run_globals)\n  File \"d:\\Anaconda3\\envs\\pytorch\\lib\\site-packages\\ipykernel_launcher.py\", line 17, in <module>\n    app.launch_new_instance()\n  File \"d:\\Anaconda3\\envs\\pytorch\\lib\\site-packages\\traitlets\\config\\application.py\", line 1053, in launch_instance\n    app.start()\n  File \"d:\\Anaconda3\\envs\\pytorch\\lib\\site-packages\\ipykernel\\kernelapp.py\", line 737, in start\n    self.io_loop.start()\n  File \"d:\\Anaconda3\\envs\\pytorch\\lib\\site-packages\\tornado\\platform\\asyncio.py\", line 215, in start\n    self.asyncio_loop.run_forever()\n  File \"d:\\Anaconda3\\envs\\pytorch\\lib\\asyncio\\base_events.py\", line 603, in run_forever\n    self._run_once()\n  File \"d:\\Anaconda3\\envs\\pytorch\\lib\\asyncio\\base_events.py\", line 1909, in _run_once\n    handle._run()\n  File \"d:\\Anaconda3\\envs\\pytorch\\lib\\asyncio\\events.py\", line 80, in _run\n    self._context.run(self._callback, *self._args)\n  File \"d:\\Anaconda3\\envs\\pytorch\\lib\\site-packages\\ipykernel\\kernelbase.py\", line 524, in dispatch_queue\n    await self.process_one()\n  File \"d:\\Anaconda3\\envs\\pytorch\\lib\\site-packages\\ipykernel\\kernelbase.py\", line 513, in process_one\n    await dispatch(*args)\n  File \"d:\\Anaconda3\\envs\\pytorch\\lib\\site-packages\\ipykernel\\kernelbase.py\", line 418, in dispatch_shell\n    await result\n  File \"d:\\Anaconda3\\envs\\pytorch\\lib\\site-packages\\ipykernel\\kernelbase.py\", line 758, in execute_request\n    reply_content = await reply_content\n  File \"d:\\Anaconda3\\envs\\pytorch\\lib\\site-packages\\ipykernel\\ipkernel.py\", line 426, in do_execute\n    res = shell.run_cell(\n  File \"d:\\Anaconda3\\envs\\pytorch\\lib\\site-packages\\ipykernel\\zmqshell.py\", line 549, in run_cell\n    return super().run_cell(*args, **kwargs)\n  File \"d:\\Anaconda3\\envs\\pytorch\\lib\\site-packages\\IPython\\core\\interactiveshell.py\", line 3046, in run_cell\n    result = self._run_cell(\n  File \"d:\\Anaconda3\\envs\\pytorch\\lib\\site-packages\\IPython\\core\\interactiveshell.py\", line 3101, in _run_cell\n    result = runner(coro)\n  File \"d:\\Anaconda3\\envs\\pytorch\\lib\\site-packages\\IPython\\core\\async_helpers.py\", line 129, in _pseudo_sync_runner\n    coro.send(None)\n  File \"d:\\Anaconda3\\envs\\pytorch\\lib\\site-packages\\IPython\\core\\interactiveshell.py\", line 3306, in run_cell_async\n    has_raised = await self.run_ast_nodes(code_ast.body, cell_name,\n  File \"d:\\Anaconda3\\envs\\pytorch\\lib\\site-packages\\IPython\\core\\interactiveshell.py\", line 3488, in run_ast_nodes\n    if await self.run_code(code, result, async_=asy):\n  File \"d:\\Anaconda3\\envs\\pytorch\\lib\\site-packages\\IPython\\core\\interactiveshell.py\", line 3548, in run_code\n    exec(code_obj, self.user_global_ns, self.user_ns)\n  File \"C:\\Users\\user\\AppData\\Local\\Temp\\ipykernel_28084\\273462554.py\", line 13, in <module>\n    model = AutoModelForMaskedLM.from_pretrained(\"tbs17/MathBERT-custom\")\n  File \"d:\\Anaconda3\\envs\\pytorch\\lib\\site-packages\\transformers\\models\\auto\\auto_factory.py\", line 564, in from_pretrained\n    model_class = _get_model_class(config, cls._model_mapping)\n  File \"d:\\Anaconda3\\envs\\pytorch\\lib\\site-packages\\transformers\\models\\auto\\auto_factory.py\", line 387, in _get_model_class\n    supported_models = model_mapping[type(config)]\n  File \"d:\\Anaconda3\\envs\\pytorch\\lib\\site-packages\\transformers\\models\\auto\\auto_factory.py\", line 739, in __getitem__\n    return self._load_attr_from_module(model_type, model_name)\n  File \"d:\\Anaconda3\\envs\\pytorch\\lib\\site-packages\\transformers\\models\\auto\\auto_factory.py\", line 753, in _load_attr_from_module\n    return getattribute_from_module(self._modules[module_name], attr)\n  File \"d:\\Anaconda3\\envs\\pytorch\\lib\\site-packages\\transformers\\models\\auto\\auto_factory.py\", line 697, in getattribute_from_module\n    if hasattr(module, attr):\n  File \"d:\\Anaconda3\\envs\\pytorch\\lib\\site-packages\\transformers\\utils\\import_utils.py\", line 1272, in __getattr__\n    module = self._get_module(self._class_to_module[name])\n  File \"d:\\Anaconda3\\envs\\pytorch\\lib\\site-packages\\transformers\\utils\\import_utils.py\", line 1282, in _get_module\n    return importlib.import_module(\".\" + module_name, self.__name__)\n  File \"d:\\Anaconda3\\envs\\pytorch\\lib\\importlib\\__init__.py\", line 126, in import_module\n    return _bootstrap._gcd_import(name[level:], package, level)\n  File \"<frozen importlib._bootstrap>\", line 1050, in _gcd_import\n  File \"<frozen importlib._bootstrap>\", line 1027, in _find_and_load\n  File \"<frozen importlib._bootstrap>\", line 1006, in _find_and_load_unlocked\n  File \"<frozen importlib._bootstrap>\", line 688, in _load_unlocked\n  File \"<frozen importlib._bootstrap_external>\", line 883, in exec_module\n  File \"<frozen importlib._bootstrap>\", line 241, in _call_with_frames_removed\n  File \"d:\\Anaconda3\\envs\\pytorch\\lib\\site-packages\\transformers\\models\\bert\\modeling_bert.py\", line 25, in <module>\n    import torch\n  File \"<frozen importlib._bootstrap>\", line 1027, in _find_and_load\n  File \"<frozen importlib._bootstrap>\", line 1006, in _find_and_load_unlocked\n  File \"<frozen importlib._bootstrap>\", line 688, in _load_unlocked\n  File \"<frozen importlib._bootstrap_external>\", line 883, in exec_module\n  File \"<frozen importlib._bootstrap>\", line 241, in _call_with_frames_removed\n  File \"d:\\Anaconda3\\envs\\pytorch\\lib\\site-packages\\torch\\__init__.py\", line 1332, in <module>\n    _C._initExtension(manager_path())\n  File \"<frozen importlib._bootstrap>\", line 1027, in _find_and_load\n  File \"<frozen importlib._bootstrap>\", line 1006, in _find_and_load_unlocked\n  File \"<frozen importlib._bootstrap>\", line 688, in _load_unlocked\n  File \"<frozen importlib._bootstrap_external>\", line 883, in exec_module\n  File \"<frozen importlib._bootstrap>\", line 241, in _call_with_frames_removed\n  File \"d:\\Anaconda3\\envs\\pytorch\\lib\\site-packages\\torch\\cuda\\__init__.py\", line 244, in <module>\n    _lazy_call(_check_capability)\n  File \"d:\\Anaconda3\\envs\\pytorch\\lib\\site-packages\\torch\\cuda\\__init__.py\", line 241, in _lazy_call\n    _queued_calls.append((callable, traceback.format_stack()))\n",
          "output_type": "error",
          "traceback": [
            "\u001b[1;31m---------------------------------------------------------------------------\u001b[0m",
            "\u001b[1;31mRuntimeError\u001b[0m                              Traceback (most recent call last)",
            "File \u001b[1;32md:\\Anaconda3\\envs\\pytorch\\lib\\site-packages\\torch\\cuda\\__init__.py:311\u001b[0m, in \u001b[0;36m_lazy_init\u001b[1;34m()\u001b[0m\n\u001b[0;32m    310\u001b[0m \u001b[39mtry\u001b[39;00m:\n\u001b[1;32m--> 311\u001b[0m     queued_call()\n\u001b[0;32m    312\u001b[0m \u001b[39mexcept\u001b[39;00m \u001b[39mException\u001b[39;00m \u001b[39mas\u001b[39;00m e:\n",
            "File \u001b[1;32md:\\Anaconda3\\envs\\pytorch\\lib\\site-packages\\torch\\cuda\\__init__.py:180\u001b[0m, in \u001b[0;36m_check_capability\u001b[1;34m()\u001b[0m\n\u001b[0;32m    179\u001b[0m \u001b[39mfor\u001b[39;00m d \u001b[39min\u001b[39;00m \u001b[39mrange\u001b[39m(device_count()):\n\u001b[1;32m--> 180\u001b[0m     capability \u001b[39m=\u001b[39m get_device_capability(d)\n\u001b[0;32m    181\u001b[0m     major \u001b[39m=\u001b[39m capability[\u001b[39m0\u001b[39m]\n",
            "File \u001b[1;32md:\\Anaconda3\\envs\\pytorch\\lib\\site-packages\\torch\\cuda\\__init__.py:435\u001b[0m, in \u001b[0;36mget_device_capability\u001b[1;34m(device)\u001b[0m\n\u001b[0;32m    423\u001b[0m \u001b[39m\u001b[39m\u001b[39mr\u001b[39m\u001b[39m\"\"\"Gets the cuda capability of a device.\u001b[39;00m\n\u001b[0;32m    424\u001b[0m \n\u001b[0;32m    425\u001b[0m \u001b[39mArgs:\u001b[39;00m\n\u001b[1;32m   (...)\u001b[0m\n\u001b[0;32m    433\u001b[0m \u001b[39m    tuple(int, int): the major and minor cuda capability of the device\u001b[39;00m\n\u001b[0;32m    434\u001b[0m \u001b[39m\"\"\"\u001b[39;00m\n\u001b[1;32m--> 435\u001b[0m prop \u001b[39m=\u001b[39m get_device_properties(device)\n\u001b[0;32m    436\u001b[0m \u001b[39mreturn\u001b[39;00m prop\u001b[39m.\u001b[39mmajor, prop\u001b[39m.\u001b[39mminor\n",
            "File \u001b[1;32md:\\Anaconda3\\envs\\pytorch\\lib\\site-packages\\torch\\cuda\\__init__.py:453\u001b[0m, in \u001b[0;36mget_device_properties\u001b[1;34m(device)\u001b[0m\n\u001b[0;32m    452\u001b[0m     \u001b[39mraise\u001b[39;00m \u001b[39mAssertionError\u001b[39;00m(\u001b[39m\"\u001b[39m\u001b[39mInvalid device id\u001b[39m\u001b[39m\"\u001b[39m)\n\u001b[1;32m--> 453\u001b[0m \u001b[39mreturn\u001b[39;00m _get_device_properties(device)\n",
            "\u001b[1;31mRuntimeError\u001b[0m: CUDA error: out of memory\nCUDA kernel errors might be asynchronously reported at some other API call, so the stacktrace below might be incorrect.\nFor debugging consider passing CUDA_LAUNCH_BLOCKING=1.\nCompile with `TORCH_USE_CUDA_DSA` to enable device-side assertions.\n",
            "\nThe above exception was the direct cause of the following exception:\n",
            "\u001b[1;31mDeferredCudaCallError\u001b[0m                     Traceback (most recent call last)",
            "\u001b[1;32mf:\\Code\\Mathsage\\Mathsage.ipynb Cell 29\u001b[0m line \u001b[0;36m7\n\u001b[0;32m      <a href='vscode-notebook-cell:/f%3A/Code/Mathsage/Mathsage.ipynb#Y114sZmlsZQ%3D%3D?line=3'>4</a>\u001b[0m     output, labels \u001b[39m=\u001b[39m pred\n\u001b[0;32m      <a href='vscode-notebook-cell:/f%3A/Code/Mathsage/Mathsage.ipynb#Y114sZmlsZQ%3D%3D?line=4'>5</a>\u001b[0m     \u001b[39mreturn\u001b[39;00m metric\u001b[39m.\u001b[39mcompute(predictions\u001b[39m=\u001b[39mnp\u001b[39m.\u001b[39margmax(output, axis\u001b[39m=\u001b[39m\u001b[39m-\u001b[39m\u001b[39m1\u001b[39m), references\u001b[39m=\u001b[39mlabels)\n\u001b[1;32m----> <a href='vscode-notebook-cell:/f%3A/Code/Mathsage/Mathsage.ipynb#Y114sZmlsZQ%3D%3D?line=6'>7</a>\u001b[0m args \u001b[39m=\u001b[39m TrainingArguments(\n\u001b[0;32m      <a href='vscode-notebook-cell:/f%3A/Code/Mathsage/Mathsage.ipynb#Y114sZmlsZQ%3D%3D?line=7'>8</a>\u001b[0m     output_dir\u001b[39m=\u001b[39;49m\u001b[39m'\u001b[39;49m\u001b[39m./temp\u001b[39;49m\u001b[39m'\u001b[39;49m,\n\u001b[0;32m      <a href='vscode-notebook-cell:/f%3A/Code/Mathsage/Mathsage.ipynb#Y114sZmlsZQ%3D%3D?line=8'>9</a>\u001b[0m     evaluation_strategy\u001b[39m=\u001b[39;49m\u001b[39m\"\u001b[39;49m\u001b[39mepoch\u001b[39;49m\u001b[39m\"\u001b[39;49m, \u001b[39m# Reports the metric after each epoch\u001b[39;49;00m\n\u001b[0;32m     <a href='vscode-notebook-cell:/f%3A/Code/Mathsage/Mathsage.ipynb#Y114sZmlsZQ%3D%3D?line=9'>10</a>\u001b[0m     per_device_train_batch_size \u001b[39m=\u001b[39;49m \u001b[39m16\u001b[39;49m,\n\u001b[0;32m     <a href='vscode-notebook-cell:/f%3A/Code/Mathsage/Mathsage.ipynb#Y114sZmlsZQ%3D%3D?line=10'>11</a>\u001b[0m     per_device_eval_batch_size \u001b[39m=\u001b[39;49m \u001b[39m16\u001b[39;49m,\n\u001b[0;32m     <a href='vscode-notebook-cell:/f%3A/Code/Mathsage/Mathsage.ipynb#Y114sZmlsZQ%3D%3D?line=11'>12</a>\u001b[0m )\n\u001b[0;32m     <a href='vscode-notebook-cell:/f%3A/Code/Mathsage/Mathsage.ipynb#Y114sZmlsZQ%3D%3D?line=13'>14</a>\u001b[0m trainer \u001b[39m=\u001b[39m SFTTrainer(\n\u001b[0;32m     <a href='vscode-notebook-cell:/f%3A/Code/Mathsage/Mathsage.ipynb#Y114sZmlsZQ%3D%3D?line=14'>15</a>\u001b[0m     model \u001b[39m=\u001b[39m TEST_MODEL,\n\u001b[0;32m     <a href='vscode-notebook-cell:/f%3A/Code/Mathsage/Mathsage.ipynb#Y114sZmlsZQ%3D%3D?line=15'>16</a>\u001b[0m     args \u001b[39m=\u001b[39m args,\n\u001b[1;32m   (...)\u001b[0m\n\u001b[0;32m     <a href='vscode-notebook-cell:/f%3A/Code/Mathsage/Mathsage.ipynb#Y114sZmlsZQ%3D%3D?line=20'>21</a>\u001b[0m     dataset_text_field\u001b[39m=\u001b[39m\u001b[39m'\u001b[39m\u001b[39mtext\u001b[39m\u001b[39m'\u001b[39m,\n\u001b[0;32m     <a href='vscode-notebook-cell:/f%3A/Code/Mathsage/Mathsage.ipynb#Y114sZmlsZQ%3D%3D?line=21'>22</a>\u001b[0m )\n",
            "File \u001b[1;32m<string>:115\u001b[0m, in \u001b[0;36m__init__\u001b[1;34m(self, output_dir, overwrite_output_dir, do_train, do_eval, do_predict, evaluation_strategy, prediction_loss_only, per_device_train_batch_size, per_device_eval_batch_size, per_gpu_train_batch_size, per_gpu_eval_batch_size, gradient_accumulation_steps, eval_accumulation_steps, eval_delay, learning_rate, weight_decay, adam_beta1, adam_beta2, adam_epsilon, max_grad_norm, num_train_epochs, max_steps, lr_scheduler_type, warmup_ratio, warmup_steps, log_level, log_level_replica, log_on_each_node, logging_dir, logging_strategy, logging_first_step, logging_steps, logging_nan_inf_filter, save_strategy, save_steps, save_total_limit, save_safetensors, save_on_each_node, no_cuda, use_cpu, use_mps_device, seed, data_seed, jit_mode_eval, use_ipex, bf16, fp16, fp16_opt_level, half_precision_backend, bf16_full_eval, fp16_full_eval, tf32, local_rank, ddp_backend, tpu_num_cores, tpu_metrics_debug, debug, dataloader_drop_last, eval_steps, dataloader_num_workers, past_index, run_name, disable_tqdm, remove_unused_columns, label_names, load_best_model_at_end, metric_for_best_model, greater_is_better, ignore_data_skip, sharded_ddp, fsdp, fsdp_min_num_params, fsdp_config, fsdp_transformer_layer_cls_to_wrap, deepspeed, label_smoothing_factor, optim, optim_args, adafactor, group_by_length, length_column_name, report_to, ddp_find_unused_parameters, ddp_bucket_cap_mb, ddp_broadcast_buffers, dataloader_pin_memory, skip_memory_metrics, use_legacy_prediction_loop, push_to_hub, resume_from_checkpoint, hub_model_id, hub_strategy, hub_token, hub_private_repo, hub_always_push, gradient_checkpointing, include_inputs_for_metrics, fp16_backend, push_to_hub_model_id, push_to_hub_organization, push_to_hub_token, mp_parameters, auto_find_batch_size, full_determinism, torchdynamo, ray_scope, ddp_timeout, torch_compile, torch_compile_backend, torch_compile_mode, dispatch_batches, include_tokens_per_second)\u001b[0m\n",
            "File \u001b[1;32md:\\Anaconda3\\envs\\pytorch\\lib\\site-packages\\transformers\\training_args.py:1436\u001b[0m, in \u001b[0;36mTrainingArguments.__post_init__\u001b[1;34m(self)\u001b[0m\n\u001b[0;32m   1430\u001b[0m     \u001b[39mif\u001b[39;00m version\u001b[39m.\u001b[39mparse(version\u001b[39m.\u001b[39mparse(torch\u001b[39m.\u001b[39m__version__)\u001b[39m.\u001b[39mbase_version) \u001b[39m==\u001b[39m version\u001b[39m.\u001b[39mparse(\u001b[39m\"\u001b[39m\u001b[39m2.0.0\u001b[39m\u001b[39m\"\u001b[39m) \u001b[39mand\u001b[39;00m \u001b[39mself\u001b[39m\u001b[39m.\u001b[39mfp16:\n\u001b[0;32m   1431\u001b[0m         \u001b[39mraise\u001b[39;00m \u001b[39mValueError\u001b[39;00m(\u001b[39m\"\u001b[39m\u001b[39m--optim adamw_torch_fused with --fp16 requires PyTorch>2.0\u001b[39m\u001b[39m\"\u001b[39m)\n\u001b[0;32m   1433\u001b[0m \u001b[39mif\u001b[39;00m (\n\u001b[0;32m   1434\u001b[0m     \u001b[39mself\u001b[39m\u001b[39m.\u001b[39mframework \u001b[39m==\u001b[39m \u001b[39m\"\u001b[39m\u001b[39mpt\u001b[39m\u001b[39m\"\u001b[39m\n\u001b[0;32m   1435\u001b[0m     \u001b[39mand\u001b[39;00m is_torch_available()\n\u001b[1;32m-> 1436\u001b[0m     \u001b[39mand\u001b[39;00m (\u001b[39mself\u001b[39;49m\u001b[39m.\u001b[39;49mdevice\u001b[39m.\u001b[39mtype \u001b[39m!=\u001b[39m \u001b[39m\"\u001b[39m\u001b[39mcuda\u001b[39m\u001b[39m\"\u001b[39m)\n\u001b[0;32m   1437\u001b[0m     \u001b[39mand\u001b[39;00m (\u001b[39mself\u001b[39m\u001b[39m.\u001b[39mdevice\u001b[39m.\u001b[39mtype \u001b[39m!=\u001b[39m \u001b[39m\"\u001b[39m\u001b[39mnpu\u001b[39m\u001b[39m\"\u001b[39m)\n\u001b[0;32m   1438\u001b[0m     \u001b[39mand\u001b[39;00m (\u001b[39mself\u001b[39m\u001b[39m.\u001b[39mdevice\u001b[39m.\u001b[39mtype \u001b[39m!=\u001b[39m \u001b[39m\"\u001b[39m\u001b[39mxpu\u001b[39m\u001b[39m\"\u001b[39m)\n\u001b[0;32m   1439\u001b[0m     \u001b[39mand\u001b[39;00m (get_xla_device_type(\u001b[39mself\u001b[39m\u001b[39m.\u001b[39mdevice) \u001b[39m!=\u001b[39m \u001b[39m\"\u001b[39m\u001b[39mGPU\u001b[39m\u001b[39m\"\u001b[39m)\n\u001b[0;32m   1440\u001b[0m     \u001b[39mand\u001b[39;00m (\u001b[39mself\u001b[39m\u001b[39m.\u001b[39mfp16 \u001b[39mor\u001b[39;00m \u001b[39mself\u001b[39m\u001b[39m.\u001b[39mfp16_full_eval)\n\u001b[0;32m   1441\u001b[0m ):\n\u001b[0;32m   1442\u001b[0m     \u001b[39mraise\u001b[39;00m \u001b[39mValueError\u001b[39;00m(\n\u001b[0;32m   1443\u001b[0m         \u001b[39m\"\u001b[39m\u001b[39mFP16 Mixed precision training with AMP or APEX (`--fp16`) and FP16 half precision evaluation\u001b[39m\u001b[39m\"\u001b[39m\n\u001b[0;32m   1444\u001b[0m         \u001b[39m\"\u001b[39m\u001b[39m (`--fp16_full_eval`) can only be used on CUDA or NPU devices or certain XPU devices (with IPEX).\u001b[39m\u001b[39m\"\u001b[39m\n\u001b[0;32m   1445\u001b[0m     )\n\u001b[0;32m   1447\u001b[0m \u001b[39mif\u001b[39;00m (\n\u001b[0;32m   1448\u001b[0m     \u001b[39mself\u001b[39m\u001b[39m.\u001b[39mframework \u001b[39m==\u001b[39m \u001b[39m\"\u001b[39m\u001b[39mpt\u001b[39m\u001b[39m\"\u001b[39m\n\u001b[0;32m   1449\u001b[0m     \u001b[39mand\u001b[39;00m is_torch_available()\n\u001b[1;32m   (...)\u001b[0m\n\u001b[0;32m   1456\u001b[0m     \u001b[39mand\u001b[39;00m (\u001b[39mself\u001b[39m\u001b[39m.\u001b[39mbf16 \u001b[39mor\u001b[39;00m \u001b[39mself\u001b[39m\u001b[39m.\u001b[39mbf16_full_eval)\n\u001b[0;32m   1457\u001b[0m ):\n",
            "File \u001b[1;32md:\\Anaconda3\\envs\\pytorch\\lib\\site-packages\\transformers\\training_args.py:1901\u001b[0m, in \u001b[0;36mTrainingArguments.device\u001b[1;34m(self)\u001b[0m\n\u001b[0;32m   1897\u001b[0m \u001b[39m\u001b[39m\u001b[39m\"\"\"\u001b[39;00m\n\u001b[0;32m   1898\u001b[0m \u001b[39mThe device used by this process.\u001b[39;00m\n\u001b[0;32m   1899\u001b[0m \u001b[39m\"\"\"\u001b[39;00m\n\u001b[0;32m   1900\u001b[0m requires_backends(\u001b[39mself\u001b[39m, [\u001b[39m\"\u001b[39m\u001b[39mtorch\u001b[39m\u001b[39m\"\u001b[39m])\n\u001b[1;32m-> 1901\u001b[0m \u001b[39mreturn\u001b[39;00m \u001b[39mself\u001b[39;49m\u001b[39m.\u001b[39;49m_setup_devices\n",
            "File \u001b[1;32md:\\Anaconda3\\envs\\pytorch\\lib\\site-packages\\transformers\\utils\\generic.py:54\u001b[0m, in \u001b[0;36mcached_property.__get__\u001b[1;34m(self, obj, objtype)\u001b[0m\n\u001b[0;32m     52\u001b[0m cached \u001b[39m=\u001b[39m \u001b[39mgetattr\u001b[39m(obj, attr, \u001b[39mNone\u001b[39;00m)\n\u001b[0;32m     53\u001b[0m \u001b[39mif\u001b[39;00m cached \u001b[39mis\u001b[39;00m \u001b[39mNone\u001b[39;00m:\n\u001b[1;32m---> 54\u001b[0m     cached \u001b[39m=\u001b[39m \u001b[39mself\u001b[39;49m\u001b[39m.\u001b[39;49mfget(obj)\n\u001b[0;32m     55\u001b[0m     \u001b[39msetattr\u001b[39m(obj, attr, cached)\n\u001b[0;32m     56\u001b[0m \u001b[39mreturn\u001b[39;00m cached\n",
            "File \u001b[1;32md:\\Anaconda3\\envs\\pytorch\\lib\\site-packages\\transformers\\training_args.py:1892\u001b[0m, in \u001b[0;36mTrainingArguments._setup_devices\u001b[1;34m(self)\u001b[0m\n\u001b[0;32m   1890\u001b[0m         \u001b[39mself\u001b[39m\u001b[39m.\u001b[39m_n_gpu \u001b[39m=\u001b[39m torch\u001b[39m.\u001b[39mcuda\u001b[39m.\u001b[39mdevice_count()\n\u001b[0;32m   1891\u001b[0m         \u001b[39mif\u001b[39;00m device\u001b[39m.\u001b[39mtype \u001b[39m==\u001b[39m \u001b[39m\"\u001b[39m\u001b[39mcuda\u001b[39m\u001b[39m\"\u001b[39m:\n\u001b[1;32m-> 1892\u001b[0m             torch\u001b[39m.\u001b[39;49mcuda\u001b[39m.\u001b[39;49mset_device(device)\n\u001b[0;32m   1893\u001b[0m \u001b[39mreturn\u001b[39;00m device\n",
            "File \u001b[1;32md:\\Anaconda3\\envs\\pytorch\\lib\\site-packages\\torch\\cuda\\__init__.py:404\u001b[0m, in \u001b[0;36mset_device\u001b[1;34m(device)\u001b[0m\n\u001b[0;32m    402\u001b[0m device \u001b[39m=\u001b[39m _get_device_index(device)\n\u001b[0;32m    403\u001b[0m \u001b[39mif\u001b[39;00m device \u001b[39m>\u001b[39m\u001b[39m=\u001b[39m \u001b[39m0\u001b[39m:\n\u001b[1;32m--> 404\u001b[0m     torch\u001b[39m.\u001b[39;49m_C\u001b[39m.\u001b[39;49m_cuda_setDevice(device)\n",
            "File \u001b[1;32md:\\Anaconda3\\envs\\pytorch\\lib\\site-packages\\torch\\cuda\\__init__.py:317\u001b[0m, in \u001b[0;36m_lazy_init\u001b[1;34m()\u001b[0m\n\u001b[0;32m    312\u001b[0m         \u001b[39mexcept\u001b[39;00m \u001b[39mException\u001b[39;00m \u001b[39mas\u001b[39;00m e:\n\u001b[0;32m    313\u001b[0m             msg \u001b[39m=\u001b[39m (\n\u001b[0;32m    314\u001b[0m                 \u001b[39mf\u001b[39m\u001b[39m\"\u001b[39m\u001b[39mCUDA call failed lazily at initialization with error: \u001b[39m\u001b[39m{\u001b[39;00m\u001b[39mstr\u001b[39m(e)\u001b[39m}\u001b[39;00m\u001b[39m\\n\u001b[39;00m\u001b[39m\\n\u001b[39;00m\u001b[39m\"\u001b[39m\n\u001b[0;32m    315\u001b[0m                 \u001b[39mf\u001b[39m\u001b[39m\"\u001b[39m\u001b[39mCUDA call was originally invoked at:\u001b[39m\u001b[39m\\n\u001b[39;00m\u001b[39m\\n\u001b[39;00m\u001b[39m{\u001b[39;00m\u001b[39m'\u001b[39m\u001b[39m'\u001b[39m\u001b[39m.\u001b[39mjoin(orig_traceback)\u001b[39m}\u001b[39;00m\u001b[39m\"\u001b[39m\n\u001b[0;32m    316\u001b[0m             )\n\u001b[1;32m--> 317\u001b[0m             \u001b[39mraise\u001b[39;00m DeferredCudaCallError(msg) \u001b[39mfrom\u001b[39;00m \u001b[39me\u001b[39;00m\n\u001b[0;32m    318\u001b[0m \u001b[39mfinally\u001b[39;00m:\n\u001b[0;32m    319\u001b[0m     \u001b[39mdelattr\u001b[39m(_tls, \u001b[39m\"\u001b[39m\u001b[39mis_initializing\u001b[39m\u001b[39m\"\u001b[39m)\n",
            "\u001b[1;31mDeferredCudaCallError\u001b[0m: CUDA call failed lazily at initialization with error: CUDA error: out of memory\nCUDA kernel errors might be asynchronously reported at some other API call, so the stacktrace below might be incorrect.\nFor debugging consider passing CUDA_LAUNCH_BLOCKING=1.\nCompile with `TORCH_USE_CUDA_DSA` to enable device-side assertions.\n\n\nCUDA call was originally invoked at:\n\n  File \"d:\\Anaconda3\\envs\\pytorch\\lib\\runpy.py\", line 196, in _run_module_as_main\n    return _run_code(code, main_globals, None,\n  File \"d:\\Anaconda3\\envs\\pytorch\\lib\\runpy.py\", line 86, in _run_code\n    exec(code, run_globals)\n  File \"d:\\Anaconda3\\envs\\pytorch\\lib\\site-packages\\ipykernel_launcher.py\", line 17, in <module>\n    app.launch_new_instance()\n  File \"d:\\Anaconda3\\envs\\pytorch\\lib\\site-packages\\traitlets\\config\\application.py\", line 1053, in launch_instance\n    app.start()\n  File \"d:\\Anaconda3\\envs\\pytorch\\lib\\site-packages\\ipykernel\\kernelapp.py\", line 737, in start\n    self.io_loop.start()\n  File \"d:\\Anaconda3\\envs\\pytorch\\lib\\site-packages\\tornado\\platform\\asyncio.py\", line 215, in start\n    self.asyncio_loop.run_forever()\n  File \"d:\\Anaconda3\\envs\\pytorch\\lib\\asyncio\\base_events.py\", line 603, in run_forever\n    self._run_once()\n  File \"d:\\Anaconda3\\envs\\pytorch\\lib\\asyncio\\base_events.py\", line 1909, in _run_once\n    handle._run()\n  File \"d:\\Anaconda3\\envs\\pytorch\\lib\\asyncio\\events.py\", line 80, in _run\n    self._context.run(self._callback, *self._args)\n  File \"d:\\Anaconda3\\envs\\pytorch\\lib\\site-packages\\ipykernel\\kernelbase.py\", line 524, in dispatch_queue\n    await self.process_one()\n  File \"d:\\Anaconda3\\envs\\pytorch\\lib\\site-packages\\ipykernel\\kernelbase.py\", line 513, in process_one\n    await dispatch(*args)\n  File \"d:\\Anaconda3\\envs\\pytorch\\lib\\site-packages\\ipykernel\\kernelbase.py\", line 418, in dispatch_shell\n    await result\n  File \"d:\\Anaconda3\\envs\\pytorch\\lib\\site-packages\\ipykernel\\kernelbase.py\", line 758, in execute_request\n    reply_content = await reply_content\n  File \"d:\\Anaconda3\\envs\\pytorch\\lib\\site-packages\\ipykernel\\ipkernel.py\", line 426, in do_execute\n    res = shell.run_cell(\n  File \"d:\\Anaconda3\\envs\\pytorch\\lib\\site-packages\\ipykernel\\zmqshell.py\", line 549, in run_cell\n    return super().run_cell(*args, **kwargs)\n  File \"d:\\Anaconda3\\envs\\pytorch\\lib\\site-packages\\IPython\\core\\interactiveshell.py\", line 3046, in run_cell\n    result = self._run_cell(\n  File \"d:\\Anaconda3\\envs\\pytorch\\lib\\site-packages\\IPython\\core\\interactiveshell.py\", line 3101, in _run_cell\n    result = runner(coro)\n  File \"d:\\Anaconda3\\envs\\pytorch\\lib\\site-packages\\IPython\\core\\async_helpers.py\", line 129, in _pseudo_sync_runner\n    coro.send(None)\n  File \"d:\\Anaconda3\\envs\\pytorch\\lib\\site-packages\\IPython\\core\\interactiveshell.py\", line 3306, in run_cell_async\n    has_raised = await self.run_ast_nodes(code_ast.body, cell_name,\n  File \"d:\\Anaconda3\\envs\\pytorch\\lib\\site-packages\\IPython\\core\\interactiveshell.py\", line 3488, in run_ast_nodes\n    if await self.run_code(code, result, async_=asy):\n  File \"d:\\Anaconda3\\envs\\pytorch\\lib\\site-packages\\IPython\\core\\interactiveshell.py\", line 3548, in run_code\n    exec(code_obj, self.user_global_ns, self.user_ns)\n  File \"C:\\Users\\user\\AppData\\Local\\Temp\\ipykernel_28084\\273462554.py\", line 13, in <module>\n    model = AutoModelForMaskedLM.from_pretrained(\"tbs17/MathBERT-custom\")\n  File \"d:\\Anaconda3\\envs\\pytorch\\lib\\site-packages\\transformers\\models\\auto\\auto_factory.py\", line 564, in from_pretrained\n    model_class = _get_model_class(config, cls._model_mapping)\n  File \"d:\\Anaconda3\\envs\\pytorch\\lib\\site-packages\\transformers\\models\\auto\\auto_factory.py\", line 387, in _get_model_class\n    supported_models = model_mapping[type(config)]\n  File \"d:\\Anaconda3\\envs\\pytorch\\lib\\site-packages\\transformers\\models\\auto\\auto_factory.py\", line 739, in __getitem__\n    return self._load_attr_from_module(model_type, model_name)\n  File \"d:\\Anaconda3\\envs\\pytorch\\lib\\site-packages\\transformers\\models\\auto\\auto_factory.py\", line 753, in _load_attr_from_module\n    return getattribute_from_module(self._modules[module_name], attr)\n  File \"d:\\Anaconda3\\envs\\pytorch\\lib\\site-packages\\transformers\\models\\auto\\auto_factory.py\", line 697, in getattribute_from_module\n    if hasattr(module, attr):\n  File \"d:\\Anaconda3\\envs\\pytorch\\lib\\site-packages\\transformers\\utils\\import_utils.py\", line 1272, in __getattr__\n    module = self._get_module(self._class_to_module[name])\n  File \"d:\\Anaconda3\\envs\\pytorch\\lib\\site-packages\\transformers\\utils\\import_utils.py\", line 1282, in _get_module\n    return importlib.import_module(\".\" + module_name, self.__name__)\n  File \"d:\\Anaconda3\\envs\\pytorch\\lib\\importlib\\__init__.py\", line 126, in import_module\n    return _bootstrap._gcd_import(name[level:], package, level)\n  File \"<frozen importlib._bootstrap>\", line 1050, in _gcd_import\n  File \"<frozen importlib._bootstrap>\", line 1027, in _find_and_load\n  File \"<frozen importlib._bootstrap>\", line 1006, in _find_and_load_unlocked\n  File \"<frozen importlib._bootstrap>\", line 688, in _load_unlocked\n  File \"<frozen importlib._bootstrap_external>\", line 883, in exec_module\n  File \"<frozen importlib._bootstrap>\", line 241, in _call_with_frames_removed\n  File \"d:\\Anaconda3\\envs\\pytorch\\lib\\site-packages\\transformers\\models\\bert\\modeling_bert.py\", line 25, in <module>\n    import torch\n  File \"<frozen importlib._bootstrap>\", line 1027, in _find_and_load\n  File \"<frozen importlib._bootstrap>\", line 1006, in _find_and_load_unlocked\n  File \"<frozen importlib._bootstrap>\", line 688, in _load_unlocked\n  File \"<frozen importlib._bootstrap_external>\", line 883, in exec_module\n  File \"<frozen importlib._bootstrap>\", line 241, in _call_with_frames_removed\n  File \"d:\\Anaconda3\\envs\\pytorch\\lib\\site-packages\\torch\\__init__.py\", line 1332, in <module>\n    _C._initExtension(manager_path())\n  File \"<frozen importlib._bootstrap>\", line 1027, in _find_and_load\n  File \"<frozen importlib._bootstrap>\", line 1006, in _find_and_load_unlocked\n  File \"<frozen importlib._bootstrap>\", line 688, in _load_unlocked\n  File \"<frozen importlib._bootstrap_external>\", line 883, in exec_module\n  File \"<frozen importlib._bootstrap>\", line 241, in _call_with_frames_removed\n  File \"d:\\Anaconda3\\envs\\pytorch\\lib\\site-packages\\torch\\cuda\\__init__.py\", line 244, in <module>\n    _lazy_call(_check_capability)\n  File \"d:\\Anaconda3\\envs\\pytorch\\lib\\site-packages\\torch\\cuda\\__init__.py\", line 241, in _lazy_call\n    _queued_calls.append((callable, traceback.format_stack()))\n"
          ]
        }
      ],
      "source": [
        "metric = evaluate.load('f1')\n",
        "\n",
        "def compute_metrics(pred):\n",
        "    output, labels = pred\n",
        "    return metric.compute(predictions=np.argmax(output, axis=-1), references=labels)\n",
        "\n",
        "args = TrainingArguments(\n",
        "    # output_dir='./temp',\n",
        "    evaluation_strategy=\"epoch\", # Reports the metric after each epoch\n",
        "    per_device_train_batch_size = 16,\n",
        "    per_device_eval_batch_size = 16,\n",
        ")\n",
        "\n",
        "trainer = SFTTrainer(\n",
        "    model = TEST_MODEL,\n",
        "    args = args,\n",
        "    train_dataset = train,\n",
        "    eval_dataset = val,\n",
        "    tokenizer=tokenizer,\n",
        "    max_seq_length=512,\n",
        "    dataset_text_field='text',\n",
        ")"
      ]
    },
    {
      "cell_type": "code",
      "execution_count": 26,
      "metadata": {},
      "outputs": [
        {
          "ename": "NameError",
          "evalue": "name 'trainer' is not defined",
          "output_type": "error",
          "traceback": [
            "\u001b[1;31m---------------------------------------------------------------------------\u001b[0m",
            "\u001b[1;31mNameError\u001b[0m                                 Traceback (most recent call last)",
            "\u001b[1;32mf:\\Code\\Mathsage\\Mathsage.ipynb Cell 30\u001b[0m line \u001b[0;36m1\n\u001b[1;32m----> <a href='vscode-notebook-cell:/f%3A/Code/Mathsage/Mathsage.ipynb#Y115sZmlsZQ%3D%3D?line=0'>1</a>\u001b[0m trainer\u001b[39m.\u001b[39mtrain()\n",
            "\u001b[1;31mNameError\u001b[0m: name 'trainer' is not defined"
          ]
        }
      ],
      "source": [
        "trainer.train()"
      ]
    },
    {
      "cell_type": "code",
      "execution_count": null,
      "metadata": {},
      "outputs": [],
      "source": [
        "trainer.save_model('../data/MathBert_test')"
      ]
    },
    {
      "cell_type": "markdown",
      "metadata": {},
      "source": [
        "## Test fine-tuned model\n",
        "\n",
        "THe kernel kept crashing; Use Mathsage_test instead."
      ]
    },
    {
      "cell_type": "code",
      "execution_count": null,
      "metadata": {},
      "outputs": [
        {
          "name": "stderr",
          "output_type": "stream",
          "text": [
            "If you want to use `BertLMHeadModel` as a standalone, add `is_decoder=True.`\n"
          ]
        },
        {
          "ename": "",
          "evalue": "",
          "output_type": "error",
          "traceback": [
            "\u001b[1;31mThe Kernel crashed while executing code in the the current cell or a previous cell. Please review the code in the cell(s) to identify a possible cause of the failure. Click <a href='https://aka.ms/vscodeJupyterKernelCrash'>here</a> for more info. View Jupyter <a href='command:jupyter.viewOutput'>log</a> for further details."
          ]
        }
      ],
      "source": [
        "# from transformers import pipeline\n",
        "\n",
        "# # Load the fine-tuned model\n",
        "# model = pipeline('text2text-generation', model='../data/MathBert_test', tokenizer='tbs17/MathBERT-custom')\n",
        "\n",
        "# # Provide a math problem to the model\n",
        "# problem = \"What is the sum of 2 and 3?\"\n",
        "# result = model(problem, max_length=32, do_sample=False)\n",
        "\n",
        "# # Extract the answer from the generated text\n",
        "# answer = result\n",
        "# print(answer)"
      ]
    },
    {
      "cell_type": "code",
      "execution_count": null,
      "metadata": {},
      "outputs": [],
      "source": []
    }
  ],
  "metadata": {
    "colab": {
      "authorship_tag": "ABX9TyO/T8P6F5mmfYBa1jxtGmZr",
      "include_colab_link": true,
      "provenance": []
    },
    "kernelspec": {
      "display_name": "Python 3",
      "name": "python3"
    },
    "language_info": {
      "codemirror_mode": {
        "name": "ipython",
        "version": 3
      },
      "file_extension": ".py",
      "mimetype": "text/x-python",
      "name": "python",
      "nbconvert_exporter": "python",
      "pygments_lexer": "ipython3",
      "version": "3.10.13"
    },
    "widgets": {
      "application/vnd.jupyter.widget-state+json": {
        "02a473f69f744196b733c0d1528e4dc8": {
          "model_module": "@jupyter-widgets/base",
          "model_module_version": "1.2.0",
          "model_name": "LayoutModel",
          "state": {
            "_model_module": "@jupyter-widgets/base",
            "_model_module_version": "1.2.0",
            "_model_name": "LayoutModel",
            "_view_count": null,
            "_view_module": "@jupyter-widgets/base",
            "_view_module_version": "1.2.0",
            "_view_name": "LayoutView",
            "align_content": null,
            "align_items": null,
            "align_self": null,
            "border": null,
            "bottom": null,
            "display": null,
            "flex": null,
            "flex_flow": null,
            "grid_area": null,
            "grid_auto_columns": null,
            "grid_auto_flow": null,
            "grid_auto_rows": null,
            "grid_column": null,
            "grid_gap": null,
            "grid_row": null,
            "grid_template_areas": null,
            "grid_template_columns": null,
            "grid_template_rows": null,
            "height": null,
            "justify_content": null,
            "justify_items": null,
            "left": null,
            "margin": null,
            "max_height": null,
            "max_width": null,
            "min_height": null,
            "min_width": null,
            "object_fit": null,
            "object_position": null,
            "order": null,
            "overflow": null,
            "overflow_x": null,
            "overflow_y": null,
            "padding": null,
            "right": null,
            "top": null,
            "visibility": null,
            "width": null
          }
        },
        "0fa4064717d74f65a2378c8e0558222e": {
          "model_module": "@jupyter-widgets/controls",
          "model_module_version": "1.5.0",
          "model_name": "HBoxModel",
          "state": {
            "_dom_classes": [],
            "_model_module": "@jupyter-widgets/controls",
            "_model_module_version": "1.5.0",
            "_model_name": "HBoxModel",
            "_view_count": null,
            "_view_module": "@jupyter-widgets/controls",
            "_view_module_version": "1.5.0",
            "_view_name": "HBoxView",
            "box_style": "",
            "children": [
              "IPY_MODEL_802b6f078aa94e218e154607a7ca38fb",
              "IPY_MODEL_b2d4e4cfb5c147738dfcdf5aecc0a5f2",
              "IPY_MODEL_5b8e9c7c589d4c5d9a451fb9184339f3"
            ],
            "layout": "IPY_MODEL_02a473f69f744196b733c0d1528e4dc8"
          }
        },
        "11ccb7c7d53947d395f1730dc19a9a5f": {
          "model_module": "@jupyter-widgets/controls",
          "model_module_version": "1.5.0",
          "model_name": "HTMLModel",
          "state": {
            "_dom_classes": [],
            "_model_module": "@jupyter-widgets/controls",
            "_model_module_version": "1.5.0",
            "_model_name": "HTMLModel",
            "_view_count": null,
            "_view_module": "@jupyter-widgets/controls",
            "_view_module_version": "1.5.0",
            "_view_name": "HTMLView",
            "description": "",
            "description_tooltip": null,
            "layout": "IPY_MODEL_cdab5bc7bd6c4d54bb0e9e95477539d7",
            "placeholder": "​",
            "style": "IPY_MODEL_5e299b2b9cd54b2b99868f65c8e84f6d",
            "value": "Downloading (…)okenizer_config.json: 100%"
          }
        },
        "1b11f8952fb04527917ce5a12fa82fb9": {
          "model_module": "@jupyter-widgets/controls",
          "model_module_version": "1.5.0",
          "model_name": "DescriptionStyleModel",
          "state": {
            "_model_module": "@jupyter-widgets/controls",
            "_model_module_version": "1.5.0",
            "_model_name": "DescriptionStyleModel",
            "_view_count": null,
            "_view_module": "@jupyter-widgets/base",
            "_view_module_version": "1.2.0",
            "_view_name": "StyleView",
            "description_width": ""
          }
        },
        "1cbcc120d4aa4d18b43e63f31c26d88b": {
          "model_module": "@jupyter-widgets/base",
          "model_module_version": "1.2.0",
          "model_name": "LayoutModel",
          "state": {
            "_model_module": "@jupyter-widgets/base",
            "_model_module_version": "1.2.0",
            "_model_name": "LayoutModel",
            "_view_count": null,
            "_view_module": "@jupyter-widgets/base",
            "_view_module_version": "1.2.0",
            "_view_name": "LayoutView",
            "align_content": null,
            "align_items": null,
            "align_self": null,
            "border": null,
            "bottom": null,
            "display": null,
            "flex": null,
            "flex_flow": null,
            "grid_area": null,
            "grid_auto_columns": null,
            "grid_auto_flow": null,
            "grid_auto_rows": null,
            "grid_column": null,
            "grid_gap": null,
            "grid_row": null,
            "grid_template_areas": null,
            "grid_template_columns": null,
            "grid_template_rows": null,
            "height": null,
            "justify_content": null,
            "justify_items": null,
            "left": null,
            "margin": null,
            "max_height": null,
            "max_width": null,
            "min_height": null,
            "min_width": null,
            "object_fit": null,
            "object_position": null,
            "order": null,
            "overflow": null,
            "overflow_x": null,
            "overflow_y": null,
            "padding": null,
            "right": null,
            "top": null,
            "visibility": null,
            "width": null
          }
        },
        "22f9388a51ce40debc7036cc30550bec": {
          "model_module": "@jupyter-widgets/controls",
          "model_module_version": "1.5.0",
          "model_name": "DescriptionStyleModel",
          "state": {
            "_model_module": "@jupyter-widgets/controls",
            "_model_module_version": "1.5.0",
            "_model_name": "DescriptionStyleModel",
            "_view_count": null,
            "_view_module": "@jupyter-widgets/base",
            "_view_module_version": "1.2.0",
            "_view_name": "StyleView",
            "description_width": ""
          }
        },
        "24f16fe97013445a8dea36493e5e5fc4": {
          "model_module": "@jupyter-widgets/controls",
          "model_module_version": "1.5.0",
          "model_name": "FloatProgressModel",
          "state": {
            "_dom_classes": [],
            "_model_module": "@jupyter-widgets/controls",
            "_model_module_version": "1.5.0",
            "_model_name": "FloatProgressModel",
            "_view_count": null,
            "_view_module": "@jupyter-widgets/controls",
            "_view_module_version": "1.5.0",
            "_view_name": "ProgressView",
            "bar_style": "success",
            "description": "",
            "description_tooltip": null,
            "layout": "IPY_MODEL_4a701286a66f4f3aa02d73f1458ade92",
            "max": 466062,
            "min": 0,
            "orientation": "horizontal",
            "style": "IPY_MODEL_5c09e60e146a4ffcab96f948dbb99b47",
            "value": 466062
          }
        },
        "270ebaeec3444647a0a7b694c82de830": {
          "model_module": "@jupyter-widgets/base",
          "model_module_version": "1.2.0",
          "model_name": "LayoutModel",
          "state": {
            "_model_module": "@jupyter-widgets/base",
            "_model_module_version": "1.2.0",
            "_model_name": "LayoutModel",
            "_view_count": null,
            "_view_module": "@jupyter-widgets/base",
            "_view_module_version": "1.2.0",
            "_view_name": "LayoutView",
            "align_content": null,
            "align_items": null,
            "align_self": null,
            "border": null,
            "bottom": null,
            "display": null,
            "flex": null,
            "flex_flow": null,
            "grid_area": null,
            "grid_auto_columns": null,
            "grid_auto_flow": null,
            "grid_auto_rows": null,
            "grid_column": null,
            "grid_gap": null,
            "grid_row": null,
            "grid_template_areas": null,
            "grid_template_columns": null,
            "grid_template_rows": null,
            "height": null,
            "justify_content": null,
            "justify_items": null,
            "left": null,
            "margin": null,
            "max_height": null,
            "max_width": null,
            "min_height": null,
            "min_width": null,
            "object_fit": null,
            "object_position": null,
            "order": null,
            "overflow": null,
            "overflow_x": null,
            "overflow_y": null,
            "padding": null,
            "right": null,
            "top": null,
            "visibility": null,
            "width": null
          }
        },
        "273b46acfea24a89838707555e45e574": {
          "model_module": "@jupyter-widgets/controls",
          "model_module_version": "1.5.0",
          "model_name": "HTMLModel",
          "state": {
            "_dom_classes": [],
            "_model_module": "@jupyter-widgets/controls",
            "_model_module_version": "1.5.0",
            "_model_name": "HTMLModel",
            "_view_count": null,
            "_view_module": "@jupyter-widgets/controls",
            "_view_module_version": "1.5.0",
            "_view_name": "HTMLView",
            "description": "",
            "description_tooltip": null,
            "layout": "IPY_MODEL_eb9e410e12ac4d8a850217370e4a5bc5",
            "placeholder": "​",
            "style": "IPY_MODEL_3b9ac029f8764d18bcc72f301e256d54",
            "value": "Downloading (…)/main/tokenizer.json: 100%"
          }
        },
        "28269ec305574a2cae57ced89f03e006": {
          "model_module": "@jupyter-widgets/controls",
          "model_module_version": "1.5.0",
          "model_name": "DescriptionStyleModel",
          "state": {
            "_model_module": "@jupyter-widgets/controls",
            "_model_module_version": "1.5.0",
            "_model_name": "DescriptionStyleModel",
            "_view_count": null,
            "_view_module": "@jupyter-widgets/base",
            "_view_module_version": "1.2.0",
            "_view_name": "StyleView",
            "description_width": ""
          }
        },
        "37102d03637247b3ac2663378f20b210": {
          "model_module": "@jupyter-widgets/controls",
          "model_module_version": "1.5.0",
          "model_name": "FloatProgressModel",
          "state": {
            "_dom_classes": [],
            "_model_module": "@jupyter-widgets/controls",
            "_model_module_version": "1.5.0",
            "_model_name": "FloatProgressModel",
            "_view_count": null,
            "_view_module": "@jupyter-widgets/controls",
            "_view_module_version": "1.5.0",
            "_view_name": "ProgressView",
            "bar_style": "success",
            "description": "",
            "description_tooltip": null,
            "layout": "IPY_MODEL_1cbcc120d4aa4d18b43e63f31c26d88b",
            "max": 28,
            "min": 0,
            "orientation": "horizontal",
            "style": "IPY_MODEL_52bea83dbd8143cdbf75bd026fca902f",
            "value": 28
          }
        },
        "3b9ac029f8764d18bcc72f301e256d54": {
          "model_module": "@jupyter-widgets/controls",
          "model_module_version": "1.5.0",
          "model_name": "DescriptionStyleModel",
          "state": {
            "_model_module": "@jupyter-widgets/controls",
            "_model_module_version": "1.5.0",
            "_model_name": "DescriptionStyleModel",
            "_view_count": null,
            "_view_module": "@jupyter-widgets/base",
            "_view_module_version": "1.2.0",
            "_view_name": "StyleView",
            "description_width": ""
          }
        },
        "4311554995fb4ee8a28141fa1032febd": {
          "model_module": "@jupyter-widgets/controls",
          "model_module_version": "1.5.0",
          "model_name": "HBoxModel",
          "state": {
            "_dom_classes": [],
            "_model_module": "@jupyter-widgets/controls",
            "_model_module_version": "1.5.0",
            "_model_name": "HBoxModel",
            "_view_count": null,
            "_view_module": "@jupyter-widgets/controls",
            "_view_module_version": "1.5.0",
            "_view_name": "HBoxView",
            "box_style": "",
            "children": [
              "IPY_MODEL_11ccb7c7d53947d395f1730dc19a9a5f",
              "IPY_MODEL_37102d03637247b3ac2663378f20b210",
              "IPY_MODEL_61e98406c3bd496da07397532d1b1c7e"
            ],
            "layout": "IPY_MODEL_7e7efaddc54c4c1781c31016a8728d50"
          }
        },
        "43dda5c69cb74d00bdeb82401605528e": {
          "model_module": "@jupyter-widgets/controls",
          "model_module_version": "1.5.0",
          "model_name": "ProgressStyleModel",
          "state": {
            "_model_module": "@jupyter-widgets/controls",
            "_model_module_version": "1.5.0",
            "_model_name": "ProgressStyleModel",
            "_view_count": null,
            "_view_module": "@jupyter-widgets/base",
            "_view_module_version": "1.2.0",
            "_view_name": "StyleView",
            "bar_color": null,
            "description_width": ""
          }
        },
        "4a701286a66f4f3aa02d73f1458ade92": {
          "model_module": "@jupyter-widgets/base",
          "model_module_version": "1.2.0",
          "model_name": "LayoutModel",
          "state": {
            "_model_module": "@jupyter-widgets/base",
            "_model_module_version": "1.2.0",
            "_model_name": "LayoutModel",
            "_view_count": null,
            "_view_module": "@jupyter-widgets/base",
            "_view_module_version": "1.2.0",
            "_view_name": "LayoutView",
            "align_content": null,
            "align_items": null,
            "align_self": null,
            "border": null,
            "bottom": null,
            "display": null,
            "flex": null,
            "flex_flow": null,
            "grid_area": null,
            "grid_auto_columns": null,
            "grid_auto_flow": null,
            "grid_auto_rows": null,
            "grid_column": null,
            "grid_gap": null,
            "grid_row": null,
            "grid_template_areas": null,
            "grid_template_columns": null,
            "grid_template_rows": null,
            "height": null,
            "justify_content": null,
            "justify_items": null,
            "left": null,
            "margin": null,
            "max_height": null,
            "max_width": null,
            "min_height": null,
            "min_width": null,
            "object_fit": null,
            "object_position": null,
            "order": null,
            "overflow": null,
            "overflow_x": null,
            "overflow_y": null,
            "padding": null,
            "right": null,
            "top": null,
            "visibility": null,
            "width": null
          }
        },
        "4f784b935e2b4525849d95ff93a2fd98": {
          "model_module": "@jupyter-widgets/controls",
          "model_module_version": "1.5.0",
          "model_name": "ProgressStyleModel",
          "state": {
            "_model_module": "@jupyter-widgets/controls",
            "_model_module_version": "1.5.0",
            "_model_name": "ProgressStyleModel",
            "_view_count": null,
            "_view_module": "@jupyter-widgets/base",
            "_view_module_version": "1.2.0",
            "_view_name": "StyleView",
            "bar_color": null,
            "description_width": ""
          }
        },
        "52bea83dbd8143cdbf75bd026fca902f": {
          "model_module": "@jupyter-widgets/controls",
          "model_module_version": "1.5.0",
          "model_name": "ProgressStyleModel",
          "state": {
            "_model_module": "@jupyter-widgets/controls",
            "_model_module_version": "1.5.0",
            "_model_name": "ProgressStyleModel",
            "_view_count": null,
            "_view_module": "@jupyter-widgets/base",
            "_view_module_version": "1.2.0",
            "_view_name": "StyleView",
            "bar_color": null,
            "description_width": ""
          }
        },
        "5b8e9c7c589d4c5d9a451fb9184339f3": {
          "model_module": "@jupyter-widgets/controls",
          "model_module_version": "1.5.0",
          "model_name": "HTMLModel",
          "state": {
            "_dom_classes": [],
            "_model_module": "@jupyter-widgets/controls",
            "_model_module_version": "1.5.0",
            "_model_name": "HTMLModel",
            "_view_count": null,
            "_view_module": "@jupyter-widgets/controls",
            "_view_module_version": "1.5.0",
            "_view_name": "HTMLView",
            "description": "",
            "description_tooltip": null,
            "layout": "IPY_MODEL_693de11eb5d74776aec7d4949ebf03ee",
            "placeholder": "​",
            "style": "IPY_MODEL_28269ec305574a2cae57ced89f03e006",
            "value": " 569/569 [00:00&lt;00:00, 14.7kB/s]"
          }
        },
        "5c09e60e146a4ffcab96f948dbb99b47": {
          "model_module": "@jupyter-widgets/controls",
          "model_module_version": "1.5.0",
          "model_name": "ProgressStyleModel",
          "state": {
            "_model_module": "@jupyter-widgets/controls",
            "_model_module_version": "1.5.0",
            "_model_name": "ProgressStyleModel",
            "_view_count": null,
            "_view_module": "@jupyter-widgets/base",
            "_view_module_version": "1.2.0",
            "_view_name": "StyleView",
            "bar_color": null,
            "description_width": ""
          }
        },
        "5e299b2b9cd54b2b99868f65c8e84f6d": {
          "model_module": "@jupyter-widgets/controls",
          "model_module_version": "1.5.0",
          "model_name": "DescriptionStyleModel",
          "state": {
            "_model_module": "@jupyter-widgets/controls",
            "_model_module_version": "1.5.0",
            "_model_name": "DescriptionStyleModel",
            "_view_count": null,
            "_view_module": "@jupyter-widgets/base",
            "_view_module_version": "1.2.0",
            "_view_name": "StyleView",
            "description_width": ""
          }
        },
        "5e2b9f43b27543e3ab2e0a7cba629dda": {
          "model_module": "@jupyter-widgets/base",
          "model_module_version": "1.2.0",
          "model_name": "LayoutModel",
          "state": {
            "_model_module": "@jupyter-widgets/base",
            "_model_module_version": "1.2.0",
            "_model_name": "LayoutModel",
            "_view_count": null,
            "_view_module": "@jupyter-widgets/base",
            "_view_module_version": "1.2.0",
            "_view_name": "LayoutView",
            "align_content": null,
            "align_items": null,
            "align_self": null,
            "border": null,
            "bottom": null,
            "display": null,
            "flex": null,
            "flex_flow": null,
            "grid_area": null,
            "grid_auto_columns": null,
            "grid_auto_flow": null,
            "grid_auto_rows": null,
            "grid_column": null,
            "grid_gap": null,
            "grid_row": null,
            "grid_template_areas": null,
            "grid_template_columns": null,
            "grid_template_rows": null,
            "height": null,
            "justify_content": null,
            "justify_items": null,
            "left": null,
            "margin": null,
            "max_height": null,
            "max_width": null,
            "min_height": null,
            "min_width": null,
            "object_fit": null,
            "object_position": null,
            "order": null,
            "overflow": null,
            "overflow_x": null,
            "overflow_y": null,
            "padding": null,
            "right": null,
            "top": null,
            "visibility": null,
            "width": null
          }
        },
        "61e98406c3bd496da07397532d1b1c7e": {
          "model_module": "@jupyter-widgets/controls",
          "model_module_version": "1.5.0",
          "model_name": "HTMLModel",
          "state": {
            "_dom_classes": [],
            "_model_module": "@jupyter-widgets/controls",
            "_model_module_version": "1.5.0",
            "_model_name": "HTMLModel",
            "_view_count": null,
            "_view_module": "@jupyter-widgets/controls",
            "_view_module_version": "1.5.0",
            "_view_name": "HTMLView",
            "description": "",
            "description_tooltip": null,
            "layout": "IPY_MODEL_871d242512a9422e82058b13b195dede",
            "placeholder": "​",
            "style": "IPY_MODEL_ced20ac12ba245e78489e4b03f234413",
            "value": " 28.0/28.0 [00:00&lt;00:00, 376B/s]"
          }
        },
        "68024281b660450987a2fad23f9ef8c9": {
          "model_module": "@jupyter-widgets/controls",
          "model_module_version": "1.5.0",
          "model_name": "DescriptionStyleModel",
          "state": {
            "_model_module": "@jupyter-widgets/controls",
            "_model_module_version": "1.5.0",
            "_model_name": "DescriptionStyleModel",
            "_view_count": null,
            "_view_module": "@jupyter-widgets/base",
            "_view_module_version": "1.2.0",
            "_view_name": "StyleView",
            "description_width": ""
          }
        },
        "693de11eb5d74776aec7d4949ebf03ee": {
          "model_module": "@jupyter-widgets/base",
          "model_module_version": "1.2.0",
          "model_name": "LayoutModel",
          "state": {
            "_model_module": "@jupyter-widgets/base",
            "_model_module_version": "1.2.0",
            "_model_name": "LayoutModel",
            "_view_count": null,
            "_view_module": "@jupyter-widgets/base",
            "_view_module_version": "1.2.0",
            "_view_name": "LayoutView",
            "align_content": null,
            "align_items": null,
            "align_self": null,
            "border": null,
            "bottom": null,
            "display": null,
            "flex": null,
            "flex_flow": null,
            "grid_area": null,
            "grid_auto_columns": null,
            "grid_auto_flow": null,
            "grid_auto_rows": null,
            "grid_column": null,
            "grid_gap": null,
            "grid_row": null,
            "grid_template_areas": null,
            "grid_template_columns": null,
            "grid_template_rows": null,
            "height": null,
            "justify_content": null,
            "justify_items": null,
            "left": null,
            "margin": null,
            "max_height": null,
            "max_width": null,
            "min_height": null,
            "min_width": null,
            "object_fit": null,
            "object_position": null,
            "order": null,
            "overflow": null,
            "overflow_x": null,
            "overflow_y": null,
            "padding": null,
            "right": null,
            "top": null,
            "visibility": null,
            "width": null
          }
        },
        "6b1542278f804a24ad287f18080bd1db": {
          "model_module": "@jupyter-widgets/controls",
          "model_module_version": "1.5.0",
          "model_name": "HTMLModel",
          "state": {
            "_dom_classes": [],
            "_model_module": "@jupyter-widgets/controls",
            "_model_module_version": "1.5.0",
            "_model_name": "HTMLModel",
            "_view_count": null,
            "_view_module": "@jupyter-widgets/controls",
            "_view_module_version": "1.5.0",
            "_view_name": "HTMLView",
            "description": "",
            "description_tooltip": null,
            "layout": "IPY_MODEL_f61f1cba01014a7f8934ef2cc5f4888a",
            "placeholder": "​",
            "style": "IPY_MODEL_68024281b660450987a2fad23f9ef8c9",
            "value": " 466k/466k [00:00&lt;00:00, 1.96MB/s]"
          }
        },
        "7e7efaddc54c4c1781c31016a8728d50": {
          "model_module": "@jupyter-widgets/base",
          "model_module_version": "1.2.0",
          "model_name": "LayoutModel",
          "state": {
            "_model_module": "@jupyter-widgets/base",
            "_model_module_version": "1.2.0",
            "_model_name": "LayoutModel",
            "_view_count": null,
            "_view_module": "@jupyter-widgets/base",
            "_view_module_version": "1.2.0",
            "_view_name": "LayoutView",
            "align_content": null,
            "align_items": null,
            "align_self": null,
            "border": null,
            "bottom": null,
            "display": null,
            "flex": null,
            "flex_flow": null,
            "grid_area": null,
            "grid_auto_columns": null,
            "grid_auto_flow": null,
            "grid_auto_rows": null,
            "grid_column": null,
            "grid_gap": null,
            "grid_row": null,
            "grid_template_areas": null,
            "grid_template_columns": null,
            "grid_template_rows": null,
            "height": null,
            "justify_content": null,
            "justify_items": null,
            "left": null,
            "margin": null,
            "max_height": null,
            "max_width": null,
            "min_height": null,
            "min_width": null,
            "object_fit": null,
            "object_position": null,
            "order": null,
            "overflow": null,
            "overflow_x": null,
            "overflow_y": null,
            "padding": null,
            "right": null,
            "top": null,
            "visibility": null,
            "width": null
          }
        },
        "802b6f078aa94e218e154607a7ca38fb": {
          "model_module": "@jupyter-widgets/controls",
          "model_module_version": "1.5.0",
          "model_name": "HTMLModel",
          "state": {
            "_dom_classes": [],
            "_model_module": "@jupyter-widgets/controls",
            "_model_module_version": "1.5.0",
            "_model_name": "HTMLModel",
            "_view_count": null,
            "_view_module": "@jupyter-widgets/controls",
            "_view_module_version": "1.5.0",
            "_view_name": "HTMLView",
            "description": "",
            "description_tooltip": null,
            "layout": "IPY_MODEL_9c7c312153974b5f933e6055042a5b43",
            "placeholder": "​",
            "style": "IPY_MODEL_1b11f8952fb04527917ce5a12fa82fb9",
            "value": "Downloading (…)lve/main/config.json: 100%"
          }
        },
        "8476125cb500477bb2e4c85975da4366": {
          "model_module": "@jupyter-widgets/base",
          "model_module_version": "1.2.0",
          "model_name": "LayoutModel",
          "state": {
            "_model_module": "@jupyter-widgets/base",
            "_model_module_version": "1.2.0",
            "_model_name": "LayoutModel",
            "_view_count": null,
            "_view_module": "@jupyter-widgets/base",
            "_view_module_version": "1.2.0",
            "_view_name": "LayoutView",
            "align_content": null,
            "align_items": null,
            "align_self": null,
            "border": null,
            "bottom": null,
            "display": null,
            "flex": null,
            "flex_flow": null,
            "grid_area": null,
            "grid_auto_columns": null,
            "grid_auto_flow": null,
            "grid_auto_rows": null,
            "grid_column": null,
            "grid_gap": null,
            "grid_row": null,
            "grid_template_areas": null,
            "grid_template_columns": null,
            "grid_template_rows": null,
            "height": null,
            "justify_content": null,
            "justify_items": null,
            "left": null,
            "margin": null,
            "max_height": null,
            "max_width": null,
            "min_height": null,
            "min_width": null,
            "object_fit": null,
            "object_position": null,
            "order": null,
            "overflow": null,
            "overflow_x": null,
            "overflow_y": null,
            "padding": null,
            "right": null,
            "top": null,
            "visibility": null,
            "width": null
          }
        },
        "871d242512a9422e82058b13b195dede": {
          "model_module": "@jupyter-widgets/base",
          "model_module_version": "1.2.0",
          "model_name": "LayoutModel",
          "state": {
            "_model_module": "@jupyter-widgets/base",
            "_model_module_version": "1.2.0",
            "_model_name": "LayoutModel",
            "_view_count": null,
            "_view_module": "@jupyter-widgets/base",
            "_view_module_version": "1.2.0",
            "_view_name": "LayoutView",
            "align_content": null,
            "align_items": null,
            "align_self": null,
            "border": null,
            "bottom": null,
            "display": null,
            "flex": null,
            "flex_flow": null,
            "grid_area": null,
            "grid_auto_columns": null,
            "grid_auto_flow": null,
            "grid_auto_rows": null,
            "grid_column": null,
            "grid_gap": null,
            "grid_row": null,
            "grid_template_areas": null,
            "grid_template_columns": null,
            "grid_template_rows": null,
            "height": null,
            "justify_content": null,
            "justify_items": null,
            "left": null,
            "margin": null,
            "max_height": null,
            "max_width": null,
            "min_height": null,
            "min_width": null,
            "object_fit": null,
            "object_position": null,
            "order": null,
            "overflow": null,
            "overflow_x": null,
            "overflow_y": null,
            "padding": null,
            "right": null,
            "top": null,
            "visibility": null,
            "width": null
          }
        },
        "8da50e2aa5c34a64b45edbf9a0bfba30": {
          "model_module": "@jupyter-widgets/controls",
          "model_module_version": "1.5.0",
          "model_name": "FloatProgressModel",
          "state": {
            "_dom_classes": [],
            "_model_module": "@jupyter-widgets/controls",
            "_model_module_version": "1.5.0",
            "_model_name": "FloatProgressModel",
            "_view_count": null,
            "_view_module": "@jupyter-widgets/controls",
            "_view_module_version": "1.5.0",
            "_view_name": "ProgressView",
            "bar_style": "success",
            "description": "",
            "description_tooltip": null,
            "layout": "IPY_MODEL_5e2b9f43b27543e3ab2e0a7cba629dda",
            "max": 440514422,
            "min": 0,
            "orientation": "horizontal",
            "style": "IPY_MODEL_4f784b935e2b4525849d95ff93a2fd98",
            "value": 440514422
          }
        },
        "8e46e9f994b946d8a7e3a58c10bf1ad7": {
          "model_module": "@jupyter-widgets/base",
          "model_module_version": "1.2.0",
          "model_name": "LayoutModel",
          "state": {
            "_model_module": "@jupyter-widgets/base",
            "_model_module_version": "1.2.0",
            "_model_name": "LayoutModel",
            "_view_count": null,
            "_view_module": "@jupyter-widgets/base",
            "_view_module_version": "1.2.0",
            "_view_name": "LayoutView",
            "align_content": null,
            "align_items": null,
            "align_self": null,
            "border": null,
            "bottom": null,
            "display": null,
            "flex": null,
            "flex_flow": null,
            "grid_area": null,
            "grid_auto_columns": null,
            "grid_auto_flow": null,
            "grid_auto_rows": null,
            "grid_column": null,
            "grid_gap": null,
            "grid_row": null,
            "grid_template_areas": null,
            "grid_template_columns": null,
            "grid_template_rows": null,
            "height": null,
            "justify_content": null,
            "justify_items": null,
            "left": null,
            "margin": null,
            "max_height": null,
            "max_width": null,
            "min_height": null,
            "min_width": null,
            "object_fit": null,
            "object_position": null,
            "order": null,
            "overflow": null,
            "overflow_x": null,
            "overflow_y": null,
            "padding": null,
            "right": null,
            "top": null,
            "visibility": null,
            "width": null
          }
        },
        "9c7c312153974b5f933e6055042a5b43": {
          "model_module": "@jupyter-widgets/base",
          "model_module_version": "1.2.0",
          "model_name": "LayoutModel",
          "state": {
            "_model_module": "@jupyter-widgets/base",
            "_model_module_version": "1.2.0",
            "_model_name": "LayoutModel",
            "_view_count": null,
            "_view_module": "@jupyter-widgets/base",
            "_view_module_version": "1.2.0",
            "_view_name": "LayoutView",
            "align_content": null,
            "align_items": null,
            "align_self": null,
            "border": null,
            "bottom": null,
            "display": null,
            "flex": null,
            "flex_flow": null,
            "grid_area": null,
            "grid_auto_columns": null,
            "grid_auto_flow": null,
            "grid_auto_rows": null,
            "grid_column": null,
            "grid_gap": null,
            "grid_row": null,
            "grid_template_areas": null,
            "grid_template_columns": null,
            "grid_template_rows": null,
            "height": null,
            "justify_content": null,
            "justify_items": null,
            "left": null,
            "margin": null,
            "max_height": null,
            "max_width": null,
            "min_height": null,
            "min_width": null,
            "object_fit": null,
            "object_position": null,
            "order": null,
            "overflow": null,
            "overflow_x": null,
            "overflow_y": null,
            "padding": null,
            "right": null,
            "top": null,
            "visibility": null,
            "width": null
          }
        },
        "a793ca500b6c4cc8b9ced7b407fc40e3": {
          "model_module": "@jupyter-widgets/controls",
          "model_module_version": "1.5.0",
          "model_name": "HBoxModel",
          "state": {
            "_dom_classes": [],
            "_model_module": "@jupyter-widgets/controls",
            "_model_module_version": "1.5.0",
            "_model_name": "HBoxModel",
            "_view_count": null,
            "_view_module": "@jupyter-widgets/controls",
            "_view_module_version": "1.5.0",
            "_view_name": "HBoxView",
            "box_style": "",
            "children": [
              "IPY_MODEL_273b46acfea24a89838707555e45e574",
              "IPY_MODEL_24f16fe97013445a8dea36493e5e5fc4",
              "IPY_MODEL_6b1542278f804a24ad287f18080bd1db"
            ],
            "layout": "IPY_MODEL_f278f90290a3457dab1237a6c144454f"
          }
        },
        "b1f3e9f78e82451eafeb08887b84ffda": {
          "model_module": "@jupyter-widgets/controls",
          "model_module_version": "1.5.0",
          "model_name": "HTMLModel",
          "state": {
            "_dom_classes": [],
            "_model_module": "@jupyter-widgets/controls",
            "_model_module_version": "1.5.0",
            "_model_name": "HTMLModel",
            "_view_count": null,
            "_view_module": "@jupyter-widgets/controls",
            "_view_module_version": "1.5.0",
            "_view_name": "HTMLView",
            "description": "",
            "description_tooltip": null,
            "layout": "IPY_MODEL_8e46e9f994b946d8a7e3a58c10bf1ad7",
            "placeholder": "​",
            "style": "IPY_MODEL_b46ede17ad7444cd9921feb59ba09189",
            "value": " 441M/441M [00:13&lt;00:00, 35.1MB/s]"
          }
        },
        "b2d4e4cfb5c147738dfcdf5aecc0a5f2": {
          "model_module": "@jupyter-widgets/controls",
          "model_module_version": "1.5.0",
          "model_name": "FloatProgressModel",
          "state": {
            "_dom_classes": [],
            "_model_module": "@jupyter-widgets/controls",
            "_model_module_version": "1.5.0",
            "_model_name": "FloatProgressModel",
            "_view_count": null,
            "_view_module": "@jupyter-widgets/controls",
            "_view_module_version": "1.5.0",
            "_view_name": "ProgressView",
            "bar_style": "success",
            "description": "",
            "description_tooltip": null,
            "layout": "IPY_MODEL_8476125cb500477bb2e4c85975da4366",
            "max": 569,
            "min": 0,
            "orientation": "horizontal",
            "style": "IPY_MODEL_43dda5c69cb74d00bdeb82401605528e",
            "value": 569
          }
        },
        "b46ede17ad7444cd9921feb59ba09189": {
          "model_module": "@jupyter-widgets/controls",
          "model_module_version": "1.5.0",
          "model_name": "DescriptionStyleModel",
          "state": {
            "_model_module": "@jupyter-widgets/controls",
            "_model_module_version": "1.5.0",
            "_model_name": "DescriptionStyleModel",
            "_view_count": null,
            "_view_module": "@jupyter-widgets/base",
            "_view_module_version": "1.2.0",
            "_view_name": "StyleView",
            "description_width": ""
          }
        },
        "bc76220f95b446de8bb75ad1df5ad069": {
          "model_module": "@jupyter-widgets/base",
          "model_module_version": "1.2.0",
          "model_name": "LayoutModel",
          "state": {
            "_model_module": "@jupyter-widgets/base",
            "_model_module_version": "1.2.0",
            "_model_name": "LayoutModel",
            "_view_count": null,
            "_view_module": "@jupyter-widgets/base",
            "_view_module_version": "1.2.0",
            "_view_name": "LayoutView",
            "align_content": null,
            "align_items": null,
            "align_self": null,
            "border": null,
            "bottom": null,
            "display": null,
            "flex": null,
            "flex_flow": null,
            "grid_area": null,
            "grid_auto_columns": null,
            "grid_auto_flow": null,
            "grid_auto_rows": null,
            "grid_column": null,
            "grid_gap": null,
            "grid_row": null,
            "grid_template_areas": null,
            "grid_template_columns": null,
            "grid_template_rows": null,
            "height": null,
            "justify_content": null,
            "justify_items": null,
            "left": null,
            "margin": null,
            "max_height": null,
            "max_width": null,
            "min_height": null,
            "min_width": null,
            "object_fit": null,
            "object_position": null,
            "order": null,
            "overflow": null,
            "overflow_x": null,
            "overflow_y": null,
            "padding": null,
            "right": null,
            "top": null,
            "visibility": null,
            "width": null
          }
        },
        "c00f11a703aa47b590886c7c8b844bfe": {
          "model_module": "@jupyter-widgets/controls",
          "model_module_version": "1.5.0",
          "model_name": "HTMLModel",
          "state": {
            "_dom_classes": [],
            "_model_module": "@jupyter-widgets/controls",
            "_model_module_version": "1.5.0",
            "_model_name": "HTMLModel",
            "_view_count": null,
            "_view_module": "@jupyter-widgets/controls",
            "_view_module_version": "1.5.0",
            "_view_name": "HTMLView",
            "description": "",
            "description_tooltip": null,
            "layout": "IPY_MODEL_270ebaeec3444647a0a7b694c82de830",
            "placeholder": "​",
            "style": "IPY_MODEL_22f9388a51ce40debc7036cc30550bec",
            "value": "Downloading pytorch_model.bin: 100%"
          }
        },
        "cbc0dfc9c1c54273b4d891794d572b2b": {
          "model_module": "@jupyter-widgets/controls",
          "model_module_version": "1.5.0",
          "model_name": "HBoxModel",
          "state": {
            "_dom_classes": [],
            "_model_module": "@jupyter-widgets/controls",
            "_model_module_version": "1.5.0",
            "_model_name": "HBoxModel",
            "_view_count": null,
            "_view_module": "@jupyter-widgets/controls",
            "_view_module_version": "1.5.0",
            "_view_name": "HBoxView",
            "box_style": "",
            "children": [
              "IPY_MODEL_c00f11a703aa47b590886c7c8b844bfe",
              "IPY_MODEL_8da50e2aa5c34a64b45edbf9a0bfba30",
              "IPY_MODEL_b1f3e9f78e82451eafeb08887b84ffda"
            ],
            "layout": "IPY_MODEL_bc76220f95b446de8bb75ad1df5ad069"
          }
        },
        "cdab5bc7bd6c4d54bb0e9e95477539d7": {
          "model_module": "@jupyter-widgets/base",
          "model_module_version": "1.2.0",
          "model_name": "LayoutModel",
          "state": {
            "_model_module": "@jupyter-widgets/base",
            "_model_module_version": "1.2.0",
            "_model_name": "LayoutModel",
            "_view_count": null,
            "_view_module": "@jupyter-widgets/base",
            "_view_module_version": "1.2.0",
            "_view_name": "LayoutView",
            "align_content": null,
            "align_items": null,
            "align_self": null,
            "border": null,
            "bottom": null,
            "display": null,
            "flex": null,
            "flex_flow": null,
            "grid_area": null,
            "grid_auto_columns": null,
            "grid_auto_flow": null,
            "grid_auto_rows": null,
            "grid_column": null,
            "grid_gap": null,
            "grid_row": null,
            "grid_template_areas": null,
            "grid_template_columns": null,
            "grid_template_rows": null,
            "height": null,
            "justify_content": null,
            "justify_items": null,
            "left": null,
            "margin": null,
            "max_height": null,
            "max_width": null,
            "min_height": null,
            "min_width": null,
            "object_fit": null,
            "object_position": null,
            "order": null,
            "overflow": null,
            "overflow_x": null,
            "overflow_y": null,
            "padding": null,
            "right": null,
            "top": null,
            "visibility": null,
            "width": null
          }
        },
        "ced20ac12ba245e78489e4b03f234413": {
          "model_module": "@jupyter-widgets/controls",
          "model_module_version": "1.5.0",
          "model_name": "DescriptionStyleModel",
          "state": {
            "_model_module": "@jupyter-widgets/controls",
            "_model_module_version": "1.5.0",
            "_model_name": "DescriptionStyleModel",
            "_view_count": null,
            "_view_module": "@jupyter-widgets/base",
            "_view_module_version": "1.2.0",
            "_view_name": "StyleView",
            "description_width": ""
          }
        },
        "eb9e410e12ac4d8a850217370e4a5bc5": {
          "model_module": "@jupyter-widgets/base",
          "model_module_version": "1.2.0",
          "model_name": "LayoutModel",
          "state": {
            "_model_module": "@jupyter-widgets/base",
            "_model_module_version": "1.2.0",
            "_model_name": "LayoutModel",
            "_view_count": null,
            "_view_module": "@jupyter-widgets/base",
            "_view_module_version": "1.2.0",
            "_view_name": "LayoutView",
            "align_content": null,
            "align_items": null,
            "align_self": null,
            "border": null,
            "bottom": null,
            "display": null,
            "flex": null,
            "flex_flow": null,
            "grid_area": null,
            "grid_auto_columns": null,
            "grid_auto_flow": null,
            "grid_auto_rows": null,
            "grid_column": null,
            "grid_gap": null,
            "grid_row": null,
            "grid_template_areas": null,
            "grid_template_columns": null,
            "grid_template_rows": null,
            "height": null,
            "justify_content": null,
            "justify_items": null,
            "left": null,
            "margin": null,
            "max_height": null,
            "max_width": null,
            "min_height": null,
            "min_width": null,
            "object_fit": null,
            "object_position": null,
            "order": null,
            "overflow": null,
            "overflow_x": null,
            "overflow_y": null,
            "padding": null,
            "right": null,
            "top": null,
            "visibility": null,
            "width": null
          }
        },
        "f278f90290a3457dab1237a6c144454f": {
          "model_module": "@jupyter-widgets/base",
          "model_module_version": "1.2.0",
          "model_name": "LayoutModel",
          "state": {
            "_model_module": "@jupyter-widgets/base",
            "_model_module_version": "1.2.0",
            "_model_name": "LayoutModel",
            "_view_count": null,
            "_view_module": "@jupyter-widgets/base",
            "_view_module_version": "1.2.0",
            "_view_name": "LayoutView",
            "align_content": null,
            "align_items": null,
            "align_self": null,
            "border": null,
            "bottom": null,
            "display": null,
            "flex": null,
            "flex_flow": null,
            "grid_area": null,
            "grid_auto_columns": null,
            "grid_auto_flow": null,
            "grid_auto_rows": null,
            "grid_column": null,
            "grid_gap": null,
            "grid_row": null,
            "grid_template_areas": null,
            "grid_template_columns": null,
            "grid_template_rows": null,
            "height": null,
            "justify_content": null,
            "justify_items": null,
            "left": null,
            "margin": null,
            "max_height": null,
            "max_width": null,
            "min_height": null,
            "min_width": null,
            "object_fit": null,
            "object_position": null,
            "order": null,
            "overflow": null,
            "overflow_x": null,
            "overflow_y": null,
            "padding": null,
            "right": null,
            "top": null,
            "visibility": null,
            "width": null
          }
        },
        "f61f1cba01014a7f8934ef2cc5f4888a": {
          "model_module": "@jupyter-widgets/base",
          "model_module_version": "1.2.0",
          "model_name": "LayoutModel",
          "state": {
            "_model_module": "@jupyter-widgets/base",
            "_model_module_version": "1.2.0",
            "_model_name": "LayoutModel",
            "_view_count": null,
            "_view_module": "@jupyter-widgets/base",
            "_view_module_version": "1.2.0",
            "_view_name": "LayoutView",
            "align_content": null,
            "align_items": null,
            "align_self": null,
            "border": null,
            "bottom": null,
            "display": null,
            "flex": null,
            "flex_flow": null,
            "grid_area": null,
            "grid_auto_columns": null,
            "grid_auto_flow": null,
            "grid_auto_rows": null,
            "grid_column": null,
            "grid_gap": null,
            "grid_row": null,
            "grid_template_areas": null,
            "grid_template_columns": null,
            "grid_template_rows": null,
            "height": null,
            "justify_content": null,
            "justify_items": null,
            "left": null,
            "margin": null,
            "max_height": null,
            "max_width": null,
            "min_height": null,
            "min_width": null,
            "object_fit": null,
            "object_position": null,
            "order": null,
            "overflow": null,
            "overflow_x": null,
            "overflow_y": null,
            "padding": null,
            "right": null,
            "top": null,
            "visibility": null,
            "width": null
          }
        }
      }
    }
  },
  "nbformat": 4,
  "nbformat_minor": 0
}
